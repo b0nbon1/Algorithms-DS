{
 "cells": [
  {
   "cell_type": "markdown",
   "metadata": {},
   "source": [
    "# Graph\n",
    "\n",
    "In computer science, a **graph** is an abstract data type \n",
    "that is meant to implement the undirected graph and \n",
    "directed graph concepts from mathematics, specifically\n",
    "the field of graph theory\n",
    "\n",
    "A graph data structure consists of a finite (and possibly \n",
    "mutable) set of vertices or nodes or points, together \n",
    "with a set of unordered pairs of these vertices for an \n",
    "undirected graph or a set of ordered pairs for a \n",
    "directed graph. These pairs are known as edges, arcs, \n",
    "or lines for an undirected graph and as arrows, \n",
    "directed edges, directed arcs, or directed lines \n",
    "for a directed graph. The vertices may be part of \n",
    "the graph structure, or may be external entities \n",
    "represented by integer indices or references.\n",
    "\n",
    "![Graph](https://www.tutorialspoint.com/data_structures_algorithms/images/graph.jpg)\n",
    "\n",
    "## References\n",
    "\n",
    "- [Wikipedia](https://en.wikipedia.org/wiki/Graph_(abstract_data_type))\n",
    "- [Introduction to Graphs on YouTube](https://www.youtube.com/watch?v=gXgEDyodOJU&index=9&list=PLLXdhg_r2hKA7DPDsunoDZ-Z769jWn4R8)\n",
    "- [Graphs representation on YouTube](https://www.youtube.com/watch?v=k1wraWzqtvQ&index=10&list=PLLXdhg_r2hKA7DPDsunoDZ-Z769jWn4R8)"
   ]
  },
  {
   "cell_type": "code",
   "execution_count": null,
   "metadata": {},
   "outputs": [],
   "source": [
    "class Graph:\n",
    "  def __init__(self, isDirected=False):\n",
    "    self.vertices = {}\n",
    "    self.edges = {}\n",
    "    self.isDirected = isDirected\n",
    "  \n",
    "  def addVertex(self, newVertex):\n",
    "    self.vertices[list(newVertex.keys())[0]] = newVertex\n",
    "\n",
    "    return self\n",
    "  \n",
    "  def getVertexByKey(self, vertexKey):\n",
    "    return self.vertices.get(vertexKey)\n",
    "\n",
    "  def getNeighbors(self, vertex):\n",
    "    return vertex.getNeighbors()\n",
    "  \n",
    "  def getAllVertices(self):\n",
    "    return self.vertices.values()\n",
    "  \n",
    "  def getAllEdges(self):\n",
    "    return self.edges.values()\n",
    "  \n",
    "  def addEdge(self, edge):\n",
    "    startVertex = self.getVertexByKey(list(edge.startVertex.keys())[0])\n",
    "    endVertex = self.getVertexByKey(list(edge.endVertex.keys())[0])\n",
    "\n",
    "    if not startVertex:\n",
    "      self.addVertex(edge.startVertex)\n",
    "      startVertex = self.getVertexByKey(list(edge.startVertex.keys())[0])\n",
    "    \n",
    "    if not endVertex:\n",
    "      self.\n"
   ]
  }
 ],
 "metadata": {
  "language_info": {
   "name": "python"
  },
  "orig_nbformat": 4
 },
 "nbformat": 4,
 "nbformat_minor": 2
}
