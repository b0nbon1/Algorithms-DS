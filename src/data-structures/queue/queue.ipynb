{
 "cells": [
  {
   "cell_type": "markdown",
   "id": "1846a798",
   "metadata": {},
   "source": [
    "### QUEUE\n",
    "Like Stack, Queue is a linear structure which follows a particular order in which the operations are performed. The order is First In First Out (FIFO).  A good example of queue is any queue of consumers for a resource where the consumer that came first is served first. \n",
    "The difference between stacks and queues is in removing. In a stack we remove the item the most recently added; in a queue, we remove the item the least recently added.\n",
    "\n",
    "##### Operations on Queue: \n",
    "Mainly the following four basic operations are performed on queue:\n",
    "**Enqueue:** Adds an item to the queue. If the queue is full, then it is said to be an Overflow condition. \n",
    "**Dequeue:** Removes an item from the queue. The items are popped in the same order in which they are pushed. If the queue is empty, then it is said to be an Underflow condition. \n",
    "Front: Get the front item from queue. \n",
    "Rear: Get the last item from queue. \n",
    "\n",
    "![Queues DS](./Queue.png)\n",
    "\n",
    "#### Array implementation Of Queue \n",
    "For implementing queue, we need to keep track of two indices, front and rear. We enqueue an item at the rear and dequeue an item from the front. If we simply increment front and rear indices, then there may be problems, the front may reach the end of the array. The solution to this problem is to increase front and rear in circular manner."
   ]
  },
  {
   "cell_type": "code",
   "execution_count": 1,
   "id": "a159603d",
   "metadata": {},
   "outputs": [
    {
     "name": "stdout",
     "output_type": "stream",
     "text": [
      "10 enqueued to queue\n",
      "20 enqueued to queue\n",
      "30 enqueued to queue\n",
      "40 enqueued to queue\n",
      "10 dequeued from queue\n",
      "Front item is 20\n",
      "Rear item is 40\n"
     ]
    }
   ],
   "source": [
    "\n",
    "# Python3 program for array implementation of queue\n",
    " \n",
    "# Class Queue to represent a queue\n",
    "class Queue:\n",
    " \n",
    "    # __init__ function\n",
    "    def __init__(self, capacity):\n",
    "        self.front = self.size = 0\n",
    "        self.rear = capacity -1\n",
    "        self.Q = [None]*capacity\n",
    "        self.capacity = capacity\n",
    "     \n",
    "    # Queue is full when size becomes\n",
    "    # equal to the capacity\n",
    "    def isFull(self):\n",
    "        return self.size == self.capacity\n",
    "     \n",
    "    # Queue is empty when size is 0\n",
    "    def isEmpty(self):\n",
    "        return self.size == 0\n",
    " \n",
    "    # Function to add an item to the queue.\n",
    "    # It changes rear and size\n",
    "    def EnQueue(self, item):\n",
    "        if self.isFull():\n",
    "            print(\"Full\")\n",
    "            return\n",
    "        self.rear = (self.rear + 1) % (self.capacity)\n",
    "        self.Q[self.rear] = item\n",
    "        self.size = self.size + 1\n",
    "        print(\"% s enqueued to queue\"  % str(item))\n",
    " \n",
    "    # Function to remove an item from queue.\n",
    "    # It changes front and size\n",
    "    def DeQueue(self):\n",
    "        if self.isEmpty():\n",
    "            print(\"Empty\")\n",
    "            return\n",
    "         \n",
    "        print(\"% s dequeued from queue\" % str(self.Q[self.front]))\n",
    "        self.front = (self.front + 1) % (self.capacity)\n",
    "        self.size = self.size -1\n",
    "         \n",
    "    # Function to get front of queue\n",
    "    def que_front(self):\n",
    "        if self.isEmpty():\n",
    "            print(\"Queue is empty\")\n",
    " \n",
    "        print(\"Front item is\", self.Q[self.front])\n",
    "         \n",
    "    # Function to get rear of queue\n",
    "    def que_rear(self):\n",
    "        if self.isEmpty():\n",
    "            print(\"Queue is empty\")\n",
    "        print(\"Rear item is\",  self.Q[self.rear])\n",
    " \n",
    " \n",
    "# Driver Code\n",
    "if __name__ == '__main__':\n",
    " \n",
    "    queue = Queue(30)\n",
    "    queue.EnQueue(10)\n",
    "    queue.EnQueue(20)\n",
    "    queue.EnQueue(30)\n",
    "    queue.EnQueue(40)\n",
    "    queue.DeQueue()\n",
    "    queue.que_front()\n",
    "    queue.que_rear()"
   ]
  },
  {
   "cell_type": "code",
   "execution_count": null,
   "id": "707d8dd5",
   "metadata": {},
   "outputs": [],
   "source": []
  }
 ],
 "metadata": {
  "kernelspec": {
   "display_name": "Python 3 (ipykernel)",
   "language": "python",
   "name": "python3"
  },
  "language_info": {
   "codemirror_mode": {
    "name": "ipython",
    "version": 3
   },
   "file_extension": ".py",
   "mimetype": "text/x-python",
   "name": "python",
   "nbconvert_exporter": "python",
   "pygments_lexer": "ipython3",
   "version": "3.9.7"
  }
 },
 "nbformat": 4,
 "nbformat_minor": 5
}
