{
 "cells": [
  {
   "cell_type": "markdown",
   "id": "e323b245",
   "metadata": {},
   "source": [
    "## What is a dynamic array?\n",
    "\n",
    "A dynamic array is similar to an array, but with the difference that its size can be dynamically modified at runtime. Don’t need to specify how much large an array beforehand. The elements of an array occupy a contiguous block of memory, and once created, its size cannot be changed. A dynamic array can, once the array is filled, allocate a bigger chunk of memory, copy the contents from the original array to this new space, and continue to fill the available slots.\n",
    "![dynamic array](./daynamic-array.png)\n",
    "\n",
    "We’ll be using a built in library called ctypes of python . Check out the documentation for more info, but its basically going to be used here as a raw array from the [ctypes module](https://docs.python.org/2/library/ctypes.html).\n",
    "\n",
    "\n",
    "### Dynamic Array Logic Implementation:\n",
    "\n",
    "The key is to provide means to grows an array **A** that stores the elements of a list. We can’t actually grow the array, its capacity is fixed. If an element is appended to a list at a time, when the underlying array is full, we need to perform following steps.\n",
    "\n",
    "1. Allocate a new array **B** with larger capacity (A commonly used rule for the new array is to have twice the capacity of the existing array )\n",
    "2. Set **B[i]=A[i]**, for **i=0** to **n-1** where n denotes the current no of items.\n",
    "3. Set **A=B** that is, we hence forth use B as the array of supporting list.\n",
    "4. Insert new element in the new array.\n",
    "\n",
    "    ![implement array](./darray.png)\n",
    " \n"
   ]
  },
  {
   "cell_type": "code",
   "execution_count": 3,
   "id": "5a65c9ed",
   "metadata": {},
   "outputs": [],
   "source": [
    "import ctypes\n",
    "  \n",
    "class DynamicArray(object):\n",
    "    '''\n",
    "    DYNAMIC ARRAY CLASS (Similar to Python List)\n",
    "    ''' \n",
    "    def __init__(self):\n",
    "        self.n = 0 # Count actual elements (Default is 0)\n",
    "        self.capacity = 1 # Default Capacity\n",
    "        self.A = self.make_array(self.capacity)\n",
    "          \n",
    "    def __len__(self):\n",
    "        \"\"\"\n",
    "        Return number of elements sorted in array\n",
    "        \"\"\"\n",
    "        return self.n\n",
    "      \n",
    "    def __getitem__(self, k):\n",
    "        \"\"\"\n",
    "        Return element at index k\n",
    "        \"\"\"\n",
    "        if not 0 <= k <self.n:\n",
    "            # Check it k index is in bounds of array\n",
    "            return IndexError('K is out of bounds !') \n",
    "          \n",
    "        return self.A[k] # Retrieve from the array at index k\n",
    "          \n",
    "    def append(self, ele):\n",
    "        \"\"\"\n",
    "        Add element to end of the array\n",
    "        \"\"\"\n",
    "        if self.n == self.capacity:\n",
    "            # Double capacity if not enough room\n",
    "            self._resize(2 * self.capacity)\n",
    "        self.A[self.n] = ele # Set self.n index to element\n",
    "        self.n += 1\n",
    "  \n",
    "    def insertAt(self,item,index):\n",
    "        \"\"\"\n",
    "         This function inserts the item at any specified index.\n",
    "        \"\"\"\n",
    "  \n",
    "          \n",
    "        if index<0 or index>self.n:\n",
    "            print(\"please enter appropriate index..\")\n",
    "            return\n",
    "          \n",
    "        if self.n==self.capacity:\n",
    "            self._resize(2*self.capacity)\n",
    "              \n",
    "          \n",
    "        for i in range(self.n-1,index-1,-1):\n",
    "            self.A[i+1]=self.A[i]\n",
    "              \n",
    "          \n",
    "        self.A[index]=item\n",
    "        self.n+=1\n",
    "  \n",
    "  \n",
    "          \n",
    "    def delete(self):\n",
    "        \"\"\"\n",
    "        This function deletes item from the end of array\n",
    "        \"\"\"\n",
    "  \n",
    "        if self.n==0:\n",
    "            print(\"Array is empty deletion not Possible\")\n",
    "            return\n",
    "          \n",
    "        self.A[self.n-1]=0\n",
    "        self.n-=1\n",
    "          \n",
    "          \n",
    "          \n",
    "      \n",
    "    def removeAt(self,index):\n",
    "        \"\"\"\n",
    "        This function deletes item from a specified index..\n",
    "        \"\"\"        \n",
    "  \n",
    "        if self.n==0:\n",
    "            print(\"Array is empty deletion not Possible\")\n",
    "            return\n",
    "                  \n",
    "        if index<0 or index>=self.n:\n",
    "            return IndexError(\"Index out of bound....deletion not possible\")        \n",
    "          \n",
    "        if index==self.n-1:\n",
    "            self.A[index]=0\n",
    "            self.n-=1\n",
    "            return        \n",
    "          \n",
    "        for i in range(index,self.n-1):\n",
    "            self.A[i]=self.A[i+1]            \n",
    "              \n",
    "          \n",
    "        self.A[self.n-1]=0\n",
    "        self.n-=1\n",
    "  \n",
    "          \n",
    "    def _resize(self, new_cap):\n",
    "        \"\"\"\n",
    "        Resize internal array to capacity new_cap\n",
    "        \"\"\"\n",
    "          \n",
    "        B = self.make_array(new_cap) # New bigger array\n",
    "          \n",
    "        for k in range(self.n): # Reference all existing values\n",
    "            B[k] = self.A[k]\n",
    "              \n",
    "        self.A = B # Call A the new bigger array\n",
    "        self.capacity = new_cap # Reset the capacity\n",
    "          \n",
    "    def make_array(self, new_cap):\n",
    "        \"\"\"\n",
    "        Returns a new array with new_cap capacity\n",
    "        \"\"\"\n",
    "        return (new_cap * ctypes.py_object)()"
   ]
  },
  {
   "cell_type": "code",
   "execution_count": 4,
   "id": "b80b9eee",
   "metadata": {},
   "outputs": [
    {
     "data": {
      "text/plain": [
       "1"
      ]
     },
     "execution_count": 4,
     "metadata": {},
     "output_type": "execute_result"
    }
   ],
   "source": [
    "# Instantiate\n",
    "arr = DynamicArray()\n",
    "# Append new element\n",
    "arr.append(1)\n",
    "len(arr)"
   ]
  },
  {
   "cell_type": "code",
   "execution_count": 5,
   "id": "4ba8517f",
   "metadata": {},
   "outputs": [
    {
     "data": {
      "text/plain": [
       "2"
      ]
     },
     "execution_count": 5,
     "metadata": {},
     "output_type": "execute_result"
    }
   ],
   "source": [
    "# Append new element\n",
    "arr.append(2)\n",
    "# Check length\n",
    "len(arr)"
   ]
  },
  {
   "cell_type": "code",
   "execution_count": 6,
   "id": "dfb8cbae",
   "metadata": {},
   "outputs": [
    {
     "data": {
      "text/plain": [
       "1"
      ]
     },
     "execution_count": 6,
     "metadata": {},
     "output_type": "execute_result"
    }
   ],
   "source": [
    "# Index\n",
    "arr[0]"
   ]
  },
  {
   "cell_type": "code",
   "execution_count": 7,
   "id": "2ea382ce",
   "metadata": {},
   "outputs": [
    {
     "data": {
      "text/plain": [
       "2"
      ]
     },
     "execution_count": 7,
     "metadata": {},
     "output_type": "execute_result"
    }
   ],
   "source": [
    "arr[1]"
   ]
  },
  {
   "cell_type": "code",
   "execution_count": null,
   "id": "4695b4a1",
   "metadata": {},
   "outputs": [],
   "source": []
  }
 ],
 "metadata": {
  "kernelspec": {
   "display_name": "Python 3 (ipykernel)",
   "language": "python",
   "name": "python3"
  },
  "language_info": {
   "codemirror_mode": {
    "name": "ipython",
    "version": 3
   },
   "file_extension": ".py",
   "mimetype": "text/x-python",
   "name": "python",
   "nbconvert_exporter": "python",
   "pygments_lexer": "ipython3",
   "version": "3.9.7"
  }
 },
 "nbformat": 4,
 "nbformat_minor": 5
}
