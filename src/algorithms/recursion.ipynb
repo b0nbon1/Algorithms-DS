{
 "cells": [
  {
   "cell_type": "markdown",
   "metadata": {},
   "source": [
    "# Recursions Examples"
   ]
  },
  {
   "cell_type": "code",
   "execution_count": 1,
   "metadata": {},
   "outputs": [
    {
     "name": "stdout",
     "output_type": "stream",
     "text": [
      "olleh\n"
     ]
    }
   ],
   "source": [
    "# reverse string recursion\n",
    "def reverseString(s):\n",
    "  if len(s) == 0:\n",
    "    return \"\"\n",
    "  return reverseString(s[1:]) + s[0]\n",
    "\n",
    "reverseString(\"hello\")\n"
   ]
  },
  {
   "cell_type": "code",
   "execution_count": 2,
   "metadata": {},
   "outputs": [
    {
     "name": "stdout",
     "output_type": "stream",
     "text": [
      "True\n"
     ]
    }
   ],
   "source": [
    "# isPalidrome recursive\n",
    "def isPalindrome(s):\n",
    "  if len(s) <= 1:\n",
    "    return True\n",
    "  if s[0] == s[-1]:\n",
    "    return isPalindrome(s[1:-1])\n",
    "  print(s[0], s[-1])\n",
    "  return False\n",
    "\n",
    "isPalindrome(\"racecar\")"
   ]
  },
  {
   "cell_type": "code",
   "execution_count": null,
   "metadata": {},
   "outputs": [],
   "source": [
    "# recursive summation\n",
    "def recursiveSum(n):\n",
    "  if n <= 1:\n",
    "    return n\n",
    "  return n + recursiveSum(n-1)\n",
    "recursiveSum(10)"
   ]
  },
  {
   "cell_type": "code",
   "execution_count": 3,
   "metadata": {},
   "outputs": [
    {
     "name": "stdout",
     "output_type": "stream",
     "text": [
      "11101001\n"
     ]
    }
   ],
   "source": [
    "# recursive decimal to binary\n",
    "def bintodec(d,b=''):\n",
    "  if d == 0:\n",
    "    return b\n",
    "  b = str(d%2) + b\n",
    "  return bintodec(d//2, b)\n",
    "\n",
    "bintodec(233)"
   ]
  },
  {
   "cell_type": "code",
   "execution_count": 4,
   "metadata": {},
   "outputs": [
    {
     "name": "stdout",
     "output_type": "stream",
     "text": [
      "9\n"
     ]
    }
   ],
   "source": [
    "# recursive binary search\n",
    "def binarySearch(arr, low, high, target):\n",
    "  if (low > high):\n",
    "    return -1\n",
    "  mid = (low+high)//2\n",
    "  if target == arr[mid]:\n",
    "    return mid\n",
    "  \n",
    "  if target < arr[mid]:\n",
    "    return binarySearch(arr, low, mid-1, target)\n",
    "  return binarySearch(arr,mid+1, high, target)\n",
    "\n",
    "binarySearch([1,2,4,6,7,9,11,15,29,30], 0, 9, 30)"
   ]
  },
  {
   "cell_type": "code",
   "execution_count": 5,
   "metadata": {},
   "outputs": [
    {
     "data": {
      "text/plain": [
       "5"
      ]
     },
     "execution_count": 5,
     "metadata": {},
     "output_type": "execute_result"
    }
   ],
   "source": [
    "# Fibonacci\n",
    "def fibonacci(n):\n",
    "  if n <= 1:\n",
    "    return n\n",
    "  else:\n",
    "    return fibonacci(n-1) + fibonacci(n-2)\n",
    "\n",
    "fibonacci(5)"
   ]
  },
  {
   "cell_type": "code",
   "execution_count": 10,
   "metadata": {},
   "outputs": [
    {
     "name": "stdout",
     "output_type": "stream",
     "text": [
      "[2, 0, 20, -5, 10, 3]\n"
     ]
    }
   ],
   "source": [
    "# Merge sort\n",
    "def mergeSort(arr, left, right):\n",
    "  if left < right:\n",
    "    mid = (left + right) // 2\n",
    "    mergeSort(arr, left, mid)\n",
    "    mergeSort(arr, mid + 1, right)\n",
    "    merge(arr, left, mid, right)\n",
    "\n",
    "def merge(arr, left, mid, right):\n",
    "  temp = [1]*(right-left +1)\n",
    "  i, j, k = left, mid+1, 0\n",
    "\n",
    "  # While both sub-array have values, then try and merge them in sorted order\n",
    "  while i <= mid and j <= right:\n",
    "    if arr[i] <= arr[j]:\n",
    "      temp[k] = arr[i]\n",
    "      k+=1\n",
    "      i+=1\n",
    "    else:\n",
    "      temp[k] = arr[j]\n",
    "      k+=1\n",
    "      j+=1\n",
    "  # add the rest of the values from the left sub array into the result\n",
    "  while (i <= mid):\n",
    "    temp[k] = arr[i]\n",
    "    k+=1\n",
    "    i+=1\n",
    "\n",
    "  # add the rest of the values from right sub-array into result\n",
    "  while j <= right:\n",
    "    temp[k] = arr[j]\n",
    "    k+=1\n",
    "    j+=1\n",
    "  \n",
    "  l = left\n",
    "  while l <= right:\n",
    "    arr[l] = temp[l-right]\n",
    "    l+=1\n",
    "\n",
    "\n",
    "data = [-5, 20,10, 3,2,0]\n",
    "mergeSort(data, 0, len(data)-1)\n",
    "\n",
    "print(data)\n"
   ]
  }
 ],
 "metadata": {
  "interpreter": {
   "hash": "31f2aee4e71d21fbe5cf8b01ff0e069b9275f58929596ceb00d14d90e3e16cd6"
  },
  "kernelspec": {
   "display_name": "Python 3.9.7 64-bit",
   "language": "python",
   "name": "python3"
  },
  "language_info": {
   "codemirror_mode": {
    "name": "ipython",
    "version": 3
   },
   "file_extension": ".py",
   "mimetype": "text/x-python",
   "name": "python",
   "nbconvert_exporter": "python",
   "pygments_lexer": "ipython3",
   "version": "3.9.7"
  },
  "orig_nbformat": 4
 },
 "nbformat": 4,
 "nbformat_minor": 2
}
