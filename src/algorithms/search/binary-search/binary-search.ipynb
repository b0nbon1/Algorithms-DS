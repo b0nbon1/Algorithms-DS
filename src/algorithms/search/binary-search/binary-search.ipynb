{
 "cells": [
  {
   "cell_type": "markdown",
   "id": "469403ad",
   "metadata": {},
   "source": [
    "## Binary Search alogorithm\n",
    "\n",
    "Given a sorted array arr[] of n elements, write a function to search a given element x in arr[].\n",
    "\n",
    "A simple approach is to do a [linear search](../linear-search). The time complexity of the above algorithm is O(n). Another approach to perform the same task is using Binary Search.\n",
    "\n",
    "**Binary Search:** Search a sorted array by repeatedly dividing the search interval in half. Begin with an interval covering the whole array. If the value of the search key is less than the item in the middle of the interval, narrow the interval to the lower half. Otherwise, narrow it to the upper half. Repeatedly check until the value is found or the interval is empty.\n",
    "\n",
    "![binary search](./Binary-Search.png)\n",
    "\n",
    "The idea of binary search is to use the information that the array is sorted and reduce the time complexity to O(Log n).\n",
    "\n",
    "We basically ignore half of the elements just after one comparison.\n",
    "\n",
    "1. Compare x with the middle element.\n",
    "2. If x matches with the middle element, we return the mid index.\n",
    "3. Else If x is greater than the mid element, then x can only lie in the right half subarray after the mid element. So we recur for the right half.\n",
    "4. Else (x is smaller) recur for the left half.\n"
   ]
  },
  {
   "cell_type": "code",
   "execution_count": 1,
   "id": "a64d5a16",
   "metadata": {},
   "outputs": [
    {
     "name": "stdout",
     "output_type": "stream",
     "text": [
      "Element is present at index  3\n"
     ]
    }
   ],
   "source": [
    "# implement iterative Binary\n",
    "# Search.\n",
    " \n",
    "# It returns location of x in given array arr\n",
    "# if present, else returns -1\n",
    "def binarySearch(arr, l, r, x):\n",
    " \n",
    "    while l <= r:\n",
    " \n",
    "        mid = l + (r - l) // 2;\n",
    "         \n",
    "        # Check if x is present at mid\n",
    "        if arr[mid] == x:\n",
    "            return mid\n",
    " \n",
    "        # If x is greater, ignore left half\n",
    "        elif arr[mid] < x:\n",
    "            l = mid + 1\n",
    " \n",
    "        # If x is smaller, ignore right half\n",
    "        else:\n",
    "            r = mid - 1\n",
    "     \n",
    "    # If we reach here, then the element\n",
    "    # was not present\n",
    "    return -1\n",
    " \n",
    "# Driver Code\n",
    "arr = [ 2, 3, 4, 10, 40 ]\n",
    "x = 10\n",
    " \n",
    "# Function call\n",
    "result = binarySearch(arr, 0, len(arr)-1, x)\n",
    " \n",
    "if result != -1:\n",
    "    print (\"Element is present at index % d\" % result)\n",
    "else:\n",
    "    print (\"Element is not present in array\")"
   ]
  },
  {
   "cell_type": "code",
   "execution_count": null,
   "id": "853637f3",
   "metadata": {},
   "outputs": [],
   "source": []
  }
 ],
 "metadata": {
  "interpreter": {
   "hash": "916dbcbb3f70747c44a77c7bcd40155683ae19c65e1c03b4aa3499c5328201f1"
  },
  "kernelspec": {
   "display_name": "Python 3.10.4 64-bit",
   "language": "python",
   "name": "python3"
  },
  "language_info": {
   "codemirror_mode": {
    "name": "ipython",
    "version": 3
   },
   "file_extension": ".py",
   "mimetype": "text/x-python",
   "name": "python",
   "nbconvert_exporter": "python",
   "pygments_lexer": "ipython3",
   "version": "3.10.4"
  }
 },
 "nbformat": 4,
 "nbformat_minor": 5
}
