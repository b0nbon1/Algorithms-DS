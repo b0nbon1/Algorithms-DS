{
 "cells": [
  {
   "cell_type": "markdown",
   "metadata": {},
   "source": [
    "# Bit Manipulation\n",
    "\n",
    "#### Get Bit\n",
    "\n",
    "This method shifts the relevant bit to the zeroth position.\n",
    "Then we perform `AND` operation with one which has bit\n",
    "pattern like `0001`.  This clears all bits from the original\n",
    "number except the relevant one. If the relevant bit is one,\n",
    "the result is `1`, otherwise the result is `0`."
   ]
  },
  {
   "cell_type": "code",
   "execution_count": 6,
   "metadata": {},
   "outputs": [
    {
     "data": {
      "text/plain": [
       "1"
      ]
     },
     "execution_count": 6,
     "metadata": {},
     "output_type": "execute_result"
    }
   ],
   "source": [
    "def getBit(number, bitPosition):\n",
    "  return (number >> bitPosition) & 1\n",
    "\n",
    "getBit(3, 1)"
   ]
  },
  {
   "cell_type": "markdown",
   "metadata": {},
   "source": [
    "#### Set Bit\n",
    "\n",
    "This method shifts `1` over by `bitPosition` bits, creating a\n",
    "value that looks like `00100`. Then we perform `OR` operation\n",
    "that sets specific bit into `1` but it does not affect on\n",
    "other bits of the number."
   ]
  },
  {
   "cell_type": "code",
   "execution_count": 7,
   "metadata": {},
   "outputs": [
    {
     "data": {
      "text/plain": [
       "14"
      ]
     },
     "execution_count": 7,
     "metadata": {},
     "output_type": "execute_result"
    }
   ],
   "source": [
    "def setBit(number, bitPosition):\n",
    "  return number | (1 << bitPosition)\n",
    "\n",
    "setBit(1,0)\n",
    "setBit(10,2)"
   ]
  },
  {
   "cell_type": "markdown",
   "metadata": {},
   "source": [
    "#### Clear Bit\n",
    "\n",
    "This method shifts `1` over by `bitPosition` bits, creating a\n",
    "value that looks like `00100`. Than it inverts this mask to get\n",
    "the number that looks like `11011`. Then `AND` operation is\n",
    "being applied to both the number and the mask. That operation\n",
    "unsets the bit."
   ]
  },
  {
   "cell_type": "code",
   "execution_count": 8,
   "metadata": {},
   "outputs": [
    {
     "data": {
      "text/plain": [
       "2"
      ]
     },
     "execution_count": 8,
     "metadata": {},
     "output_type": "execute_result"
    }
   ],
   "source": [
    "def clearBit(number, bitPosition):\n",
    "  mask = ~(1 << bitPosition)\n",
    "\n",
    "  return number & mask\n",
    "\n",
    "clearBit(10,3)"
   ]
  },
  {
   "cell_type": "markdown",
   "metadata": {},
   "source": [
    "#### Update Bit\n",
    "\n",
    "This method is a combination of \"Clear Bit\" and \"Set Bit\" methods."
   ]
  },
  {
   "cell_type": "code",
   "execution_count": 10,
   "metadata": {},
   "outputs": [
    {
     "data": {
      "text/plain": [
       "14"
      ]
     },
     "execution_count": 10,
     "metadata": {},
     "output_type": "execute_result"
    }
   ],
   "source": [
    "def updateBit(number, bitPosition, bitValue):\n",
    "  # Normalized bit value.\n",
    "  bitValueNormalized = 1 if bitValue  else 0;\n",
    "\n",
    "  # Init clear mask.\n",
    "  clearMask = ~(1 << bitPosition);\n",
    "\n",
    "  # Clear bit value and then set it up to required value.\n",
    "  return (number & clearMask) | (bitValueNormalized << bitPosition);\n",
    "\n",
    "updateBit(10, 2, 1)\n"
   ]
  },
  {
   "cell_type": "markdown",
   "metadata": {},
   "source": [
    "#### isEven\n",
    "\n",
    "This method determines if the number provided is even.\n",
    "It is based on the fact that odd numbers have their last\n",
    "right bit to be set to 1.\n",
    "\n",
    "```text\n",
    "Number: 5 = 0b0101\n",
    "isEven: false\n",
    "\n",
    "Number: 4 = 0b0100\n",
    "isEven: true\n",
    "```"
   ]
  },
  {
   "cell_type": "code",
   "execution_count": 11,
   "metadata": {},
   "outputs": [
    {
     "data": {
      "text/plain": [
       "True"
      ]
     },
     "execution_count": 11,
     "metadata": {},
     "output_type": "execute_result"
    }
   ],
   "source": [
    "def isEven(number):\n",
    "  return (number & 1) == 0\n",
    "\n",
    "isEven(122)"
   ]
  },
  {
   "cell_type": "markdown",
   "metadata": {},
   "source": [
    "#### isPositive\n",
    "\n",
    "This method determines if the number is positive. It is based on the fact that all positive \n",
    "numbers have their leftmost bit to be set to `0`. However, if the number provided is zero\n",
    "or negative zero, it should still return `false`.\n",
    "\n",
    "```text\n",
    "Number: 1 = 0b0001\n",
    "isPositive: true\n",
    "\n",
    "Number: -1 = -0b0001\n",
    "isPositive: false\n",
    "```"
   ]
  },
  {
   "cell_type": "code",
   "execution_count": 12,
   "metadata": {},
   "outputs": [
    {
     "data": {
      "text/plain": [
       "False"
      ]
     },
     "execution_count": 12,
     "metadata": {},
     "output_type": "execute_result"
    }
   ],
   "source": [
    "def isPositive(number):\n",
    "  # Zero is neither a positive nor a negative number.\n",
    "  if number == 0:\n",
    "    return False\n",
    "\n",
    "  # The most significant 32nd bit can be used to determine whether the number is positive.\n",
    "  return ((number >> 31) & 1) == 0\n",
    "\n",
    "isPositive(-56644325)"
   ]
  },
  {
   "cell_type": "markdown",
   "metadata": {},
   "source": [
    "#### Multiply By Two\n",
    "\n",
    "This method shifts original number by one bit to the left.\n",
    "Thus all binary number components (powers of two) are being\n",
    "multiplying by two and thus the number itself is being\n",
    "multiplied by two.\n",
    "\n",
    "```\n",
    "Before the shift\n",
    "Number: 0b0101 = 5\n",
    "Powers of two: 0 + 2^2 + 0 + 2^0\n",
    "\n",
    "After the shift\n",
    "Number: 0b1010 = 10\n",
    "Powers of two: 2^3 + 0 + 2^1 + 0\n",
    "```"
   ]
  },
  {
   "cell_type": "code",
   "execution_count": 13,
   "metadata": {},
   "outputs": [
    {
     "data": {
      "text/plain": [
       "250"
      ]
     },
     "execution_count": 13,
     "metadata": {},
     "output_type": "execute_result"
    }
   ],
   "source": [
    "def multiplyByTwo(number):\n",
    "  return number << 1\n",
    "\n",
    "multiplyByTwo(125)"
   ]
  },
  {
   "cell_type": "markdown",
   "metadata": {},
   "source": [
    "#### Divide By Two\n",
    "\n",
    "This method shifts original number by one bit to the right.\n",
    "Thus all binary number components (powers of two) are being\n",
    "divided by two and thus the number itself is being\n",
    "divided by two without remainder.\n",
    "\n",
    "```\n",
    "Before the shift\n",
    "Number: 0b0101 = 5\n",
    "Powers of two: 0 + 2^2 + 0 + 2^0\n",
    "\n",
    "After the shift\n",
    "Number: 0b0010 = 2\n",
    "Powers of two: 0 + 0 + 2^1 + 0\n",
    "```"
   ]
  },
  {
   "cell_type": "code",
   "execution_count": 14,
   "metadata": {},
   "outputs": [
    {
     "data": {
      "text/plain": [
       "5"
      ]
     },
     "execution_count": 14,
     "metadata": {},
     "output_type": "execute_result"
    }
   ],
   "source": [
    "def divideByTwo(number):\n",
    "  return number >> 1\n",
    "\n",
    "divideByTwo(10)"
   ]
  },
  {
   "cell_type": "markdown",
   "metadata": {},
   "source": [
    "#### Switch Sign\n",
    "\n",
    "This method make positive numbers to be negative and backwards.\n",
    "To do so it uses \"Twos Complement\" approach which does it by\n",
    "inverting all of the bits of the number and adding 1 to it.\n",
    "\n",
    "```\n",
    "1101 -3\n",
    "1110 -2\n",
    "1111 -1\n",
    "0000  0\n",
    "0001  1\n",
    "0010  2\n",
    "0011  3\n",
    "```"
   ]
  },
  {
   "cell_type": "code",
   "execution_count": 15,
   "metadata": {},
   "outputs": [
    {
     "data": {
      "text/plain": [
       "23"
      ]
     },
     "execution_count": 15,
     "metadata": {},
     "output_type": "execute_result"
    }
   ],
   "source": [
    "def switchSign(number):\n",
    "  return ~number + 1\n",
    "\n",
    "switchSign(-23)"
   ]
  },
  {
   "cell_type": "markdown",
   "metadata": {},
   "source": [
    "#### Multiply Two Signed Numbers\n",
    "\n",
    "This method multiplies two signed integer numbers using bitwise operators.\n",
    "This method is based on the following facts:\n",
    "\n",
    "```text\n",
    "a * b can be written in the below formats:\n",
    "  0                     if a is zero or b is zero or both a and b are zeroes\n",
    "  2a * (b/2)            if b is even\n",
    "  2a * (b - 1)/2 + a    if b is odd and positive\n",
    "  2a * (b + 1)/2 - a    if b is odd and negative\n",
    "```\n",
    "\n",
    "The advantage of this approach is that in each recursive step one of the operands\n",
    "reduces to half its original value. Hence, the run time complexity is `O(log(b))` where `b` is\n",
    "the operand that reduces to half on each recursive step."
   ]
  },
  {
   "cell_type": "code",
   "execution_count": 17,
   "metadata": {},
   "outputs": [
    {
     "data": {
      "text/plain": [
       "41745"
      ]
     },
     "execution_count": 17,
     "metadata": {},
     "output_type": "execute_result"
    }
   ],
   "source": [
    "def multiply(a, b):\n",
    "  # If a is zero or b is zero or if both a and b are zeros then the production is also zero.\n",
    "  if b == 0 or a == 0:\n",
    "    return 0\n",
    "\n",
    "  # Otherwise we will have four different cases that are described above.\n",
    "  def multiplyByOddPositive():\n",
    "    return multiply(multiplyByTwo(a), divideByTwo(b - 1)) + a\n",
    "\n",
    "  def multiplyByOddNegative():\n",
    "    return multiply(multiplyByTwo(a), divideByTwo(b + 1)) - a\n",
    "\n",
    "  def multiplyByEven():\n",
    "    return multiply(multiplyByTwo(a), divideByTwo(b))\n",
    "\n",
    "  def multiplyByOdd():\n",
    "    return multiplyByOddPositive() if isPositive(b) else multiplyByOddNegative()\n",
    "\n",
    "  return multiplyByEven() if isEven(b) else multiplyByOdd()\n",
    "\n",
    "multiply(121, 345)\n"
   ]
  },
  {
   "cell_type": "markdown",
   "metadata": {},
   "source": [
    "#### Multiply Two Unsigned Numbers\n",
    "\n",
    "This method multiplies two integer numbers using bitwise operators.\n",
    "This method is based on that \"Every number can be denoted as the sum of powers of 2\".\n",
    "\n",
    "The main idea of bitwise multiplication is that every number may be split\n",
    "to the sum of powers of two:\n",
    "\n",
    "I.e.\n",
    "\n",
    "```text\n",
    "19 = 2^4 + 2^1 + 2^0\n",
    "```\n",
    "\n",
    "Then multiplying number `x` by `19` is equivalent of:\n",
    "\n",
    "```text\n",
    "x * 19 = x * 2^4 + x * 2^1 + x * 2^0\n",
    "```\n",
    "\n",
    "Now we need to remember that `x * 2^4` is equivalent of shifting `x` left\n",
    "by `4` bits (`x << 4`)."
   ]
  },
  {
   "cell_type": "code",
   "execution_count": 18,
   "metadata": {},
   "outputs": [
    {
     "data": {
      "text/plain": [
       "397800"
      ]
     },
     "execution_count": 18,
     "metadata": {},
     "output_type": "execute_result"
    }
   ],
   "source": [
    "def multiplyUnsigned(number1, number2):\n",
    "  result = 0\n",
    "\n",
    "  # Let's treat number2 as a multiplier for the number1.\n",
    "  multiplier = number2\n",
    "\n",
    "  # Multiplier current bit index.\n",
    "  bitIndex = 0\n",
    "\n",
    "  # Go through all bits of number2.\n",
    "  while (multiplier != 0):\n",
    "    # Check if current multiplier bit is set.\n",
    "    if multiplier & 1:\n",
    "      # In case if multiplier's bit at position bitIndex is set\n",
    "      # it would mean that we need to multiply number1 by the power\n",
    "      # of bit with index bitIndex and then add it to the result.\n",
    "      result += (number1 << bitIndex)\n",
    "\n",
    "    bitIndex += 1;\n",
    "    multiplier >>= 1\n",
    "\n",
    "  return result\n",
    "\n",
    "multiplyUnsigned(170, 2340)"
   ]
  },
  {
   "cell_type": "markdown",
   "metadata": {},
   "source": [
    "#### Count Set Bits\n",
    "\n",
    "This method counts the number of set bits in a number using bitwise operators.\n",
    "The main idea is that we shift the number right by one bit at a time and check\n",
    "the result of `&` operation that is `1` if bit is set and `0` otherwise.\n",
    "\n",
    "```text\n",
    "Number: 5 = 0b0101\n",
    "Count of set bits = 2\n",
    "```\n",
    "\n",
    "> See [countSetBits.py](countSetBits.py) for further details.\n",
    "\n",
    "#### Count Bits to Flip One Number to Another\n",
    "\n",
    "This methods outputs the number of bits required to convert one number to another.\n",
    "This makes use of property that when numbers are `XOR`-ed the result will be number\n",
    "of different bits.\n",
    "\n",
    "```\n",
    "5 = 0b0101\n",
    "1 = 0b0001\n",
    "Count of Bits to be Flipped: 1\n",
    "```"
   ]
  },
  {
   "cell_type": "code",
   "execution_count": 19,
   "metadata": {},
   "outputs": [
    {
     "data": {
      "text/plain": [
       "8"
      ]
     },
     "execution_count": 19,
     "metadata": {},
     "output_type": "execute_result"
    }
   ],
   "source": [
    "def countSetBits(originalNumber):\n",
    "  setBitsCount = 0\n",
    "  number = originalNumber\n",
    "\n",
    "  while (number):\n",
    "    # Add last bit of the number to the sum of set bits.\n",
    "    setBitsCount += number & 1\n",
    "\n",
    "    # Shift number right by one bit to investigate other bits.\n",
    "    number >>= 1\n",
    "\n",
    "  return setBitsCount\n",
    "\n",
    "countSetBits(255)"
   ]
  },
  {
   "cell_type": "markdown",
   "metadata": {},
   "source": [
    "#### Count Bits to Flip One Number to Another\n",
    "\n",
    "This methods outputs the number of bits required to convert one number to another.\n",
    "This makes use of property that when numbers are `XOR`-ed the result will be number\n",
    "of different bits.\n",
    "\n",
    "```\n",
    "5 = 0b0101\n",
    "1 = 0b0001\n",
    "Count of Bits to be Flipped: 1\n",
    "```"
   ]
  },
  {
   "cell_type": "code",
   "execution_count": 20,
   "metadata": {},
   "outputs": [
    {
     "data": {
      "text/plain": [
       "1"
      ]
     },
     "execution_count": 20,
     "metadata": {},
     "output_type": "execute_result"
    }
   ],
   "source": [
    "def bitsDiff(numberA, numberB):\n",
    "  return countSetBits(numberA ^ numberB)\n",
    "\n",
    "bitsDiff(1, 3)"
   ]
  },
  {
   "cell_type": "markdown",
   "metadata": {},
   "source": [
    "#### Count Bits of a Number\n",
    "\n",
    "To calculate the number of valuable bits we need to shift `1` one bit left each\n",
    "time and see if shifted number is bigger than the input number.\n",
    "\n",
    "```\n",
    "5 = 0b0101\n",
    "Count of valuable bits is: 3\n",
    "When we shift 1 four times it will become bigger than 5.\n",
    "```"
   ]
  },
  {
   "cell_type": "code",
   "execution_count": 21,
   "metadata": {},
   "outputs": [
    {
     "data": {
      "text/plain": [
       "3"
      ]
     },
     "execution_count": 21,
     "metadata": {},
     "output_type": "execute_result"
    }
   ],
   "source": [
    "def bitLength(number):\n",
    "  bitsCounter = 0\n",
    "  while ((1 << bitsCounter) <= number):\n",
    "    bitsCounter += 1\n",
    "\n",
    "  return bitsCounter\n",
    "\n",
    "bitLength(5)"
   ]
  },
  {
   "cell_type": "markdown",
   "metadata": {},
   "source": [
    "#### Is Power of Two\n",
    "\n",
    "This method checks if a number provided is power of two. It uses the following\n",
    "property. Let's say that `powerNumber` is a number that has been formed as a power\n",
    "of two (i.e. 2, 4, 8, 16 etc.). Then if we'll do `&` operation between `powerNumber`\n",
    "and `powerNumber - 1` it will return `0` (in case if number is power of two).\n",
    "\n",
    "```\n",
    "Number: 4 = 0b0100\n",
    "Number: 3 = (4 - 1) = 0b0011\n",
    "4 & 3 = 0b0100 & 0b0011 = 0b0000 <-- Equal to zero, is power of two.\n",
    "\n",
    "Number: 10 = 0b01010\n",
    "Number: 9 = (10 - 1) = 0b01001\n",
    "10 & 9 = 0b01010 & 0b01001 = 0b01000 <-- Not equal to zero, not a power of two.\n",
    "```"
   ]
  },
  {
   "cell_type": "code",
   "execution_count": 24,
   "metadata": {},
   "outputs": [
    {
     "data": {
      "text/plain": [
       "True"
      ]
     },
     "execution_count": 24,
     "metadata": {},
     "output_type": "execute_result"
    }
   ],
   "source": [
    "def isPowerOfTwo(number):\n",
    "  return (number & (number - 1)) == 0\n",
    "\n",
    "isPowerOfTwo(8)"
   ]
  },
  {
   "cell_type": "markdown",
   "metadata": {},
   "source": [
    "#### Full Adder\n",
    "\n",
    "This method adds up two integer numbers using bitwise operators.\n",
    "\n",
    "It implements [full adder](https://en.wikipedia.org/wiki/Adder_(electronics))\n",
    "electronics circuit logic to sum two 32-bit integers in two's complement format.\n",
    "It's using the boolean logic to cover all possible cases of adding two input bits:\n",
    "with and without a \"carry bit\" from adding the previous less-significant stage.\n",
    "\n",
    "Legend:\n",
    "- `A`: Number `A`\n",
    "- `B`: Number `B`\n",
    "- `ai`: ith bit of number `A`\n",
    "- `bi`: ith bit of number `B`\n",
    "- `carryIn`: a bit carried in from the previous less-significant stage\n",
    "- `carryOut`: a bit to carry to the next most-significant stage\n",
    "- `bitSum`: The sum of `ai`, `bi`, and `carryIn`\n",
    "- `resultBin`: The full result of adding current stage with all less-significant stages (in binary)\n",
    "- `resultDec`: The full result of adding current stage with all less-significant stages (in decimal)\n",
    "\n",
    "```\n",
    "A = 3: 011\n",
    "B = 6: 110\n",
    "┌──────┬────┬────┬─────────┬──────────┬─────────┬───────────┬───────────┐\n",
    "│  bit │ ai │ bi │ carryIn │ carryOut │  bitSum │ resultBin │ resultDec │\n",
    "├──────┼────┼────┼─────────┼──────────┼─────────┼───────────┼───────────┤\n",
    "│   0  │ 1  │ 0  │    0    │    0     │     1   │       1   │     1     │\n",
    "│   1  │ 1  │ 1  │    0    │    1     │     0   │      01   │     1     │\n",
    "│   2  │ 0  │ 1  │    1    │    1     │     0   │     001   │     1     │\n",
    "│   3  │ 0  │ 0  │    1    │    0     │     1   │    1001   │     9     │\n",
    "└──────┴────┴────┴─────────┴──────────┴─────────┴───────────┴───────────┘\n",
    "```\n",
    "\n",
    "> See [fullAdder.py](fullAdder.py) for further details.  \n",
    "> See [Full Adder on YouTube](https://www.youtube.com/watch?v=wvJc9CZcvBc&list=PLLXdhg_r2hKA7DPDsunoDZ-Z769jWn4R8).\n",
    "\n",
    "## References\n",
    "\n",
    "- [Bit Manipulation on YouTube](https://www.youtube.com/watch?v=NLKQEOgBAnw&t=0s&index=28&list=PLLXdhg_r2hKA7DPDsunoDZ-Z769jWn4R8)\n",
    "- [Negative Numbers in binary on YouTube](https://www.youtube.com/watch?v=4qH4unVtJkE&t=0s&index=30&list=PLLXdhg_r2hKA7DPDsunoDZ-Z769jWn4R8)\n",
    "- [Bit Hacks on stanford.edu](https://graphics.stanford.edu/~seander/bithacks.html)"
   ]
  }
 ],
 "metadata": {
  "interpreter": {
   "hash": "916dbcbb3f70747c44a77c7bcd40155683ae19c65e1c03b4aa3499c5328201f1"
  },
  "kernelspec": {
   "display_name": "Python 3.9.7 64-bit",
   "language": "python",
   "name": "python3"
  },
  "language_info": {
   "codemirror_mode": {
    "name": "ipython",
    "version": 3
   },
   "file_extension": ".py",
   "mimetype": "text/x-python",
   "name": "python",
   "nbconvert_exporter": "python",
   "pygments_lexer": "ipython3",
   "version": "3.10.4"
  },
  "orig_nbformat": 4
 },
 "nbformat": 4,
 "nbformat_minor": 2
}
