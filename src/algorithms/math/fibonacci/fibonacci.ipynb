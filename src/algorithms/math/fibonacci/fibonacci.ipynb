{
 "cells": [
  {
   "cell_type": "markdown",
   "metadata": {},
   "source": [
    "# Fibonacci Number\n",
    "\n",
    "In mathematics, the Fibonacci numbers are the numbers in the following \n",
    "integer sequence, called the Fibonacci sequence, and characterized by \n",
    "the fact that every number after the first two is the sum of the two \n",
    "preceding ones:\n",
    "\n",
    "`0, 1, 1, 2, 3, 5, 8, 13, 21, 34, 55, 89, 144, ...`\n",
    "\n",
    "A tiling with squares whose side lengths are successive Fibonacci numbers\n",
    "\n",
    "![Fibonacci](https://upload.wikimedia.org/wikipedia/commons/d/db/34%2A21-FibonacciBlocks.png)\n",
    "\n",
    "The Fibonacci spiral: an approximation of the golden spiral created by drawing circular arcs connecting the opposite corners of squares in the Fibonacci tiling;[4] this one uses squares of sizes 1, 1, 2, 3, 5, 8, 13 and 21.\n",
    "\n",
    "![Fibonacci Spiral](https://upload.wikimedia.org/wikipedia/commons/2/2e/FibonacciSpiral.svg)\n",
    "\n",
    "## References\n",
    "\n",
    "- [Wikipedia](https://en.wikipedia.org/wiki/Fibonacci_number)\n"
   ]
  },
  {
   "cell_type": "code",
   "execution_count": 1,
   "metadata": {},
   "outputs": [
    {
     "data": {
      "text/plain": [
       "[1, 1, 2, 3, 5, 8, 13, 21, 34, 55]"
      ]
     },
     "execution_count": 1,
     "metadata": {},
     "output_type": "execute_result"
    }
   ],
   "source": [
    "# Return a fibonacci sequence as an array.\n",
    "\n",
    "def fibonacci(n):\n",
    "  fibSequence = [1];\n",
    "\n",
    "  currentValue = 1\n",
    "  previousValue = 0\n",
    "\n",
    "  if n == 1:\n",
    "    return fibSequence\n",
    "  \n",
    "  iterationsCounter = n - 1\n",
    "\n",
    "  while iterationsCounter:\n",
    "    currentValue += previousValue\n",
    "    previousValue = currentValue - previousValue\n",
    "\n",
    "    fibSequence.append(currentValue)\n",
    "\n",
    "    iterationsCounter -= 1\n",
    "\n",
    "  return fibSequence\n",
    "\n",
    "\n",
    "fibonacci(10)"
   ]
  },
  {
   "cell_type": "code",
   "execution_count": null,
   "metadata": {},
   "outputs": [],
   "source": [
    "# Calculate fibonacci number at specific position using Dynamic Programming approach.\n",
    "\n",
    "def fibonacciNth(n):\n",
    "  currentValue = 1\n",
    "  previousValue = 0\n",
    "\n",
    "  if n == 1:\n",
    "    return 1\n",
    "  \n",
    "  iterationsCounter = n - 1\n",
    "  while iterationsCounter:\n",
    "    currentValue += previousValue\n",
    "    previousValue = currentValue - previousValue\n",
    "\n",
    "    iterationsCounter -= 1\n",
    "  \n",
    "  return currentValue"
   ]
  }
 ],
 "metadata": {
  "interpreter": {
   "hash": "31f2aee4e71d21fbe5cf8b01ff0e069b9275f58929596ceb00d14d90e3e16cd6"
  },
  "kernelspec": {
   "display_name": "Python 3.9.7 64-bit",
   "language": "python",
   "name": "python3"
  },
  "language_info": {
   "codemirror_mode": {
    "name": "ipython",
    "version": 3
   },
   "file_extension": ".py",
   "mimetype": "text/x-python",
   "name": "python",
   "nbconvert_exporter": "python",
   "pygments_lexer": "ipython3",
   "version": "3.9.7"
  },
  "orig_nbformat": 4
 },
 "nbformat": 4,
 "nbformat_minor": 2
}
