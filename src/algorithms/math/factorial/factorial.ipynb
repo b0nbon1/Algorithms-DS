{
 "cells": [
  {
   "cell_type": "markdown",
   "metadata": {},
   "source": [
    "# Factorial\n",
    "\n",
    "In mathematics, the factorial of a non-negative integer `n`, \n",
    "denoted by `n!`, is the product of all positive integers less \n",
    "than or equal to `n`. For example:\n",
    "\n",
    "```\n",
    "5! = 5 * 4 * 3 * 2 * 1 = 120\n",
    "```\n",
    "\n",
    "| n     | n!                          | \n",
    "| ----- | --------------------------: |\n",
    "| 0     | 1                           |\n",
    "| 1     | 1                           |\n",
    "| 2     | 2                           |\n",
    "| 3     | 6                           |\n",
    "| 4     | 24                          |\n",
    "| 5     | 120                         |\n",
    "| 6     | 720                         |\n",
    "| 7     | 5 040                       |\n",
    "| 8     | 40 320                      |\n",
    "| 9     | 362 880                     |\n",
    "| 10    | 3 628 800                   |\n",
    "| 11    | 39 916 800                  |\n",
    "| 12    | 479 001 600                 |\n",
    "| 13    | 6 227 020 800               |\n",
    "| 14    | 87 178 291 200              |\n",
    "| 15    | 1 307 674 368 000           |\n",
    "\n"
   ]
  },
  {
   "cell_type": "code",
   "execution_count": 1,
   "metadata": {},
   "outputs": [
    {
     "data": {
      "text/plain": [
       "1307674368000"
      ]
     },
     "execution_count": 1,
     "metadata": {},
     "output_type": "execute_result"
    }
   ],
   "source": [
    "def factorial(number):\n",
    "  result = 1\n",
    "  i = 2\n",
    "  while i <= number:\n",
    "    result *= i\n",
    "    i += 1\n",
    "\n",
    "  return result\n",
    "\n",
    "factorial(15)"
   ]
  }
 ],
 "metadata": {
  "interpreter": {
   "hash": "916dbcbb3f70747c44a77c7bcd40155683ae19c65e1c03b4aa3499c5328201f1"
  },
  "kernelspec": {
   "display_name": "Python 3.9.7 64-bit",
   "language": "python",
   "name": "python3"
  },
  "language_info": {
   "codemirror_mode": {
    "name": "ipython",
    "version": 3
   },
   "file_extension": ".py",
   "mimetype": "text/x-python",
   "name": "python",
   "nbconvert_exporter": "python",
   "pygments_lexer": "ipython3",
   "version": "3.9.7"
  },
  "orig_nbformat": 4
 },
 "nbformat": 4,
 "nbformat_minor": 2
}
