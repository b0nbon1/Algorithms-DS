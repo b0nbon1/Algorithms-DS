{
 "cells": [
  {
   "cell_type": "markdown",
   "id": "1a089a02",
   "metadata": {},
   "source": [
    "### Jump Search\n",
    "Like [Binary Search](../binary-search), Jump Search is a searching algorithm for sorted arrays. The basic idea is to check fewer elements (than [linear search](../linear-search)) by jumping ahead by fixed steps or skipping some elements in place of searching all elements.\n",
    "\n",
    "For example, suppose we have an array arr[] of size n and block (to be jumped) size m. Then we search at the indexes arr[0], arr[m], arr[2m]…..arr[km] and so on. Once we find the interval (arr[km] < x < arr[(k+1)m]), we perform a linear search operation from the index km to find the element x.\n",
    "\n",
    "Let’s consider the following array: (0, 1, 1, 2, 3, 5, 8, 13, 21, 34, 55, 89, 144, 233, 377, 610). Length of the array is 16. Jump search will find the value of 55 with the following steps assuming that the block size to be jumped is 4.\n",
    "\n",
    "STEP 1: Jump from index 0 to index 4; \n",
    "STEP 2: Jump from index 4 to index 8; \n",
    "STEP 3: Jump from index 8 to index 12; \n",
    "STEP 4: Since the element at index 12 is greater than 55 we will jump back a step to come to index 8. \n",
    "STEP 5: Perform linear search from index 8 to get the element 55.\n",
    "\n",
    "#### What is the optimal block size to be skipped? \n",
    "In the worst case, we have to do n/m jumps and if the last checked value is greater than the element to be searched for, we perform m-1 comparisons more for linear search. Therefore the total number of comparisons in the worst case will be ((n/m) + m-1). The value of the function ((n/m) + m-1) will be minimum when m = √n. Therefore, the best step size is m = √n.\n",
    "\n",
    "- Time Complexity : O(√n) \n",
    "- Auxiliary Space : O(1)\n",
    "\n",
    "Important points: \n",
    " \n",
    "- Works only sorted arrays.\n",
    "- The optimal size of a block to be jumped is (√ n). This makes the time complexity of Jump Search O(√ n).\n",
    "- The time complexity of Jump Search is between Linear Search ( ( O(n) ) and Binary Search ( O (Log n) ).\n",
    "- Binary Search is better than Jump Search, but Jump search has an advantage that we traverse back only once (Binary Search may require up to O(Log n) jumps, consider a situation where the element to be searched is the smallest element or just bigger than the smallest). So in a system where binary search is costly, we use Jump Search."
   ]
  },
  {
   "cell_type": "code",
   "execution_count": 1,
   "id": "c99e9650",
   "metadata": {},
   "outputs": [
    {
     "name": "stdout",
     "output_type": "stream",
     "text": [
      "Number 55 is at index 10\n"
     ]
    }
   ],
   "source": [
    "import math\n",
    " \n",
    "def jumpSearch( arr , x , n ):\n",
    "     \n",
    "    # Finding block size to be jumped\n",
    "    step = math.sqrt(n)\n",
    "     \n",
    "    # Finding the block where element is\n",
    "    # present (if it is present)\n",
    "    prev = 0\n",
    "    while arr[int(min(step, n)-1)] < x:\n",
    "        prev = step\n",
    "        step += math.sqrt(n)\n",
    "        if prev >= n:\n",
    "            return -1\n",
    "     \n",
    "    # Doing a linear search for x in\n",
    "    # block beginning with prev.\n",
    "    while arr[int(prev)] < x:\n",
    "        prev += 1\n",
    "         \n",
    "        # If we reached next block or end\n",
    "        # of array, element is not present.\n",
    "        if prev == min(step, n):\n",
    "            return -1\n",
    "     \n",
    "    # If element is found\n",
    "    if arr[int(prev)] == x:\n",
    "        return prev\n",
    "     \n",
    "    return -1\n",
    " \n",
    "# Driver code to test function\n",
    "arr = [ 0, 1, 1, 2, 3, 5, 8, 13, 21,\n",
    "    34, 55, 89, 144, 233, 377, 610 ]\n",
    "x = 55\n",
    "n = len(arr)\n",
    " \n",
    "# Find the index of 'x' using Jump Search\n",
    "index = jumpSearch(arr, x, n)\n",
    " \n",
    "# Print the index where 'x' is located\n",
    "print(\"Number\" , x, \"is at index\" ,\"%.0f\"%index)"
   ]
  },
  {
   "cell_type": "code",
   "execution_count": null,
   "id": "6a57bdfd",
   "metadata": {},
   "outputs": [],
   "source": []
  }
 ],
 "metadata": {
  "kernelspec": {
   "display_name": "Python 3 (ipykernel)",
   "language": "python",
   "name": "python3"
  },
  "language_info": {
   "codemirror_mode": {
    "name": "ipython",
    "version": 3
   },
   "file_extension": ".py",
   "mimetype": "text/x-python",
   "name": "python",
   "nbconvert_exporter": "python",
   "pygments_lexer": "ipython3",
   "version": "3.9.7"
  }
 },
 "nbformat": 4,
 "nbformat_minor": 5
}
