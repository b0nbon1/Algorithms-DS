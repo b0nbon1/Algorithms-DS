{
 "cells": [
  {
   "cell_type": "markdown",
   "id": "59ea44fd",
   "metadata": {},
   "source": [
    "## Linear Search\n",
    "\n",
    "**Problem:** Given an array arr[] of n elements, write a function to search a given element x in arr[].\n",
    "\n",
    "##### examples\n",
    "\n",
    "```\n",
    "Input : arr[] = {10, 20, 80, 30, 60, 50, \n",
    "                     110, 100, 130, 170}\n",
    "          x = 110;\n",
    "Output : 6\n",
    "Element x is present at index 6\n",
    "\n",
    "Input : arr[] = {10, 20, 80, 30, 60, 50, \n",
    "                     110, 100, 130, 170}\n",
    "           x = 175;\n",
    "Output : -1\n",
    "Element x is not present in arr[].\n",
    "```\n",
    "\n",
    "A simple approach is to do a linear search, i.e  \n",
    "\n",
    "- Start from the leftmost element of arr[] and one by one compare x with each element of arr[]\n",
    "- If x matches with an element, return the index.\n",
    "- If x doesn’t match with any of elements, return -1.\n",
    "\n",
    "![linear search](./Linear-Search.png)\n"
   ]
  },
  {
   "cell_type": "code",
   "execution_count": 1,
   "id": "e5ec6e1c",
   "metadata": {},
   "outputs": [
    {
     "name": "stdout",
     "output_type": "stream",
     "text": [
      "Element is present at index 3\n"
     ]
    }
   ],
   "source": [
    "# If x is present then return its location,\n",
    "# otherwise return -1\n",
    " \n",
    " \n",
    "def search(arr, n, x):\n",
    " \n",
    "    for i in range(0, n):\n",
    "        if (arr[i] == x):\n",
    "            return i\n",
    "    return -1\n",
    " \n",
    " \n",
    "# Driver Code\n",
    "arr = [2, 3, 4, 10, 40]\n",
    "x = 10\n",
    "n = len(arr)\n",
    " \n",
    "# Function call\n",
    "result = search(arr, n, x)\n",
    "if(result == -1):\n",
    "    print(\"Element is not present in array\")\n",
    "else:\n",
    "    print(\"Element is present at index\", result)"
   ]
  },
  {
   "cell_type": "markdown",
   "id": "ff920f64",
   "metadata": {},
   "source": [
    "The **time complexity** of the above algorithm is O(n). \n",
    "\n",
    "Linear search is rarely used practically because other search algorithms such as the binary search algorithm and hash tables allow significantly faster-searching comparison to Linear search.\n",
    "\n",
    "### Improve Linear Search Worst-Case Complexity\n",
    "1. if element Found at last  O(n) to O(1)\n",
    "2. It is the same as previous method because here we are performing 2 ‘if’ operations in one iteration of the loop and in previous method we performed only 1 ‘if’ operation. This makes both the time complexities same.\n",
    "\n",
    "Check implementation below:"
   ]
  },
  {
   "cell_type": "code",
   "execution_count": 2,
   "id": "2f8791ff",
   "metadata": {},
   "outputs": [
    {
     "name": "stdout",
     "output_type": "stream",
     "text": [
      "Element found in Array at  5  Position with  1  Attempt\n"
     ]
    }
   ],
   "source": [
    "# Python3 program for linear search\n",
    "def search(arr, search_Element):\n",
    "    left = 0\n",
    "    length = len(arr)\n",
    "    position = -1\n",
    "    right = length - 1\n",
    " \n",
    "    # Run loop from 0 to right\n",
    "    for left in range(0, right, 1):\n",
    " \n",
    "        # If search_element is found with\n",
    "        # left variable\n",
    "        if (arr[left] == search_Element):\n",
    "            position = left\n",
    "            print(\"Element found in Array at \", position +\n",
    "                  1, \" Position with \", left + 1, \" Attempt\")\n",
    "            break\n",
    " \n",
    "        # If search_element is found with\n",
    "        # right variable\n",
    "        if (arr[right] == search_Element):\n",
    "            position = right\n",
    "            print(\"Element found in Array at \", position + 1,\n",
    "                  \" Position with \", length - right, \" Attempt\")\n",
    "            break\n",
    "        left += 1\n",
    "        right -= 1\n",
    " \n",
    "    # If element not found\n",
    "    if (position == -1):\n",
    "        print(\"Not found in Array with \", left, \" Attempt\")\n",
    " \n",
    "# Driver code\n",
    "arr = [1, 2, 3, 4, 5]\n",
    "search_element = 5\n",
    " \n",
    "# Function call\n",
    "search(arr, search_element)"
   ]
  },
  {
   "cell_type": "code",
   "execution_count": null,
   "id": "54ac2315",
   "metadata": {},
   "outputs": [],
   "source": []
  }
 ],
 "metadata": {
  "kernelspec": {
   "display_name": "Python 3 (ipykernel)",
   "language": "python",
   "name": "python3"
  },
  "language_info": {
   "codemirror_mode": {
    "name": "ipython",
    "version": 3
   },
   "file_extension": ".py",
   "mimetype": "text/x-python",
   "name": "python",
   "nbconvert_exporter": "python",
   "pygments_lexer": "ipython3",
   "version": "3.9.7"
  }
 },
 "nbformat": 4,
 "nbformat_minor": 5
}
