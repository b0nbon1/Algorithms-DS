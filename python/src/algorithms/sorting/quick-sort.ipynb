{
 "cells": [
  {
   "cell_type": "markdown",
   "metadata": {},
   "source": [
    "# Quick Sort\n",
    "\n",
    "![quick sort](https://www.geeksforgeeks.org/wp-content/uploads/gq/2014/01/QuickSort2.png)\n"
   ]
  },
  {
   "cell_type": "code",
   "execution_count": 1,
   "metadata": {},
   "outputs": [
    {
     "name": "stdout",
     "output_type": "stream",
     "text": [
      "[2, 3, 4, 6, 7, 8]\n"
     ]
    }
   ],
   "source": [
    "# Recursion\n",
    "def quick_sort(sequence):\n",
    "  length = len(sequence)\n",
    "  if length <= 1:\n",
    "    return sequence\n",
    "  else:\n",
    "    pivot = sequence.pop()\n",
    "  \n",
    "  items_greater = []\n",
    "  items_lower = []\n",
    "\n",
    "  for item in sequence:\n",
    "    if item > pivot:\n",
    "      items_greater.append(item)\n",
    "    else:\n",
    "      items_lower.append(item)\n",
    "  \n",
    "  return quick_sort(items_lower) + [pivot] + quick_sort(items_greater)\n",
    "\n",
    "print(quick_sort([3,6,2,7,8,4]))"
   ]
  }
 ],
 "metadata": {
  "interpreter": {
   "hash": "31f2aee4e71d21fbe5cf8b01ff0e069b9275f58929596ceb00d14d90e3e16cd6"
  },
  "kernelspec": {
   "display_name": "Python 3.9.7 64-bit",
   "language": "python",
   "name": "python3"
  },
  "language_info": {
   "codemirror_mode": {
    "name": "ipython",
    "version": 3
   },
   "file_extension": ".py",
   "mimetype": "text/x-python",
   "name": "python",
   "nbconvert_exporter": "python",
   "pygments_lexer": "ipython3",
   "version": "3.10.4"
  },
  "orig_nbformat": 4
 },
 "nbformat": 4,
 "nbformat_minor": 2
}
