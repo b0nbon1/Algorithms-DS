{
 "cells": [
  {
   "cell_type": "markdown",
   "metadata": {},
   "source": [
    "## 77. Combinations\n",
    "Given two integers n and k, return all possible combinations of k numbers out of the range [1, n].\n",
    "\n",
    "You may return the answer in any order.\n",
    "\n",
    "## Example 1:\n",
    "```\n",
    "Input: n = 4, k = 2\n",
    "Output:\n",
    "[\n",
    "  [2,4],\n",
    "  [3,4],\n",
    "  [2,3],\n",
    "  [1,2],\n",
    "  [1,3],\n",
    "  [1,4],\n",
    "]\n",
    "```\n"
   ]
  },
  {
   "cell_type": "code",
   "execution_count": null,
   "metadata": {},
   "outputs": [],
   "source": [
    "class Solution:\n",
    "    def combine(self, n, k):\n",
    "        res = []\n",
    "        self.dfs(range(1, n+1), k, [], res)\n",
    "        return res\n",
    "    def dfs(self, nums, k, path, res):\n",
    "      if len(path) == k:\n",
    "        res.append(path)\n",
    "        return\n",
    "      for i in range(len(nums)):\n",
    "        self.dfs(nums[i+1:], k, path+[nums[i]], res)"
   ]
  }
 ],
 "metadata": {
  "language_info": {
   "name": "python"
  },
  "orig_nbformat": 4
 },
 "nbformat": 4,
 "nbformat_minor": 2
}
