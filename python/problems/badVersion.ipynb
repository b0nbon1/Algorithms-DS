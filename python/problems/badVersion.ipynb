{
 "cells": [
  {
   "cell_type": "markdown",
   "metadata": {},
   "source": [
    "## 278. First Bad Version\n",
    "\n",
    "You are a product manager and currently leading a team to develop a new product. Unfortunately, the latest version of your product fails the quality check. Since each version is developed based on the previous version, all the versions after a bad version are also bad.\n",
    "\n",
    "Suppose you have n versions [1, 2, ..., n] and you want to find out the first bad one, which causes all the following ones to be bad.\n",
    "\n",
    "You are given an API bool isBadVersion(version) which returns whether version is bad. Implement a function to find the first bad version. You should minimize the number of calls to the API."
   ]
  },
  {
   "cell_type": "code",
   "execution_count": null,
   "metadata": {},
   "outputs": [],
   "source": [
    "def isBadVersion(num):\n",
    "  return num == 4\n",
    "\n",
    "class Solution:\n",
    "    def firstBadVersion(self, n):\n",
    "        low = 0\n",
    "        high = n\n",
    "        badVersion = 0\n",
    "        while low <= high:\n",
    "            mid = low + (high - low)//2\n",
    "            checkBad = isBadVersion(mid)\n",
    "            if checkBad:\n",
    "                badVersion = mid\n",
    "                high = mid - 1\n",
    "            else:\n",
    "                low = mid + 1\n",
    "        return badVersion"
   ]
  }
 ],
 "metadata": {
  "language_info": {
   "name": "python"
  },
  "orig_nbformat": 4
 },
 "nbformat": 4,
 "nbformat_minor": 2
}
