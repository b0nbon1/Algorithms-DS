{
 "cells": [
  {
   "cell_type": "markdown",
   "metadata": {},
   "source": [
    "## 3. Longest Substring Without Repeating Characters\n",
    "Given a string s, find the length of the longest substring without repeating characters.\n",
    "\n",
    "#### Example 1\n",
    "\n",
    "```\n",
    "Input: s = \"abcabcbb\"\n",
    "Output: 3\n",
    "Explanation: The answer is \"abc\", with the length of 3.\n",
    "```"
   ]
  },
  {
   "cell_type": "code",
   "execution_count": 6,
   "metadata": {},
   "outputs": [
    {
     "data": {
      "text/plain": [
       "3"
      ]
     },
     "execution_count": 6,
     "metadata": {},
     "output_type": "execute_result"
    }
   ],
   "source": [
    "\n",
    "def lengthOfLongestSubstring(s):\n",
    "    unique = {}\n",
    "    l = 0\n",
    "    res = 0\n",
    "    for r in range(len(s)):\n",
    "      if s[r] in unique:\n",
    "        if unique[s[r]] < l:\n",
    "          print(s[r], r, l)\n",
    "          res = max(res, r-l+1)\n",
    "        else:\n",
    "          l = unique[s[r]] + 1\n",
    "      else:\n",
    "        res = max(res, r-l+1)\n",
    "      unique[s[r]] = r\n",
    "    return res\n",
    "\n",
    "lengthOfLongestSubstring(\"abcabcbb\")\n"
   ]
  }
 ],
 "metadata": {
  "kernelspec": {
   "display_name": "Python 3.9.7 ('venv': venv)",
   "language": "python",
   "name": "python3"
  },
  "language_info": {
   "codemirror_mode": {
    "name": "ipython",
    "version": 3
   },
   "file_extension": ".py",
   "mimetype": "text/x-python",
   "name": "python",
   "nbconvert_exporter": "python",
   "pygments_lexer": "ipython3",
   "version": "3.9.7"
  },
  "orig_nbformat": 4,
  "vscode": {
   "interpreter": {
    "hash": "ba90a275493ed7b287c7fce56d5bfaa19e13116c7080f627fc2d8d0c5a936fe0"
   }
  }
 },
 "nbformat": 4,
 "nbformat_minor": 2
}
