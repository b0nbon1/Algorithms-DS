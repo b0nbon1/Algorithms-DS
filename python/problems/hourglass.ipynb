{
 "cells": [
  {
   "cell_type": "markdown",
   "metadata": {},
   "source": [
    "## HOurGlass\n",
    "Given a 6x6 2D Array, arr:\n",
    "```\n",
    "1 1 1 0 0 0\n",
    "0 1 0 0 0 0\n",
    "1 1 1 0 0 0\n",
    "0 0 0 0 0 0\n",
    "0 0 0 0 0 0\n",
    "0 0 0 0 0 0\n",
    "```\n",
    "An hourglass in A is a subset of values with indices falling in this pattern in arr's graphical representation:\n",
    "```\n",
    "a b c\n",
    "  d\n",
    "e f g\n",
    "```\n",
    "\n",
    "There are 16 hourglasses in arr. An hourglass sum is the sum of an hourglass' values. Calculate the hourglass sum for every hourglass in arr, then print the maximum hourglass sum. The array will always be 6x6.\n",
    "\n",
    "**Example**\n",
    "\n",
    "```\n",
    "arr = \n",
    "-9 -9 -9  1 1 1 \n",
    " 0 -9  0  4 3 2\n",
    "-9 -9 -9  1 2 3\n",
    " 0  0  8  6 6 0\n",
    " 0  0  0 -2 0 0\n",
    " 0  0  1  2 4 0\n",
    "\n",
    " sum hourglasses are:\n",
    "-63, -34, -9, 12, \n",
    "-10,   0, 28, 23, \n",
    "-27, -11, -2, 10, \n",
    "  9,  17, 25, 18\n",
    "\n",
    "  highest is 19\n",
    "\n",
    "```"
   ]
  },
  {
   "cell_type": "code",
   "execution_count": null,
   "metadata": {},
   "outputs": [],
   "source": [
    "def hourglassSum(arr):\n",
    "    maxGlass = float(\"-inf\")\n",
    "    for i in range(4):\n",
    "        resIn = []\n",
    "        for j in range(4):\n",
    "            row1 = arr[i][j]+arr[i][j+1]+arr[i][j+2]\n",
    "            row2 = arr[i+1][j+1]\n",
    "            row3 = arr[i+2][j]+arr[i+2][j+1]+arr[i+2][j+2]\n",
    "            s = row1+row2+row3\n",
    "            maxGlass = max(maxGlass, s)\n",
    "    return maxGlass"
   ]
  }
 ],
 "metadata": {
  "language_info": {
   "name": "python"
  },
  "orig_nbformat": 4
 },
 "nbformat": 4,
 "nbformat_minor": 2
}
