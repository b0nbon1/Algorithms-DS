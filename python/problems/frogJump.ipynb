{
 "cells": [
  {
   "cell_type": "markdown",
   "metadata": {},
   "source": [
    "##  Frog Jump\n",
    "\n",
    "A small frog wants to get to the other side of the road. The frog is currently located at position X and wants to get to a position greater than or equal to Y. The small frog always jumps a fixed distance, D.\n",
    "\n",
    "Count the minimal number of jumps that the small frog must perform to reach its target.\n",
    "\n",
    "Write a function:\n",
    "\n",
    "def solution(X, Y, D)\n",
    "\n",
    "that, given three integers X, Y and D, returns the minimal number of jumps from position X to a position equal to or greater than Y.\n",
    "\n",
    "For example, given:\n",
    "\n",
    "  X = 10\n",
    "  Y = 85\n",
    "  D = 30\n",
    "the function should return 3, because the frog will be positioned as follows:\n",
    "\n",
    "after the first jump, at position 10 + 30 = 40\n",
    "after the second jump, at position 10 + 30 + 30 = 70\n",
    "after the third jump, at position 10 + 30 + 30 + 30 = 100\n",
    "Write an efficient algorithm for the following assumptions:\n",
    "\n",
    "X, Y and D are integers within the range [1..1,000,000,000];\n",
    "X ≤ Y.\n"
   ]
  },
  {
   "cell_type": "code",
   "execution_count": 2,
   "metadata": {},
   "outputs": [
    {
     "data": {
      "text/plain": [
       "3"
      ]
     },
     "execution_count": 2,
     "metadata": {},
     "output_type": "execute_result"
    }
   ],
   "source": [
    "def solution(X, Y, D):\n",
    "    diff = Y - X\n",
    "    if diff <= 0: return 0\n",
    "    completeJ = diff // D\n",
    "    completeJ+= 0 if diff % D == 0 else 1\n",
    "    return completeJ\n",
    "\n",
    "solution(10, 85, 30)"
   ]
  }
 ],
 "metadata": {
  "interpreter": {
   "hash": "31f2aee4e71d21fbe5cf8b01ff0e069b9275f58929596ceb00d14d90e3e16cd6"
  },
  "kernelspec": {
   "display_name": "Python 3.9.7 64-bit",
   "language": "python",
   "name": "python3"
  },
  "language_info": {
   "codemirror_mode": {
    "name": "ipython",
    "version": 3
   },
   "file_extension": ".py",
   "mimetype": "text/x-python",
   "name": "python",
   "nbconvert_exporter": "python",
   "pygments_lexer": "ipython3",
   "version": "3.10.4"
  },
  "orig_nbformat": 4
 },
 "nbformat": 4,
 "nbformat_minor": 2
}
