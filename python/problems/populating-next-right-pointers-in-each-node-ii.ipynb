{
 "cells": [
  {
   "cell_type": "markdown",
   "metadata": {},
   "source": [
    "## 117. Populating Next Right Pointers in Each Node II\n",
    "\n",
    "Given a binary tree\n",
    "\n",
    "```\n",
    "struct Node {\n",
    "  int val;\n",
    "  Node *left;\n",
    "  Node *right;\n",
    "  Node *next;\n",
    "}\n",
    "```\n",
    "Populate each next pointer to point to its next right node. If there is no next right node, the next pointer should be set to NULL.\n",
    "\n",
    "Initially, all next pointers are set to NULL.\n",
    "\n",
    "## Example:\n",
    "![tree](https://assets.leetcode.com/uploads/2019/02/15/117_sample.png)\n",
    "\n",
    "```\n",
    "Input: root = [1,2,3,4,5,null,7]\n",
    "Output: [1,#,2,3,#,4,5,7,#]\n",
    "Explanation: Given the above binary tree (Figure A), your function should populate each next pointer to point to its next right node, just like in Figure B. The serialized output is in level order as connected by the next pointers, with '#' signifying the end of each level.\n",
    "```"
   ]
  },
  {
   "cell_type": "code",
   "execution_count": null,
   "metadata": {},
   "outputs": [],
   "source": [
    "\"\"\"\n",
    "# Definition for a Node.\n",
    "class Node:\n",
    "    def __init__(self, val: int = 0, left: 'Node' = None, right: 'Node' = None, next: 'Node' = None):\n",
    "        self.val = val\n",
    "        self.left = left\n",
    "        self.right = right\n",
    "        self.next = next\n",
    "\"\"\"\n",
    "\n",
    "class Solution:\n",
    "    def connect(self, root: 'Node') -> 'Node':\n",
    "      node = root\n",
    "      while node:\n",
    "        curr = dummy = Node(0)\n",
    "        while node:\n",
    "          if node.left:\n",
    "            curr.next = node.left\n",
    "            curr = curr.next\n",
    "          if node.right:\n",
    "            curr.next = node.right\n",
    "            curr = curr.next\n",
    "          node = node.next\n",
    "        node = dummy.next\n",
    "\n",
    "      return root"
   ]
  }
 ],
 "metadata": {
  "language_info": {
   "name": "python"
  },
  "orig_nbformat": 4
 },
 "nbformat": 4,
 "nbformat_minor": 2
}
