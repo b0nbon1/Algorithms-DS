{
 "cells": [
  {
   "cell_type": "markdown",
   "metadata": {},
   "source": [
    "## 83. Remove Duplicates from Sorted List\n",
    "\n",
    "Given the head of a sorted linked list, delete all duplicates such that each element appears only once. Return the linked list sorted as well."
   ]
  },
  {
   "cell_type": "code",
   "execution_count": null,
   "metadata": {},
   "outputs": [],
   "source": [
    "# Definition for singly-linked list.\n",
    "# class ListNode:\n",
    "#     def __init__(self, val=0, next=None):\n",
    "#         self.val = val\n",
    "#         self.next = next\n",
    "class Solution:\n",
    "    def deleteDuplicates(self, head: Optional[ListNode]) -> Optional[ListNode]:\n",
    "      curr = head\n",
    "      while curr:\n",
    "        if curr.next and curr.val == curr.next.val:\n",
    "          curr.next = curr.next.next\n",
    "        else:\n",
    "          curr = curr.next\n",
    "      return head"
   ]
  }
 ],
 "metadata": {
  "kernelspec": {
   "display_name": "Python 3.9.7 ('venv': venv)",
   "language": "python",
   "name": "python3"
  },
  "language_info": {
   "name": "python",
   "version": "3.9.7"
  },
  "orig_nbformat": 4,
  "vscode": {
   "interpreter": {
    "hash": "ba90a275493ed7b287c7fce56d5bfaa19e13116c7080f627fc2d8d0c5a936fe0"
   }
  }
 },
 "nbformat": 4,
 "nbformat_minor": 2
}
