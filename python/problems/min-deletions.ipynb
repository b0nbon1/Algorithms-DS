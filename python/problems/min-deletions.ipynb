{
 "cells": [
  {
   "cell_type": "markdown",
   "metadata": {},
   "source": [
    "## 1647. Minimum Deletions to Make Character Frequencies Unique\n",
    "\n",
    "A string s is called good if there are no two different characters in s that have the same frequency.\n",
    "\n",
    "Given a string s, return the minimum number of characters you need to delete to make s good.\n",
    "\n",
    "The frequency of a character in a string is the number of times it appears in the string. For example, in the string \"aab\", the frequency of 'a' is 2, while the frequency of 'b' is 1.\n",
    "\n",
    "#### Example 1\n",
    "\n",
    "```\n",
    "Input: s = \"aab\"\n",
    "Output: 0\n",
    "Explanation: s is already good.\n",
    "```\n",
    "\n",
    "#### Example 2\n",
    "```\n",
    "Input: s = \"aaabbbcc\"\n",
    "Output: 2\n",
    "Explanation: You can delete two 'b's resulting in the good string \"aaabcc\".\n",
    "Another way it to delete one 'b' and one 'c' resulting in the good string \"aaabbc\".\n",
    "```\n",
    "\n",
    "#### Example 3\n",
    "```\n",
    "Input: s = \"ceabaacb\"\n",
    "Output: 2\n",
    "Explanation: You can delete both 'c's resulting in the good string \"eabaab\".\n",
    "Note that we only care about characters that are still in the string at the end (i.e. frequency of 0 is ignored).\n",
    "```"
   ]
  },
  {
   "cell_type": "code",
   "execution_count": null,
   "metadata": {},
   "outputs": [],
   "source": [
    "class Solution:\n",
    "    def minDeletions(self, s: str) -> int:\n",
    "        cnt, res, used = collections.Counter(s), 0, set()\n",
    "        for ch, freq in cnt.items():\n",
    "            while freq > 0 and freq in used:\n",
    "                freq -= 1\n",
    "                res += 1\n",
    "            used.add(freq)\n",
    "        return res"
   ]
  }
 ],
 "metadata": {
  "language_info": {
   "name": "python"
  },
  "orig_nbformat": 4
 },
 "nbformat": 4,
 "nbformat_minor": 2
}
