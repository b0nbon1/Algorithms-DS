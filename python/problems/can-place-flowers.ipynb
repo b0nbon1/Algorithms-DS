{
 "cells": [
  {
   "cell_type": "markdown",
   "id": "a43eca85",
   "metadata": {},
   "source": [
    "## 605. Can Place Flowers\n",
    "\n",
    "You have a long flowerbed in which some of the plots are planted, and some are not. However, flowers cannot be planted in **adjacent** plots.\n",
    "\n",
    "Given an integer array `flowerbed` containing `0`'s and `1`'s, where 0 means empty and 1 means not empty, and an integer n, return if n new flowers can be planted in the flowerbed without violating the no-adjacent-flowers rule.\n",
    "\n",
    "##### Example 1:\n",
    "```\n",
    "Input: flowerbed = [1,0,0,0,1], n = 1\n",
    "Output: true\n",
    "```\n",
    "\n",
    "##### Example 2:\n",
    "```\n",
    "Input: flowerbed = [1,0,0,0,1], n = 2\n",
    "Output: false\n",
    "```"
   ]
  },
  {
   "cell_type": "code",
   "execution_count": 1,
   "id": "673d01d0",
   "metadata": {},
   "outputs": [],
   "source": [
    "class Solution:\n",
    "    def canPlaceFlowers(self, flowerbed, n):\n",
    "        # no flowerbed on adjacent plots\n",
    "        # 1 is not empty\n",
    "        # 0 means empty\n",
    "        # [1,0,1,0,1]\n",
    "        # prev --> 1 can plant 0 cannot plant\n",
    "        # cnt is count of free flowerbeds\n",
    "        count, prev = 0, 0\n",
    "\n",
    "        for cur in flowerbed:\n",
    "            if cur == 1:\n",
    "                if prev == 1: # violation!\n",
    "                    count -= 1\n",
    "                prev = 1\n",
    "            else:\n",
    "                if prev == 1: # can't plant\n",
    "                    prev = 0 \n",
    "                else:\n",
    "                    count += 1\n",
    "                    prev = 1 # the cur plot gets taken\n",
    "            \n",
    "        return count >= n"
   ]
  },
  {
   "cell_type": "code",
   "execution_count": null,
   "id": "e072cd9d",
   "metadata": {},
   "outputs": [],
   "source": []
  }
 ],
 "metadata": {
  "kernelspec": {
   "display_name": "Python 3 (ipykernel)",
   "language": "python",
   "name": "python3"
  },
  "language_info": {
   "codemirror_mode": {
    "name": "ipython",
    "version": 3
   },
   "file_extension": ".py",
   "mimetype": "text/x-python",
   "name": "python",
   "nbconvert_exporter": "python",
   "pygments_lexer": "ipython3",
   "version": "3.9.7"
  }
 },
 "nbformat": 4,
 "nbformat_minor": 5
}
