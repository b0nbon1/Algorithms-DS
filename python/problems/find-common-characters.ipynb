{
 "cells": [
  {
   "cell_type": "markdown",
   "metadata": {},
   "source": [
    "## 1002. Find Common Characters\n",
    "\n",
    "Given a string array `words`, return an array of all characters that show up in all strings within the words (including duplicates). You may return the answer in any order.\n",
    "\n",
    "\n",
    "#### Example 1:\n",
    "\n",
    "```sh\n",
    "Input: words = [\"bella\",\"label\",\"roller\"]\n",
    "Output: [\"e\",\"l\",\"l\"]\n",
    "```\n",
    "\n",
    "#### Example 2:\n",
    "\n",
    "```sh\n",
    "Input: words = [\"cool\",\"lock\",\"cook\"]\n",
    "Output: [\"c\",\"o\"]\n",
    "```\n",
    "\n",
    "###### Constraints:\n",
    "\n",
    "- `1 <= words.length` <= 100\n",
    "- `1 <= words[i].length` <= 100\n",
    "- `words[i]` consists of lowercase English letters."
   ]
  },
  {
   "cell_type": "code",
   "execution_count": 3,
   "metadata": {},
   "outputs": [
    {
     "data": {
      "text/plain": [
       "['e', 'l', 'l']"
      ]
     },
     "execution_count": 3,
     "metadata": {},
     "output_type": "execute_result"
    }
   ],
   "source": [
    "class Solution:\n",
    "    def commonChars(self, words):\n",
    "        # 1. Create a list of 26 elements with value infinity\n",
    "        min_freq = [float(\"inf\")] * 26\n",
    "        # 2. Iterate over each word and create a list of 26 elements with the frequency of each character\n",
    "        for word in words:\n",
    "            char_count = [0] * 26\n",
    "            # 3. Iterate over each character in the word and increment the count of the character\n",
    "            for ch in word:\n",
    "                char_count[ord(ch) - ord('a')] += 1\n",
    "            # 4. Update the min_freq list with the minimum frequency of each character\n",
    "            for i in range(26):\n",
    "                min_freq[i] = min(min_freq[i], char_count[i])\n",
    "        # 5. Create a list of characters with the minimum frequency\n",
    "        res = []\n",
    "        # 6. Iterate over the min_freq list and add the character to the result list\n",
    "        for i in range(26):\n",
    "            if min_freq[i] > 0:\n",
    "                for _ in range(min_freq[i]):\n",
    "                    res.append(chr(97+i))\n",
    "        return res\n",
    "\n",
    "sol = Solution()\n",
    "sol.commonChars([\"bella\",\"label\",\"roller\"])"
   ]
  }
 ],
 "metadata": {
  "kernelspec": {
   "display_name": "Python 3",
   "language": "python",
   "name": "python3"
  },
  "language_info": {
   "codemirror_mode": {
    "name": "ipython",
    "version": 3
   },
   "file_extension": ".py",
   "mimetype": "text/x-python",
   "name": "python",
   "nbconvert_exporter": "python",
   "pygments_lexer": "ipython3",
   "version": "3.9.6"
  }
 },
 "nbformat": 4,
 "nbformat_minor": 2
}
