{
 "cells": [
  {
   "cell_type": "markdown",
   "metadata": {},
   "source": [
    "## 2486. Append Characters to String to Make Subsequence\n",
    "\n",
    "You are given two strings `s` and `t` consisting of only lowercase English letters.\n",
    "\n",
    "Return the minimum number of characters that need to be appended to the end of `s` so that `t` becomes a subsequence of `s`.\n",
    "\n",
    "A subsequence is a string that can be derived from another string by deleting some or no characters without changing the order of the remaining characters.\n",
    "\n",
    "### Example 1\n",
    "\n",
    "```\n",
    "Input: s = \"coaching\", t = \"coding\"\n",
    "Output: 4\n",
    "Explanation: Append the characters \"ding\" to the end of s so that s = \"coachingding\".\n",
    "Now, t is a subsequence of s (\"coachingding\").\n",
    "It can be shown that appending any 3 characters to the end of s will never make t a subsequence.\n",
    "```\n",
    "\n",
    "### Example 2\n",
    "\n",
    "```\n",
    "Input: s = \"abcde\", t = \"a\"\n",
    "Output: 0\n",
    "Explanation: t is already a subsequence of s (\"abcde\").\n",
    "```"
   ]
  },
  {
   "cell_type": "code",
   "execution_count": 2,
   "metadata": {},
   "outputs": [
    {
     "data": {
      "text/plain": [
       "1"
      ]
     },
     "execution_count": 2,
     "metadata": {},
     "output_type": "execute_result"
    }
   ],
   "source": [
    "# initialize two pointers, one for the long string and another for the substring\n",
    "# loop through the long string while moving the long string pointer and comparing if they match with the substring. \n",
    "# If they don't check how many letters were able to match and get the missing ones\n",
    "def appendCharacters(s: str, t: str) -> int:\n",
    "        j = 0\n",
    "        for i in range(len(s)):\n",
    "            if j >= len(t):\n",
    "                break\n",
    "            if s[i] == t[j]:\n",
    "                j += 1\n",
    "        return len(t) - j\n",
    "\n",
    "appendCharacters(\"abcde\", \"aeb\")"
   ]
  }
 ],
 "metadata": {
  "kernelspec": {
   "display_name": "Python 3",
   "language": "python",
   "name": "python3"
  },
  "language_info": {
   "codemirror_mode": {
    "name": "ipython",
    "version": 3
   },
   "file_extension": ".py",
   "mimetype": "text/x-python",
   "name": "python",
   "nbconvert_exporter": "python",
   "pygments_lexer": "ipython3",
   "version": "3.9.6"
  }
 },
 "nbformat": 4,
 "nbformat_minor": 2
}
