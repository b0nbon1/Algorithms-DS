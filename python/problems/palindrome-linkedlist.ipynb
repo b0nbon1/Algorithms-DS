{
 "cells": [
  {
   "cell_type": "markdown",
   "metadata": {},
   "source": [
    "## 234. Palindrome Linked List\n",
    "\n",
    "Given the head of a singly linked list, return true if it is a palindrome.\n",
    "\n",
    "#### Example 1:\n",
    "![plai](https://assets.leetcode.com/uploads/2021/03/03/pal1linked-list.jpg)\n",
    "\n",
    "```\n",
    "Input: head = [1,2,2,1]\n",
    "Output: true\n",
    "```"
   ]
  },
  {
   "cell_type": "code",
   "execution_count": null,
   "metadata": {},
   "outputs": [],
   "source": [
    "def isPalindrome(head):\n",
    "  slow = fast  = head\n",
    "  while fast != None and fast.next != None:\n",
    "    fast = fast.next.next\n",
    "    slow = slow.next\n",
    "  if fast != None: # odd nodes: let right half smaller\n",
    "    slow = slow.next\n",
    "  \n",
    "  slow = reverse(slow)\n",
    "  fast = head\n",
    "  while slow != None:\n",
    "    if fast.val != slow.val:\n",
    "      return False\n",
    "    fast = fast.next\n",
    "    slow = slow.next\n",
    "  return True\n",
    "\n",
    "def reverse(node):\n",
    "  prev = None\n",
    "  while node != None:\n",
    "    next = node.next\n",
    "    node.next = prev\n",
    "    prev = node\n",
    "    node = next\n",
    "  return prev\n"
   ]
  }
 ],
 "metadata": {
  "language_info": {
   "name": "python"
  },
  "orig_nbformat": 4
 },
 "nbformat": 4,
 "nbformat_minor": 2
}
