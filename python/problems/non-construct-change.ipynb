{
 "cells": [
  {
   "cell_type": "markdown",
   "metadata": {},
   "source": [
    "## Non-Constructible Change\n",
    "Given an array of positive integers representing the values of coins in your possession, write a function that returns the minimum amount of change (the minimum sum of money) that you cannot create. The given coins can have any positive integer value and aren't necessarily unique (i.e., you can have multiple coins of the same value).\n",
    "\n",
    "For example, if you're given coins = [1, 2, 5], the minimum amount of change that you can't create is 4. If you're given no coins, the minimum amount of change that you can't create is 1.\n",
    "\n",
    "```py\n",
    "# input\n",
    "coins = [5, 7, 1, 1, 2, 3, 22]\n",
    "\n",
    "# output\n",
    "20\n",
    "```"
   ]
  },
  {
   "cell_type": "code",
   "execution_count": null,
   "metadata": {},
   "outputs": [],
   "source": [
    "def nonConstructibleChange(coins):\n",
    "  coins.sort()\n",
    "  currentChange = 0\n",
    "  for x in coins:\n",
    "    if x > currentChange + 1:\n",
    "      return currentChange + 1\n",
    "    currentChange += x\n",
    "  return currentChange + 1"
   ]
  }
 ],
 "metadata": {
  "language_info": {
   "name": "python"
  },
  "orig_nbformat": 4
 },
 "nbformat": 4,
 "nbformat_minor": 2
}
