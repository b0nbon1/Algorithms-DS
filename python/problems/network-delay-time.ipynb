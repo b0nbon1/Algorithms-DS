{
 "cells": [
  {
   "cell_type": "markdown",
   "metadata": {},
   "source": [
    "## 743. Network Delay Time\n",
    "\n",
    "You are given a network of n nodes, labeled from 1 to n. You are also given times, a list of travel times as directed edges times[i] = (ui, vi, wi), where ui is the source node, vi is the target node, and wi is the time it takes for a signal to travel from source to target.\n",
    "\n",
    "We will send a signal from a given node k. Return the time it takes for all the n nodes to receive the signal. If it is impossible for all the n nodes to receive the signal, return -1.\n",
    "\n",
    "\n",
    "#### Example:\n",
    "![](https://assets.leetcode.com/uploads/2019/05/23/931_example_1.png)\n",
    "```\n",
    "Input: times = [[2,1,1],[2,3,1],[3,4,1]], n = 4, k = 2\n",
    "Output: 2\n",
    "```"
   ]
  },
  {
   "cell_type": "code",
   "execution_count": 1,
   "metadata": {},
   "outputs": [
    {
     "data": {
      "text/plain": [
       "2"
      ]
     },
     "execution_count": 1,
     "metadata": {},
     "output_type": "execute_result"
    }
   ],
   "source": [
    "import collections\n",
    "import heapq\n",
    "\n",
    "def networkDelayTime(times, n, k):\n",
    "  # using minHeap and bfs\n",
    "  edges = collections.defaultdict(list)\n",
    "  for u, v, w in times:\n",
    "    edges[u].append((v,w))\n",
    "  \n",
    "  minHeap = [(0,k)]\n",
    "  visit = set()\n",
    "  t = 0\n",
    "  while minHeap:\n",
    "    w1, n1 = heapq.heappop(minHeap)\n",
    "    if n1 in visit:\n",
    "      continue\n",
    "    visit.add(n1)\n",
    "    t = max(t, w1)\n",
    "\n",
    "    for n2, w2 in edges[n1]:\n",
    "      if n2 not in visit:\n",
    "        heapq.heappush(minHeap, (w1+w2, n2))\n",
    "  return t if len(visit) == n else -1\n",
    "\n",
    "networkDelayTime([[2,1,1],[2,3,1],[3,4,1]], 4, 2)"
   ]
  }
 ],
 "metadata": {
  "interpreter": {
   "hash": "bbad1a4849b19327cd10565594258e70edd24369e9a798fab8aa72541e46a1e8"
  },
  "kernelspec": {
   "display_name": "Python 3.9.7 ('base')",
   "language": "python",
   "name": "python3"
  },
  "language_info": {
   "codemirror_mode": {
    "name": "ipython",
    "version": 3
   },
   "file_extension": ".py",
   "mimetype": "text/x-python",
   "name": "python",
   "nbconvert_exporter": "python",
   "pygments_lexer": "ipython3",
   "version": "3.9.7"
  },
  "orig_nbformat": 4
 },
 "nbformat": 4,
 "nbformat_minor": 2
}
