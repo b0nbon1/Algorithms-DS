{
 "cells": [
  {
   "attachments": {},
   "cell_type": "markdown",
   "metadata": {},
   "source": [
    "## 695. Max Area of Island\n",
    "\n",
    "You are given an m x n binary matrix grid. An island is a group of 1's (representing land) connected 4-directionally (horizontal or vertical.) You may assume all four edges of the grid are surrounded by water.\n",
    "\n",
    "The area of an island is the number of cells with a value 1 in the island.\n",
    "\n",
    "Return the maximum area of an island in grid. If there is no island, return 0.\n",
    "\n",
    "#### Example 1:\n",
    "\n",
    "![](https://assets.leetcode.com/uploads/2021/05/01/maxarea1-grid.jpg)\n",
    "\n",
    "```\n",
    "Input: grid = [[0,0,1,0,0,0,0,1,0,0,0,0,0],[0,0,0,0,0,0,0,1,1,1,0,0,0],[0,1,1,0,1,0,0,0,0,0,0,0,0],[0,1,0,0,1,1,0,0,1,0,1,0,0],[0,1,0,0,1,1,0,0,1,1,1,0,0],[0,0,0,0,0,0,0,0,0,0,1,0,0],[0,0,0,0,0,0,0,1,1,1,0,0,0],[0,0,0,0,0,0,0,1,1,0,0,0,0]]\n",
    "Output: 6\n",
    "Explanation: The answer is not 11, because the island must be connected 4-directionally.\n",
    "```\n",
    "\n",
    "#### Example 2:\n",
    "\n",
    "```\n",
    "Input: grid = [[0,0,0,0,0,0,0,0]]\n",
    "Output: 0\n",
    "```"
   ]
  },
  {
   "cell_type": "code",
   "execution_count": null,
   "metadata": {},
   "outputs": [],
   "source": [
    "# solution dfs\n",
    "\n",
    "class Solution:\n",
    "    def maxAreaOfIsland(self, grid) -> int:\n",
    "        if not grid:\n",
    "            return 0\n",
    "\n",
    "        maxArea = 0\n",
    "        visited = set()\n",
    "        cols, rows = len(grid), len(grid[0])\n",
    "        directions = [[-1, 0], [1,0], [0, -1], [0, 1]]\n",
    "\n",
    "        def dfs(col, row, curr_area):\n",
    "            curr_area[0] += 1\n",
    "            visited.add((col, row))\n",
    "            for dc, dr in directions:\n",
    "                c, r = col+dc, row+dr\n",
    "                if (\n",
    "                    c in range(cols)\n",
    "                    and r in range(rows)\n",
    "                    and grid[c][r] == 1\n",
    "                    and (c,r) not in visited):\n",
    "                        dfs(c,r, curr_area)\n",
    "\n",
    "        for c in range(cols):\n",
    "            for r in range(rows):\n",
    "                if grid[c][r] == 1 and (c,r) not in visited:\n",
    "                    curr_a = [0]\n",
    "                    dfs(c,r, curr_a)\n",
    "                    maxArea = max(maxArea, curr_a[0])\n",
    "        \n",
    "        return maxArea\n"
   ]
  }
 ],
 "metadata": {
  "language_info": {
   "name": "python"
  },
  "orig_nbformat": 4
 },
 "nbformat": 4,
 "nbformat_minor": 2
}
