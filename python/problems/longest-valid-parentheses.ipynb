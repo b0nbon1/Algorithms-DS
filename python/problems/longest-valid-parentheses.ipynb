{
 "cells": [
  {
   "cell_type": "markdown",
   "metadata": {},
   "source": [
    "## 32. Longest Valid Parentheses\n",
    "\n",
    "Given a string containing just the characters '(' and ')', find the length of the longest valid (well-formed) parentheses substring.\n",
    "\n",
    "#### Example:\n",
    "```\n",
    "Input: s = \")()())\"\n",
    "Output: 4\n",
    "Explanation: The longest valid parentheses substring is \"()()\".\n",
    "```"
   ]
  },
  {
   "cell_type": "code",
   "execution_count": null,
   "metadata": {},
   "outputs": [],
   "source": [
    "def longestValidParentheses(self, s: str) -> int:\n",
    "  stack = []\n",
    "  stack.append(-1)\n",
    "  ans = 0\n",
    "  for i in range(len(s)):\n",
    "      if s[i] == '(':\n",
    "          stack.append(i)\n",
    "      else:\n",
    "          stack.pop()\n",
    "          if not stack:\n",
    "              stack.append(i)\n",
    "          else:\n",
    "              ans = max(ans, i - stack[-1])\n",
    "  return ans"
   ]
  }
 ],
 "metadata": {
  "language_info": {
   "name": "python"
  },
  "orig_nbformat": 4
 },
 "nbformat": 4,
 "nbformat_minor": 2
}
