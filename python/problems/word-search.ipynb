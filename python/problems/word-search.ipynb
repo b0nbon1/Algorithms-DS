{
 "cells": [
  {
   "cell_type": "markdown",
   "metadata": {},
   "source": [
    "## 79. Word Search\n",
    "\n",
    "Given an m x n grid of characters board and a string word, return true if word exists in the grid.\n",
    "\n",
    "The word can be constructed from letters of sequentially adjacent cells, where adjacent cells are horizontally or vertically neighboring. The same letter cell may not be used more than once.\n",
    "\n",
    "##### Example 1:\n",
    "![](https://assets.leetcode.com/uploads/2020/11/04/word2.jpg)\n",
    "\n",
    "```\n",
    "Input: board = [[\"A\",\"B\",\"C\",\"E\"],[\"S\",\"F\",\"C\",\"S\"],[\"A\",\"D\",\"E\",\"E\"]], word = \"ABCCED\"\n",
    "Output: true\n",
    "```"
   ]
  },
  {
   "cell_type": "code",
   "execution_count": null,
   "metadata": {},
   "outputs": [],
   "source": [
    "def exist(board, word):\n",
    "  ROWS, COLS = len(board), len(board[0])\n",
    "  path = set()\n",
    "  # r => current  row, c = current column, i = letter position\n",
    "  def dfs(r, c, i):\n",
    "    if i == len(word):\n",
    "      return True\n",
    "    if ( r < 0 or c < 0 or r >= ROWS or  c>= COLS or word[i] != board[r][c] or (r, c) in path):\n",
    "      return False\n",
    "    path.add((r,c))\n",
    "    res = dfs(r+1, c, i+1) or dfs(r-1, c, i+1) or dfs(r, c+1, i+1) or dfs(r, c-1, i+1)\n",
    "    path.remove((r,c))\n",
    "    return res\n",
    "  \n",
    "  for r in range(ROWS):\n",
    "    for c in range(COLS):\n",
    "      if dfs(r,c,0):\n",
    "        return True\n",
    "  return False\n",
    "\n"
   ]
  }
 ],
 "metadata": {
  "language_info": {
   "name": "python"
  },
  "orig_nbformat": 4
 },
 "nbformat": 4,
 "nbformat_minor": 2
}
