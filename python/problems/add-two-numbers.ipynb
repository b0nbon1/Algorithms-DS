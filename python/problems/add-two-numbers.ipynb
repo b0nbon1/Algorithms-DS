{
 "cells": [
  {
   "cell_type": "markdown",
   "id": "ada719e2",
   "metadata": {},
   "source": [
    "## Add Two Numbers\n",
    "\n",
    "\n",
    "You are given two **non-empty** linked lists representing two non-negative integers. The digits are stored in **reverse order**, and each of their nodes contains a single digit. Add the two numbers and return the sum as a linked list.\n",
    "\n",
    "You may assume the two numbers do not contain any leading zero, except the number 0 itself.\n",
    "\n",
    "#### Example 1:\n",
    "\n",
    "```\n",
    "Input: a = \"11\", b = \"1\"\n",
    "Output: \"100\"\n",
    "```\n",
    "\n",
    "#### Example 2:\n",
    "\n",
    "```\n",
    "Input: a = \"1010\", b = \"1011\"\n",
    "Output: \"10101\"\n",
    "```\n",
    "\n",
    "**Constarints**\n",
    "- 1 <= a.length, b.length <= 10<sup>4</sup>\n",
    "- a and b consist of only '0' or '1' characters.\n",
    "- Each string does not contain leading zeros except for the zero itself."
   ]
  },
  {
   "cell_type": "code",
   "execution_count": 4,
   "id": "91265dd1",
   "metadata": {},
   "outputs": [],
   "source": [
    "class Solution(object):\n",
    "    def addBinary(self, a, b):\n",
    "        carry = 0\n",
    "        aIndex = len(a) - 1\n",
    "        bIndex = len(b) - 1\n",
    "        result = \"\"\n",
    "        \n",
    "        while aIndex >= 0 or bIndex >= 0:\n",
    "            ai = 1 if aIndex >= 0 and a[aIndex] == \"1\" else 0\n",
    "            bi = 1 if bIndex >= 0 and b[bIndex] == \"1\" else 0\n",
    "            \n",
    "            sum = ai + bi + carry\n",
    "            carry = 1 if sum > 1 else 0\n",
    "            ci = sum % 2\n",
    "            \n",
    "            result = str(ci) + result\n",
    "            \n",
    "            aIndex-=1\n",
    "            bIndex-=1\n",
    "        if carry > 0:\n",
    "            result = str(carry) + result\n",
    "        \n",
    "        return result\n",
    "        "
   ]
  },
  {
   "cell_type": "code",
   "execution_count": 6,
   "id": "ac374108",
   "metadata": {},
   "outputs": [],
   "source": [
    "class Solution(object):\n",
    "    def addBinary(self, a, b):\n",
    "        \"\"\"\n",
    "        :type a: str\n",
    "        :type b: str\n",
    "        :rtype: str\n",
    "        \"\"\"\n",
    "        s=bin(int(a,2) + int(b,2))\n",
    "        return s[2:]\n",
    "        "
   ]
  },
  {
   "cell_type": "code",
   "execution_count": 7,
   "id": "9adb691b",
   "metadata": {},
   "outputs": [
    {
     "name": "stdout",
     "output_type": "stream",
     "text": [
      "10000\n"
     ]
    }
   ],
   "source": [
    "o = Solution()\n",
    "print(o.addBinary(\"1101\", \"11\"))"
   ]
  },
  {
   "cell_type": "code",
   "execution_count": null,
   "id": "c5fb3a53",
   "metadata": {},
   "outputs": [],
   "source": []
  }
 ],
 "metadata": {
  "kernelspec": {
   "display_name": "Python 3 (ipykernel)",
   "language": "python",
   "name": "python3"
  },
  "language_info": {
   "codemirror_mode": {
    "name": "ipython",
    "version": 3
   },
   "file_extension": ".py",
   "mimetype": "text/x-python",
   "name": "python",
   "nbconvert_exporter": "python",
   "pygments_lexer": "ipython3",
   "version": "3.9.7"
  }
 },
 "nbformat": 4,
 "nbformat_minor": 5
}
