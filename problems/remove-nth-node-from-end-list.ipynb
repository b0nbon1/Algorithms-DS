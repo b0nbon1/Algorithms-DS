{
 "cells": [
  {
   "cell_type": "markdown",
   "metadata": {},
   "source": [
    "## 19. Remove Nth Node From End of List\n",
    "\n",
    "Given the head of a linked list, remove the nth node from the end of the list and return its head.\n",
    "\n",
    "#### example 1:\n",
    "\n",
    "```\n",
    "Input: head = [1,2,3,4,5], n = 2\n",
    "Output: [1,2,3,5]\n",
    "```\n",
    "\n",
    "#### Example 2:\n",
    "\n",
    "```\n",
    "Input: head = [1], n = 1\n",
    "Output: []\n",
    "```\n",
    "\n",
    "#### Example 3:\n",
    "\n",
    "```\n",
    "Input: head = [1,2], n = 1\n",
    "Output: [1]\n",
    "```"
   ]
  },
  {
   "cell_type": "code",
   "execution_count": null,
   "metadata": {},
   "outputs": [],
   "source": [
    "# Definition for singly-linked list.\n",
    "# class ListNode:\n",
    "#     def __init__(self, val=0, next=None):\n",
    "#         self.val = val\n",
    "#         self.next = next\n",
    "class Solution:\n",
    "    def removeNthFromEnd(self, head, n):\n",
    "        current = head\n",
    "        i = 0\n",
    "\n",
    "        while current is not None:\n",
    "            current = current.next\n",
    "            i+=1\n",
    "        target = i-n\n",
    "\n",
    "        idx = 0\n",
    "        curr = head\n",
    "        prev = head\n",
    "        temp = head\n",
    "        if target == 0:\n",
    "            head = head.next\n",
    "            return head\n",
    "        while curr is not None:\n",
    "            if idx == target:\n",
    "                temp = curr.next\n",
    "                break\n",
    "            prev = curr\n",
    "            curr = curr.next\n",
    "            idx+=1\n",
    "        \n",
    "        prev.next = temp\n",
    "        \n",
    "        return head\n",
    "            "
   ]
  }
 ],
 "metadata": {
  "language_info": {
   "name": "python"
  },
  "orig_nbformat": 4
 },
 "nbformat": 4,
 "nbformat_minor": 2
}
