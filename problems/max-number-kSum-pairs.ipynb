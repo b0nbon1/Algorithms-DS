{
 "cells": [
  {
   "cell_type": "markdown",
   "metadata": {},
   "source": [
    "## 1679. Max Number of K-Sum Pairs\n",
    "\n",
    "You are given an integer array nums and an integer k.\n",
    "\n",
    "In one operation, you can pick two numbers from the array whose sum equals k and remove them from the array.\n",
    "\n",
    "*Return the maximum number of operations you can perform on the array.*\n",
    "\n",
    "#### Example 1:\n",
    "```\n",
    "Input: nums = [1,2,3,4], k = 5\n",
    "Output: 2\n",
    "Explanation: Starting with nums = [1,2,3,4]:\n",
    "- Remove numbers 1 and 4, then nums = [2,3]\n",
    "- Remove numbers 2 and 3, then nums = []\n",
    "There are no more pairs that sum up to 5, hence a total of 2 operations.\n",
    "```\n",
    "\n",
    "#### Example 2:\n",
    "```\n",
    "Input: nums = [3,1,3,4,3], k = 6\n",
    "Output: 1\n",
    "Explanation: Starting with nums = [3,1,3,4,3]:\n",
    "- Remove the first two 3's, then nums = [1,4,3]\n",
    "There are no more pairs that sum up to 6, hence a total of 1 operation.\n",
    "```"
   ]
  },
  {
   "cell_type": "code",
   "execution_count": 2,
   "metadata": {},
   "outputs": [
    {
     "data": {
      "text/plain": [
       "3"
      ]
     },
     "execution_count": 2,
     "metadata": {},
     "output_type": "execute_result"
    }
   ],
   "source": [
    "def maxOperations(nums, k):\n",
    "    nums.sort()\n",
    "    l,r = 0, len(nums)-1\n",
    "    res = 0\n",
    "    while l < r:\n",
    "      tSum = nums[l] + nums[r]\n",
    "      if tSum == k:\n",
    "        res+=1\n",
    "        l+=1\n",
    "        r-=1\n",
    "      elif tSum < k:\n",
    "        l+=1\n",
    "      else:\n",
    "        r-=1\n",
    "    return res\n",
    "\n",
    "maxOperations([ 3, 3, 3, 3, 3, 3, 3, 4, 5], 6)"
   ]
  },
  {
   "cell_type": "code",
   "execution_count": 8,
   "metadata": {},
   "outputs": [
    {
     "name": "stdout",
     "output_type": "stream",
     "text": [
      "0\n"
     ]
    }
   ],
   "source": [
    "from collections import Counter, defaultdict\n",
    "\n",
    "def maxOperations(nums, k):\n",
    "  res = 0\n",
    "  d = Counter(nums) #count frequency -> {3: 7, 4: 1, 5: 1}\n",
    "  for x in d: # Get x\n",
    "    y = k - x # Get y\n",
    "    if x==y:\n",
    "      res+=d[x]//2\n",
    "    else:\n",
    "      if y in d:\n",
    "        minn = min(d[x], d[y])\n",
    "        res += minn\n",
    "        d[x]-= minn\n",
    "        d[y] -= minn\n",
    "  return res\n",
    "\n",
    "maxOperations([3, 3, 3, 3, 3, 3, 3, 4, 5, 1, 1], 6)"
   ]
  }
 ],
 "metadata": {
  "interpreter": {
   "hash": "31f2aee4e71d21fbe5cf8b01ff0e069b9275f58929596ceb00d14d90e3e16cd6"
  },
  "kernelspec": {
   "display_name": "Python 3.9.7 64-bit",
   "language": "python",
   "name": "python3"
  },
  "language_info": {
   "codemirror_mode": {
    "name": "ipython",
    "version": 3
   },
   "file_extension": ".py",
   "mimetype": "text/x-python",
   "name": "python",
   "nbconvert_exporter": "python",
   "pygments_lexer": "ipython3",
   "version": "3.9.7"
  },
  "orig_nbformat": 4
 },
 "nbformat": 4,
 "nbformat_minor": 2
}
