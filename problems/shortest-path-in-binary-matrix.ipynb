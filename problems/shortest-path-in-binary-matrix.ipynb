{
 "cells": [
  {
   "cell_type": "markdown",
   "metadata": {},
   "source": [
    "## 1091. Shortest Path in Binary Matrix\n",
    "\n",
    "Given an n x n binary matrix grid, return the length of the shortest clear path in the matrix. If there is no clear path, return -1.\n",
    "\n",
    "A clear path in a binary matrix is a path from the top-left cell (i.e., (0, 0)) to the bottom-right cell (i.e., (n - 1, n - 1)) such that:\n",
    "\n",
    "All the visited cells of the path are 0.\n",
    "All the adjacent cells of the path are 8-directionally connected (i.e., they are different and they share an edge or a corner).\n",
    "The length of a clear path is the number of visited cells of this path.\n",
    "\n",
    "#### Example:\n",
    "![](https://assets.leetcode.com/uploads/2021/02/18/example1_1.png)\n",
    "\n",
    "```\n",
    "Input: grid = [[0,1],[1,0]]\n",
    "Output: 2\n",
    "```"
   ]
  },
  {
   "cell_type": "code",
   "execution_count": 1,
   "metadata": {},
   "outputs": [],
   "source": [
    "import collections\n",
    "\n",
    "def shortestPathBinaryMatrix(grid):\n",
    "        n = len(grid)\n",
    "        if grid[0][0] or grid[n-1][n-1]:\n",
    "          return -1\n",
    "        dirs = [[1,0], [-1,0], [0,1], [0,-1], [-1,-1], [1,1], [1,-1], [-1,1]]\n",
    "        seen = set()\n",
    "        queue = collections.deque([(0,0,1)]) # indice, dist\n",
    "        seen.add((0,0))\n",
    "        while queue:\n",
    "          i,j,dist = queue.popleft()\n",
    "          if i == n -1 and j == n - 1:\n",
    "            return dist\n",
    "          for d1, d2 in dirs: \n",
    "            x, y = i + d1, j + d2\n",
    "            if 0 <= x < n and 0 <= y < n:\n",
    "              if (x,y) not in seen and grid[x][y] == 0:\n",
    "                seen.add((x, y))\n",
    "                queue.append((x, y, dist + 1))\n",
    "        return -1"
   ]
  }
 ],
 "metadata": {
  "interpreter": {
   "hash": "bbad1a4849b19327cd10565594258e70edd24369e9a798fab8aa72541e46a1e8"
  },
  "kernelspec": {
   "display_name": "Python 3.9.7 ('base')",
   "language": "python",
   "name": "python3"
  },
  "language_info": {
   "codemirror_mode": {
    "name": "ipython",
    "version": 3
   },
   "file_extension": ".py",
   "mimetype": "text/x-python",
   "name": "python",
   "nbconvert_exporter": "python",
   "pygments_lexer": "ipython3",
   "version": "3.9.7"
  },
  "orig_nbformat": 4
 },
 "nbformat": 4,
 "nbformat_minor": 2
}
