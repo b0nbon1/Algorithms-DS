{
 "cells": [
  {
   "cell_type": "markdown",
   "metadata": {},
   "source": [
    "## Tournament Winner\n",
    "\n",
    "There's an algorithms tournament taking place in which teams of programmers compete against each other to solve algorithmic problems as fast as possible. Teams compete in a round robin, where each team faces off against all other teams. Only two teams compete against each other at a time, and for each competition, one team is designated the home team, while the other team is the away team. In each competition there's always one winner and one loser; there are no ties. A team receives 3 points if it wins and 0 points if it loses. The winner of the tournament is the team that receives the most amount of points.\n",
    "\n",
    "Given an array of pairs representing the teams that have competed against each other and an array containing the results of each competition, write a function that returns the winner of the tournament. The input arrays are named competitions and results, respectively. The competitions array has elements in the form of [homeTeam, awayTeam], where each team is a string of at most 30 characters representing the name of the team. The results array contains information about the winner of each corresponding competition in the competitions array. Specifically, results[i] denotes the winner of competitions[i], where a 1 in the results array means that the home team in the corresponding competition won and a 0 means that the away team won.\n",
    "\n",
    "It's guaranteed that exactly one team will win the tournament and that each team will compete against all other teams exactly once. It's also guaranteed that the tournament will always have at least two teams.\n",
    "\n",
    "```py\n",
    "# input\n",
    "competitions = [\n",
    "  [\"HTML\", \"C#\"],\n",
    "  [\"C#\", \"Python\"],\n",
    "  [\"Python\", \"HTML\"],\n",
    "]\n",
    "results = [0, 0, 1]\n",
    "\n",
    "# output\n",
    "\"Python\"\n",
    "# C# beats HTML, Python Beats C#, and Python Beats HTML.\n",
    "# HTML - 0 points \n",
    "# C# -  3 points\n",
    "# Python -  6 points\n",
    "```"
   ]
  },
  {
   "cell_type": "code",
   "execution_count": 11,
   "metadata": {},
   "outputs": [
    {
     "data": {
      "text/plain": [
       "'Python'"
      ]
     },
     "execution_count": 11,
     "metadata": {},
     "output_type": "execute_result"
    }
   ],
   "source": [
    "def tournamentWinner(competitions, results):\n",
    "  winners = {}\n",
    "  for i, x in enumerate(competitions):\n",
    "    if results[i] == 1:\n",
    "      if x[0] in winners:\n",
    "        winners[x[0]] += 3\n",
    "      else:\n",
    "        winners[x[0]] = 3\n",
    "    else:\n",
    "      if x[1] in winners:\n",
    "        winners[x[1]] += 3\n",
    "      else:\n",
    "        winners[x[1]] = 3\n",
    "  maxi = 0\n",
    "  winner = \"\"\n",
    "  for k in winners.keys():\n",
    "    if winners[k] >= maxi:\n",
    "      winner = k\n",
    "      maxi = winners[k]\n",
    "  return winner\n",
    "competitions = [\n",
    "  [\"HTML\", \"C#\"],\n",
    "  [\"C#\", \"Python\"],\n",
    "  [\"Python\", \"HTML\"],\n",
    "]\n",
    "results = [0, 0, 1]\n",
    "tournamentWinner(competitions, results)\n",
    "\n"
   ]
  }
 ],
 "metadata": {
  "interpreter": {
   "hash": "31f2aee4e71d21fbe5cf8b01ff0e069b9275f58929596ceb00d14d90e3e16cd6"
  },
  "kernelspec": {
   "display_name": "Python 3.9.7 64-bit",
   "language": "python",
   "name": "python3"
  },
  "language_info": {
   "codemirror_mode": {
    "name": "ipython",
    "version": 3
   },
   "file_extension": ".py",
   "mimetype": "text/x-python",
   "name": "python",
   "nbconvert_exporter": "python",
   "pygments_lexer": "ipython3",
   "version": "3.9.7"
  },
  "orig_nbformat": 4
 },
 "nbformat": 4,
 "nbformat_minor": 2
}
