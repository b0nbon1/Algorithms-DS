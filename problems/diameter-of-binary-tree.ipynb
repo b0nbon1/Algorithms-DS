{
 "cells": [
  {
   "cell_type": "markdown",
   "metadata": {},
   "source": [
    "## 543. Diameter of Binary Tree\n",
    "\n",
    "Given the root of a binary tree, return the length of the diameter of the tree.\n",
    "\n",
    "The diameter of a binary tree is the length of the longest path between any two nodes in a tree. This path may or may not pass through the root.\n",
    "\n",
    "The length of a path between two nodes is represented by the number of edges between them.\n",
    "\n",
    "#### Example\n",
    "![](https://assets.leetcode.com/uploads/2021/03/06/diamtree.jpg)\n",
    "\n",
    "```\n",
    "Input: root = [1,2,3,4,5]\n",
    "Output: 3\n",
    "Explanation: 3 is the length of the path [4,2,1,3] or [5,2,1,3].\n",
    "```"
   ]
  },
  {
   "cell_type": "code",
   "execution_count": null,
   "metadata": {},
   "outputs": [],
   "source": [
    "# Definition for a binary tree node.\n",
    "class TreeNode:\n",
    "    def __init__(self, val=0, left=None, right=None):\n",
    "        self.val = val\n",
    "        self.left = left\n",
    "        self.right = right\n",
    "\n",
    "class Solution:\n",
    "    def diameterOfBinaryTree(self, root: Optional[TreeNode]) -> int:\n",
    "      diameter = [0]\n",
    "      self.dfs(root, diameter)\n",
    "      return diameter[0]\n",
    "    def dfs(self, root, diameter):\n",
    "      if not root:\n",
    "          return 0\n",
    "      left_height = self.dfs(root.left, diameter)\n",
    "      right_height = self.dfs(root.right, diameter)\n",
    "      diameter[0] = max(diameter[0], left_height + right_height)\n",
    "      return 1 + max(left_height, right_height)"
   ]
  }
 ],
 "metadata": {
  "language_info": {
   "name": "python"
  },
  "orig_nbformat": 4
 },
 "nbformat": 4,
 "nbformat_minor": 2
}
