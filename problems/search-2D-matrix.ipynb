{
 "cells": [
  {
   "cell_type": "markdown",
   "metadata": {},
   "source": [
    "## 74. Search a 2D Matrix\n",
    "Write an efficient algorithm that searches for a value target in an m x n integer matrix matrix. This matrix has the following properties:\n",
    "\n",
    "  - Integers in each row are sorted from left to right.\n",
    "  - The first integer of each row is greater than the last integer of the previous row.\n",
    "\n",
    "#### Example\n",
    "![matrix](https://assets.leetcode.com/uploads/2020/10/05/mat.jpg)\n",
    "\n",
    "```\n",
    "Input: matrix = [[1,3,5,7],[10,11,16,20],[23,30,34,60]], target = 3\n",
    "Output: true\n",
    "```"
   ]
  },
  {
   "cell_type": "code",
   "execution_count": null,
   "metadata": {},
   "outputs": [],
   "source": [
    "# Assume it's a single array\n",
    "def searchMatrix(self, matrix: List[List[int]], target: int) -> bool:\n",
    "  ROWS, COLS = len(matrix), len(matrix[0])\n",
    "  low, high = 0, (ROWS*COLS)-1\n",
    "  \n",
    "  while low <= high:\n",
    "    mid = (low+high)//2\n",
    "    if target == matrix[mid//COLS][mid%COLS]:\n",
    "      return True\n",
    "    elif target > matrix[mid//COLS][mid%COLS]:\n",
    "      low = mid+1\n",
    "    else:\n",
    "      high = mid - 1\n",
    "  return False"
   ]
  }
 ],
 "metadata": {
  "kernelspec": {
   "display_name": "Python 3.9.7 ('venv': venv)",
   "language": "python",
   "name": "python3"
  },
  "language_info": {
   "name": "python",
   "version": "3.9.7"
  },
  "orig_nbformat": 4,
  "vscode": {
   "interpreter": {
    "hash": "ba90a275493ed7b287c7fce56d5bfaa19e13116c7080f627fc2d8d0c5a936fe0"
   }
  }
 },
 "nbformat": 4,
 "nbformat_minor": 2
}
