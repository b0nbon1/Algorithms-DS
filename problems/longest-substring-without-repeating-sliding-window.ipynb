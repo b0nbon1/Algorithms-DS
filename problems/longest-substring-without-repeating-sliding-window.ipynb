{
 "cells": [
  {
   "cell_type": "markdown",
   "id": "3bd34c99",
   "metadata": {},
   "source": [
    "## 3. Longest Substring Without Repeating Characters\n",
    "\n",
    "Given a string s, find the length of the longest substring without repeating characters.\n",
    "\n",
    "#### Example 1:\n",
    "```\n",
    "Input: s = \"abcabcbb\"\n",
    "Output: 3\n",
    "Explanation: The answer is \"abc\", with the length of 3.\n",
    "```\n",
    "\n",
    "#### Example 2:\n",
    "```\n",
    "Input: s = \"bbbbb\"\n",
    "Output: 1\n",
    "Explanation: The answer is \"b\", with the length of 1.\n",
    "```\n",
    "\n",
    "#### Example 3:\n",
    "\n",
    "```\n",
    "Input: s = \"pwwkew\"\n",
    "Output: 3\n",
    "Explanation: The answer is \"wke\", with the length of 3.\n",
    "Notice that the answer must be a substring, \"pwke\" is a subsequence and not a substring.\n",
    "```"
   ]
  },
  {
   "cell_type": "code",
   "execution_count": 1,
   "id": "1cda0c2f",
   "metadata": {},
   "outputs": [],
   "source": [
    "## Bruteforce\n",
    "\n",
    "class Solution:\n",
    "    def lengthOfLongestSubstring(self, s):\n",
    "        result = 0\n",
    "        for i in s:\n",
    "            for j in s:\n",
    "                subs = s[i:(j+1)]\n",
    "                if len(set(subs)) == len(subs):\n",
    "                    result = max(result, len(subs))\n",
    "        return result"
   ]
  },
  {
   "cell_type": "code",
   "execution_count": 2,
   "id": "3da27700",
   "metadata": {},
   "outputs": [],
   "source": [
    "### Sliding window algorithm\n",
    "\n",
    "class Solution:\n",
    "    def lengthOfLongestSubstring(self, s):\n",
    "        if s == None or len(s) == 0: return 0\n",
    "        set_c = set()\n",
    "        i = j = Max = 0\n",
    "        while i < len(s):\n",
    "            c = s[i]\n",
    "            while c in set_c:\n",
    "                set_c.remove(s[j])\n",
    "                j+=1\n",
    "            set_c.add(c)\n",
    "            Max = max(Max, i-j+1)\n",
    "            i+=1\n",
    "        return Max"
   ]
  },
  {
   "cell_type": "code",
   "execution_count": null,
   "id": "471ad600",
   "metadata": {},
   "outputs": [],
   "source": []
  }
 ],
 "metadata": {
  "kernelspec": {
   "display_name": "Python 3 (ipykernel)",
   "language": "python",
   "name": "python3"
  },
  "language_info": {
   "codemirror_mode": {
    "name": "ipython",
    "version": 3
   },
   "file_extension": ".py",
   "mimetype": "text/x-python",
   "name": "python",
   "nbconvert_exporter": "python",
   "pygments_lexer": "ipython3",
   "version": "3.9.7"
  }
 },
 "nbformat": 4,
 "nbformat_minor": 5
}
