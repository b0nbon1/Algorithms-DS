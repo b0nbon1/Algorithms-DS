{
 "cells": [
  {
   "cell_type": "code",
   "execution_count": null,
   "metadata": {},
   "outputs": [],
   "source": []
  },
  {
   "cell_type": "code",
   "execution_count": null,
   "metadata": {},
   "outputs": [],
   "source": [
    "def rotate(matrix):\n",
    "    \"\"\"\n",
    "    Do not return anything, modify matrix in-place instead.\n",
    "    \"\"\"\n",
    "    l,r = 0, len(matrix)-1\n",
    "\n",
    "    while l < r:\n",
    "        for i in range(r-l):\n",
    "              top, bottom = l, r\n",
    "\n",
    "              # save the topleft\n",
    "              topLeft = matrix[top][l+i]\n",
    "\n",
    "              # move bottom left into top left\n",
    "\n",
    "              matrix[top][l+i] = matrix[bottom-i][l]\n",
    "\n",
    "              # move bottom right into bottom left\n",
    "              matrix[bottom-i][l] = matrix[bottom][r-i]\n",
    "\n",
    "              # move top right into bottom right\n",
    "              matrix[bottom][r-i] = matrix[top+i][r]\n",
    "\n",
    "              # move the original top left into top right\n",
    "              matrix[top+i][r] = topLeft\n",
    "        r-=1\n",
    "        l+=1"
   ]
  }
 ],
 "metadata": {
  "kernelspec": {
   "display_name": "Python 3.9.7 ('venv': venv)",
   "language": "python",
   "name": "python3"
  },
  "language_info": {
   "name": "python",
   "version": "3.9.7"
  },
  "orig_nbformat": 4,
  "vscode": {
   "interpreter": {
    "hash": "ba90a275493ed7b287c7fce56d5bfaa19e13116c7080f627fc2d8d0c5a936fe0"
   }
  }
 },
 "nbformat": 4,
 "nbformat_minor": 2
}
