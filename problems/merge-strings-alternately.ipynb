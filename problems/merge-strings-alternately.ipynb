{
 "cells": [
  {
   "attachments": {},
   "cell_type": "markdown",
   "metadata": {},
   "source": [
    "## 1768. Merge Strings Alternately\n",
    "\n",
    "You are given two strings `word1` and `word2`. Merge the strings by adding letters in alternating order, starting with word1. If a string is longer than the other, append the additional letters onto the end of the merged string.\n",
    "\n",
    "Return the merged string.\n",
    "\n",
    "### Example 1:\n",
    "\n",
    "```sh\n",
    "Input: word1 = \"abc\", word2 = \"pqr\"\n",
    "Output: \"apbqcr\"\n",
    "Explanation: The merged string will be merged as so:\n",
    "word1:  a   b   c\n",
    "word2:    p   q   r\n",
    "merged: a p b q c r\n",
    "```\n",
    "\n",
    "### Example 2:\n",
    "\n",
    "```sh\n",
    "Input: word1 = \"ab\", word2 = \"pqrs\"\n",
    "Output: \"apbqrs\"\n",
    "Explanation: Notice that as word2 is longer, \"rs\" is appended to the end.\n",
    "word1:  a   b \n",
    "word2:    p   q   r   s\n",
    "merged: a p b q   r   s\n",
    "```"
   ]
  },
  {
   "cell_type": "code",
   "execution_count": null,
   "metadata": {},
   "outputs": [],
   "source": [
    "# solution 1\n",
    "\n",
    "class Solution:\n",
    "    def mergeAlternately(self, word1: str, word2: str) -> str:\n",
    "        minL = min(len(word1), len(word2))\n",
    "        word = ''\n",
    "        while word1 != '' and word2 != '':\n",
    "            word += word1[0] + word2[0]\n",
    "            word1, word2 = word1[1:], word2[1:]\n",
    "        if word1 != '':\n",
    "            word += word1\n",
    "        if word2 != '':\n",
    "            word += word2\n",
    "        \n",
    "        return word"
   ]
  },
  {
   "cell_type": "code",
   "execution_count": null,
   "metadata": {},
   "outputs": [],
   "source": [
    "class Solution:\n",
    "    def mergeAlternately(self, word1: str, word2: str) -> str:\n",
    "        minL = min(len(word1), len(word2))\n",
    "        maxL = max(len(word1), len(word2))\n",
    "        p1 = 0\n",
    "        p2 = 0\n",
    "        res = ''\n",
    "        while p1 < len(word1) or p2 < len(word2):\n",
    "            if p1 < len(word1):\n",
    "                res += word1[p1]\n",
    "            if p2 < len(word2):\n",
    "                res += word2[p2]\n",
    "            p1+=1\n",
    "            p2+=1\n",
    "        return res"
   ]
  }
 ],
 "metadata": {
  "language_info": {
   "name": "python"
  },
  "orig_nbformat": 4
 },
 "nbformat": 4,
 "nbformat_minor": 2
}
