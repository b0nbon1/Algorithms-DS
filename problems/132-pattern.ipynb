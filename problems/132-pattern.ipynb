{
 "cells": [
  {
   "cell_type": "markdown",
   "metadata": {},
   "source": [
    "## 456. 132 Pattern\n",
    "\n",
    "Given an array of n integers nums, a 132 pattern is a subsequence of three integers nums[i], nums[j] and nums[k] such that i < j < k and nums[i] < nums[k] < nums[j].\n",
    "\n",
    "Return true if there is a 132 pattern in nums, otherwise, return false.\n",
    "\n",
    "#### Example 1:\n",
    "\n",
    "```\n",
    "Input: nums = [1,2,3,4]\n",
    "Output: false\n",
    "Explanation: There is no 132 pattern in the sequence.``\n",
    "\n",
    "```\n",
    "\n",
    "#### Example 2:\n",
    "```\n",
    "Input: nums = [3,1,4,2]\n",
    "Output: true\n",
    "Explanation: There is a 132 pattern in the sequence: [1, 4, 2].\n",
    "```"
   ]
  },
  {
   "cell_type": "code",
   "execution_count": 7,
   "metadata": {},
   "outputs": [
    {
     "data": {
      "text/plain": [
       "True"
      ]
     },
     "execution_count": 7,
     "metadata": {},
     "output_type": "execute_result"
    }
   ],
   "source": [
    "def find132pattern(nums):\n",
    "  s3 = float(\"-inf\")\n",
    "  st = []\n",
    "  for i in range(len(nums)-1, -1, -1):\n",
    "    if nums[i] < s3: return True\n",
    "    else:\n",
    "      while len(st) != 0 and nums[i] > st[-1]:\n",
    "        s3 = st[-1]\n",
    "        st.pop()\n",
    "    st.append(nums[i])\n",
    "  return False\n",
    "\n",
    "find132pattern([4,1,1,2,1,5,4])"
   ]
  },
  {
   "cell_type": "code",
   "execution_count": 10,
   "metadata": {},
   "outputs": [
    {
     "name": "stdout",
     "output_type": "stream",
     "text": [
      "[[1, 4]]\n",
      "[[1, 1]]\n",
      "[[2, 1]]\n",
      "[[2, 1], [1, 1]]\n"
     ]
    },
    {
     "data": {
      "text/plain": [
       "True"
      ]
     },
     "execution_count": 10,
     "metadata": {},
     "output_type": "execute_result"
    }
   ],
   "source": [
    "def find132pattern(nums):\n",
    "  currMin = nums[0]\n",
    "  stac = []\n",
    "  for n  in nums[1:]:\n",
    "    while stac and n >= stac[-1][0]:\n",
    "      stac.pop()\n",
    "      if stac and n > stac[-1][1]:\n",
    "        return True\n",
    "    stac.append([n, currMin])\n",
    "    currMin = min(n, currMin)\n",
    "  return False\n",
    "\n",
    "find132pattern([4,1,1,2,1,5,4])\n"
   ]
  }
 ],
 "metadata": {
  "interpreter": {
   "hash": "916dbcbb3f70747c44a77c7bcd40155683ae19c65e1c03b4aa3499c5328201f1"
  },
  "kernelspec": {
   "display_name": "Python 3.9.7 64-bit",
   "language": "python",
   "name": "python3"
  },
  "language_info": {
   "codemirror_mode": {
    "name": "ipython",
    "version": 3
   },
   "file_extension": ".py",
   "mimetype": "text/x-python",
   "name": "python",
   "nbconvert_exporter": "python",
   "pygments_lexer": "ipython3",
   "version": "3.9.7"
  },
  "orig_nbformat": 4
 },
 "nbformat": 4,
 "nbformat_minor": 2
}
