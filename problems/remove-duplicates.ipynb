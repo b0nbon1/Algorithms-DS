{
 "cells": [
  {
   "cell_type": "markdown",
   "metadata": {},
   "source": [
    "## Remove duplicates from a sorted linked list: Algoexpert\n",
    "\n",
    "Write a function that takes a list sorted in non-decreasing order and deletes any duplicate nodes from the list. The list should only be traversed once. \n",
    "For example if the linked list is `11->11->11->21->43->43->60` then removeDuplicates() should convert the list to `11->21->43->60.`\n",
    "\n"
   ]
  },
  {
   "cell_type": "code",
   "execution_count": 10,
   "metadata": {},
   "outputs": [
    {
     "data": {
      "text/plain": [
       "<__main__.LinkedList at 0x7fbf5b34deb0>"
      ]
     },
     "execution_count": 10,
     "metadata": {},
     "output_type": "execute_result"
    }
   ],
   "source": [
    "# This is an input class. Do not edit.\n",
    "class LinkedList:\n",
    "    def __init__(self, value):\n",
    "        self.value = value\n",
    "        self.next = None\n",
    "\n",
    "\n",
    "def removeDuplicatesFromLinkedList(linkedList):\n",
    "  temp = linkedList\n",
    "  if temp is None:\n",
    "\t  return None\n",
    "  while temp.next is not None:\n",
    "    if temp.value == temp.next.value:\n",
    "      new = temp.next.next\n",
    "      temp.next = None\n",
    "      temp.next = new\n",
    "    else:\n",
    "      temp = temp.next\n",
    "  return linkedList\n",
    "\n",
    "data = {\n",
    "  \"linkedList\": {\n",
    "    \"head\": \"1\",\n",
    "    \"nodes\": [\n",
    "      {\"id\": \"1\", \"next\": \"1-2\", \"value\": 1},\n",
    "      {\"id\": \"1-2\", \"next\": \"1-3\", \"value\": 1},\n",
    "      {\"id\": \"1-3\", \"next\": \"2\", \"value\": 1},\n",
    "      {\"id\": \"2\", \"next\": \"3\", \"value\": 3},\n",
    "      {\"id\": \"3\", \"next\": \"3-2\", \"value\": 4},\n",
    "      {\"id\": \"3-2\", \"next\": \"3-3\", \"value\": 4},\n",
    "      {\"id\": \"3-3\", \"next\": \"4\", \"value\": 4},\n",
    "      {\"id\": \"4\", \"next\": \"5\", \"value\": 5},\n",
    "      {\"id\": \"5\", \"next\": \"5-2\", \"value\": 6},\n",
    "      {\"id\": \"5-2\", \"next\": None, \"value\": 6}\n",
    "    ]\n",
    "  }\n",
    "}\n",
    "\n",
    "node = LinkedList(1)\n",
    "node.next = LinkedList(2)\n",
    "\n",
    "removeDuplicatesFromLinkedList(node)\n"
   ]
  }
 ],
 "metadata": {
  "interpreter": {
   "hash": "916dbcbb3f70747c44a77c7bcd40155683ae19c65e1c03b4aa3499c5328201f1"
  },
  "kernelspec": {
   "display_name": "Python 3.9.7 64-bit",
   "language": "python",
   "name": "python3"
  },
  "language_info": {
   "codemirror_mode": {
    "name": "ipython",
    "version": 3
   },
   "file_extension": ".py",
   "mimetype": "text/x-python",
   "name": "python",
   "nbconvert_exporter": "python",
   "pygments_lexer": "ipython3",
   "version": "3.10.4"
  },
  "orig_nbformat": 4
 },
 "nbformat": 4,
 "nbformat_minor": 2
}
