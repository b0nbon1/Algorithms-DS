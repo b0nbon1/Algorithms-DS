{
 "cells": [
  {
   "cell_type": "markdown",
   "metadata": {},
   "source": [
    "## 90. Subsets II\n",
    "\n",
    "Given an integer array nums that may contain duplicates, return all possible subsets (the power set).\n",
    "\n",
    "The solution set must not contain duplicate subsets. Return the solution in any order.\n",
    "\n",
    "#### Example 1:\n",
    "\n",
    "```\n",
    "Input: nums = [1,2,2]\n",
    "Output: [[],[1],[1,2],[1,2,2],[2],[2,2]]\n",
    "```"
   ]
  },
  {
   "cell_type": "code",
   "execution_count": 1,
   "metadata": {},
   "outputs": [
    {
     "data": {
      "text/plain": [
       "[[], [1], [1, 2], [1, 2, 2], [2], [2, 2]]"
      ]
     },
     "execution_count": 1,
     "metadata": {},
     "output_type": "execute_result"
    }
   ],
   "source": [
    "def subsetsWithDup(nums):\n",
    "    res = []\n",
    "    nums.sort()\n",
    "    dfs(nums, [], res)\n",
    "    return res\n",
    "def dfs(nums, path, res):\n",
    "  res.append(path)\n",
    "  for i in range(len(nums)):\n",
    "    if i > 0 and nums[i] == nums[i-1]:\n",
    "      continue\n",
    "    dfs(nums[i+1:], path+[nums[i]], res)\n",
    "\n",
    "subsetsWithDup([1,2,2])"
   ]
  }
 ],
 "metadata": {
  "interpreter": {
   "hash": "916dbcbb3f70747c44a77c7bcd40155683ae19c65e1c03b4aa3499c5328201f1"
  },
  "kernelspec": {
   "display_name": "Python 3.9.7 64-bit",
   "language": "python",
   "name": "python3"
  },
  "language_info": {
   "codemirror_mode": {
    "name": "ipython",
    "version": 3
   },
   "file_extension": ".py",
   "mimetype": "text/x-python",
   "name": "python",
   "nbconvert_exporter": "python",
   "pygments_lexer": "ipython3",
   "version": "3.9.7"
  },
  "orig_nbformat": 4
 },
 "nbformat": 4,
 "nbformat_minor": 2
}
