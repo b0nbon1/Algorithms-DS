{
 "cells": [
  {
   "cell_type": "markdown",
   "metadata": {},
   "source": [
    "## 535. Encode and Decode TinyURL\n",
    "\n",
    "> Note: This is a companion problem to the System Design problem: Design TinyURL.\n",
    "\n",
    "TinyURL is a URL shortening service where you enter a URL such as `https://leetcode.com/problems/design-tinyurl `and it returns a short URL such as `http://tinyurl.com/4e9iAk`. Design a class to encode a URL and decode a tiny URL.\n",
    "\n",
    "There is no restriction on how your encode/decode algorithm should work. You just need to ensure that a URL can be encoded to a tiny URL and the tiny URL can be decoded to the original URL.\n",
    "\n",
    "Implement the `Solution` class:\n",
    "\n",
    "- `Solution()` Initializes the object of the system.\n",
    "- `String encode(String longUrl)` Returns a tiny URL for the given `longUrl`.\n",
    "- `String decode(String shortUrl)` Returns the original long URL for the given `shortUrl`. It is guaranteed that the given shortUrl was encoded by the same object."
   ]
  },
  {
   "cell_type": "code",
   "execution_count": 2,
   "metadata": {},
   "outputs": [
    {
     "name": "stdout",
     "output_type": "stream",
     "text": [
      "https://leetcode.com/problems/design-tinyurl\n"
     ]
    }
   ],
   "source": [
    "import random\n",
    "\n",
    "class Codec:\n",
    "    def __init__(self):\n",
    "      self.store = {}\n",
    "      self.uniqueSet = set()\n",
    "\n",
    "    def generateUnique(self):\n",
    "      chars = \"ABCDEFGHIJKLMNOPQRSTUVWXYZ1234567890abcdefghijklmnopqrstuvwxyz\"\n",
    "      while True:\n",
    "        value = \"\".join(random.choice(chars) for _ in range(5))\n",
    "        if value not in self.uniqueSet:\n",
    "          self.uniqueSet.add(value)\n",
    "          return value\n",
    "    def encode(self, longUrl: str) -> str:\n",
    "        uniqueId = self.generateUnique()\n",
    "        shortUrl = \"http://tinyurl.com/\"+uniqueId\n",
    "        self.store[shortUrl] = longUrl\n",
    "        return shortUrl\n",
    "    def decode(self, shortUrl: str) -> str:\n",
    "        return self.store[shortUrl]\n",
    "\n",
    "url = \"https://leetcode.com/problems/design-tinyurl\"\n",
    "codec = Codec()\n",
    "print(codec.decode(codec.encode(url)))"
   ]
  }
 ],
 "metadata": {
  "interpreter": {
   "hash": "916dbcbb3f70747c44a77c7bcd40155683ae19c65e1c03b4aa3499c5328201f1"
  },
  "kernelspec": {
   "display_name": "Python 3.9.7 64-bit",
   "language": "python",
   "name": "python3"
  },
  "language_info": {
   "codemirror_mode": {
    "name": "ipython",
    "version": 3
   },
   "file_extension": ".py",
   "mimetype": "text/x-python",
   "name": "python",
   "nbconvert_exporter": "python",
   "pygments_lexer": "ipython3",
   "version": "3.9.7"
  },
  "orig_nbformat": 4
 },
 "nbformat": 4,
 "nbformat_minor": 2
}
