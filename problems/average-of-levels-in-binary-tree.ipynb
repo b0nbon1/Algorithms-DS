{
 "cells": [
  {
   "cell_type": "markdown",
   "metadata": {},
   "source": [
    "## 637. Average of Levels in Binary Tree\n",
    "\n",
    "Given the root of a binary tree, return the average value of the nodes on each level in the form of an array. Answers within 10-5 of the actual answer will be accepted.\n",
    "\n",
    "#### Example:\n",
    "![](https://assets.leetcode.com/uploads/2021/03/09/avg1-tree.jpg)\n",
    "\n",
    "```\n",
    "Input: root = [3,9,20,null,null,15,7]\n",
    "Output: [3.00000,14.50000,11.00000]\n",
    "Explanation: The average value of nodes on level 0 is 3, on level 1 is 14.5, and on level 2 is 11.\n",
    "Hence return [3, 14.5, 11].\n",
    "```"
   ]
  },
  {
   "cell_type": "code",
   "execution_count": null,
   "metadata": {},
   "outputs": [],
   "source": [
    "# Definition for a binary tree node.\n",
    "class TreeNode:\n",
    "    def __init__(self, val=0, left=None, right=None):\n",
    "        self.val = val\n",
    "        self.left = left\n",
    "        self.right = right\n",
    "\n",
    "class Solution:\n",
    "    def averageOfLevels(self, root):\n",
    "      result = []\n",
    "      if not root: return 0\n",
    "      queue = [root]\n",
    "      while queue:\n",
    "        level_sum = 0\n",
    "        n = len(queue)\n",
    "        for i in range(n):\n",
    "          current = queue.pop(0)\n",
    "          level_sum += current.val\n",
    "          if current.right: queue.append(current.right)\n",
    "          if current.left: queue.append(current.left)\n",
    "        result.append(level_sum/n)\n",
    "      return result\n",
    "\n",
    "\n"
   ]
  }
 ],
 "metadata": {
  "language_info": {
   "name": "python"
  },
  "orig_nbformat": 4
 },
 "nbformat": 4,
 "nbformat_minor": 2
}
