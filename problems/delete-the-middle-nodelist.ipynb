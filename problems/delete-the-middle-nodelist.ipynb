{
 "cells": [
  {
   "cell_type": "markdown",
   "metadata": {},
   "source": [
    "## 2095. Delete the Middle Node of a Linked List\n",
    "\n",
    "You are given the head of a linked list. Delete the middle node, and return the head of the modified linked list.\n",
    "\n",
    "The middle node of a linked list of size n is the ⌊n / 2⌋th node from the start using 0-based indexing, where ⌊x⌋ denotes the largest integer less than or equal to x.\n",
    "\n",
    "For n = 1, 2, 3, 4, and 5, the middle nodes are 0, 1, 1, 2, and 2, respectively.\n",
    "\n",
    "#### Example:\n",
    "![delegtmiddle node](https://assets.leetcode.com/uploads/2021/11/16/eg1drawio.png)\n",
    "```\n",
    "Input: head = [1,3,4,7,1,2,6]\n",
    "Output: [1,3,4,1,2,6]\n",
    "Explanation:\n",
    "The above figure represents the given linked list. The indices of the nodes are written below.\n",
    "Since n = 7, node 3 with value 7 is the middle node, which is marked in red.\n",
    "We return the new list after removing this node. \n",
    "```\n"
   ]
  },
  {
   "cell_type": "code",
   "execution_count": null,
   "metadata": {},
   "outputs": [],
   "source": [
    "# Definition for singly-linked list.\n",
    "class ListNode:\n",
    "    def __init__(self, val=0, next=None):\n",
    "        self.val = val\n",
    "        self.next = next\n",
    "\n",
    "class Solution:\n",
    "    def deleteMiddle(self, head):\n",
    "        dummy = ListNode(0, head)\n",
    "        slow, fast = dummy, dummy.next\n",
    "        while fast and fast.next:\n",
    "          slow = slow.next\n",
    "          fast = fast.next.next\n",
    "        slow.next = slow.next.next if slow.next else None\n",
    "        return dummy.next"
   ]
  }
 ],
 "metadata": {
  "language_info": {
   "name": "python"
  },
  "orig_nbformat": 4
 },
 "nbformat": 4,
 "nbformat_minor": 2
}
