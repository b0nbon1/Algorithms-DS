{
 "cells": [
  {
   "cell_type": "markdown",
   "metadata": {},
   "source": [
    "## 617. Merge Two Binary Trees\n",
    "\n",
    "You are given two binary trees root1 and root2.\n",
    "\n",
    "Imagine that when you put one of them to cover the other, some nodes of the two trees are overlapped while the others are not. You need to merge the two trees into a new binary tree. The merge rule is that if two nodes overlap, then sum node values up as the new value of the merged node. Otherwise, the NOT null node will be used as the node of the new tree.\n",
    "\n",
    "Return the merged tree.\n",
    "\n",
    "Note: The merging process must start from the root nodes of both trees.\n",
    "\n",
    "#### Example:\n",
    "![](https://assets.leetcode.com/uploads/2021/02/05/merge.jpg)\n",
    "\n",
    "```\n",
    "Input: root1 = [1,3,2,5], root2 = [2,1,3,null,4,null,7]\n",
    "Output: [3,4,5,5,4,null,7]\n",
    "```"
   ]
  },
  {
   "cell_type": "code",
   "execution_count": null,
   "metadata": {},
   "outputs": [],
   "source": [
    "# Definition for a binary tree node.\n",
    "class TreeNode:\n",
    "    def __init__(self, val=0, left=None, right=None):\n",
    "        self.val = val\n",
    "        self.left = left\n",
    "        self.right = right\n",
    "\n",
    "class Solution:\n",
    "    def mergeTrees(self, root1: Optional[TreeNode], root2: Optional[TreeNode]) -> Optional[TreeNode]:\n",
    "        if root1 and root2:\n",
    "            root = TreeNode(root1.val + root2.val)\n",
    "            root.left = self.mergeTrees(root1.left, root2.left)\n",
    "            root.right = self.mergeTrees(root1.right, root2.right)\n",
    "            return root\n",
    "        else:\n",
    "            return root1 or root2"
   ]
  }
 ],
 "metadata": {
  "language_info": {
   "name": "python"
  },
  "orig_nbformat": 4
 },
 "nbformat": 4,
 "nbformat_minor": 2
}
