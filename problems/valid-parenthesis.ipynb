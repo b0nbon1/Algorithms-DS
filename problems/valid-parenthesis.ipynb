{
 "cells": [
  {
   "cell_type": "markdown",
   "metadata": {},
   "source": [
    "## 20. Valid Parentheses\n",
    "\n",
    "Given a string s containing just the characters '(', ')', '{', '}', '[' and ']', determine if the input string is valid.\n",
    "\n",
    "An input string is valid if:\n",
    "\n",
    "1. Open brackets must be closed by the same type of brackets.\n",
    "2. Open brackets must be closed in the correct order."
   ]
  },
  {
   "cell_type": "code",
   "execution_count": null,
   "metadata": {},
   "outputs": [],
   "source": [
    "class Solution:\n",
    "    def isValid(self, s: str) -> bool:\n",
    "        brackets = []\n",
    "        for i in s:\n",
    "            if i == \"(\" or i == \"[\" or i == \"{\":\n",
    "                brackets.append(i)\n",
    "            elif len(brackets) == 0:\n",
    "                return False\n",
    "            elif i == \")\" and brackets[-1] == \"(\":\n",
    "                brackets.pop()\n",
    "            elif i == \"}\" and brackets[-1] == \"{\":\n",
    "                brackets.pop()\n",
    "            elif i  == \"]\" and brackets[-1] == \"[\":\n",
    "                brackets.pop()\n",
    "            else:\n",
    "                return False\n",
    "        return len(brackets) == 0"
   ]
  }
 ],
 "metadata": {
  "language_info": {
   "name": "python"
  },
  "orig_nbformat": 4
 },
 "nbformat": 4,
 "nbformat_minor": 2
}
