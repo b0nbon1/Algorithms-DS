{
 "cells": [
  {
   "cell_type": "markdown",
   "metadata": {},
   "source": []
  },
  {
   "cell_type": "code",
   "execution_count": null,
   "metadata": {},
   "outputs": [],
   "source": [
    "# Definition for a binary tree node.\n",
    "# class TreeNode:\n",
    "#     def __init__(self, val=0, left=None, right=None):\n",
    "#         self.val = val\n",
    "#         self.left = left\n",
    "#         self.right = right\n",
    "class Solution:\n",
    "    def rangeSumBST(self, root, low: int, high: int) -> int:\n",
    "        # if root is None, return 0\n",
    "        if not root:\n",
    "            return 0\n",
    "        # if root is not None, check if root.val is in the range\n",
    "        def getVal(val):\n",
    "            return val if low <= val and val <= high else 0\n",
    "        # return the sum of the root value and the sum of the left and right subtrees\n",
    "        return getVal(root.val) + self.rangeSumBST(root.left, low, high) + self.rangeSumBST(root.right, low, high)"
   ]
  }
 ],
 "metadata": {
  "language_info": {
   "name": "python"
  }
 },
 "nbformat": 4,
 "nbformat_minor": 2
}
