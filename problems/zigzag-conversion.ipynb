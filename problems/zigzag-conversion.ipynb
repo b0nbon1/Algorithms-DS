{
 "cells": [
  {
   "cell_type": "markdown",
   "metadata": {},
   "source": [
    "## 6. Zigzag Conversion\n",
    "\n",
    "The string `\"PAYPALISHIRING\"` is written in a zigzag pattern on a given number of rows like this: (you may want to display this pattern in a fixed font for better legibility)\n",
    "\n",
    "```text\n",
    "P   A   H   N\n",
    "A P L S I I G\n",
    "Y   I   R\n",
    "```\n",
    "And then read line by line: `\"PAHNAPLSIIGYIR\"`\n",
    "\n",
    "Write the code that will take a string and make this conversion given a number of rows:\n",
    "\n",
    "`string convert(string s, int numRows);`\n",
    "\n",
    "#### Example 1:\n",
    "\n",
    "```\n",
    "Input: s = \"PAYPALISHIRING\", numRows = 3\n",
    "Output: \"PAHNAPLSIIGYIR\"\n",
    "```\n",
    "\n",
    "#### Example 2:\n",
    "\n",
    "```\n",
    "Input: s = \"PAYPALISHIRING\", numRows = 4\n",
    "Output: \"PINALSIGYAHRPI\"\n",
    "Explanation:\n",
    "P     I    N\n",
    "A   L S  I G\n",
    "Y A   H R\n",
    "P     I\n",
    "```\n",
    "\n",
    "#### Example 3:\n",
    "\n",
    "```\n",
    "Input: s = \"A\", numRows = 1\n",
    "Output: \"A\"\n",
    "```\n",
    "\n",
    "## Solution\n",
    "P ['P', '', '']\n",
    "\n",
    "A ['P', 'A', '']\n",
    "\n",
    "Y ['P', 'A', 'Y']\n",
    "\n",
    "P ['P', 'AP', 'Y']\n",
    "\n",
    "A ['PA', 'AP', 'Y']\n",
    "\n",
    "L ['PA', 'APL', 'Y']\n",
    "\n",
    "I ['PA', 'APL', 'YI']\n",
    "\n",
    "S ['PA', 'APLS', 'YI']\n",
    "\n",
    "H ['PAH', 'APLS', 'YI']\n",
    "\n",
    "I ['PAH', 'APLSI', 'YI']\n",
    "\n",
    "R ['PAH', 'APLSI', 'YIR']\n",
    "\n",
    "I ['PAH', 'APLSII', 'YIR']\n",
    "\n",
    "N ['PAHN', 'APLSII', 'YIR']\n",
    "\n",
    "G ['PAHN', 'APLSIIG', 'YIR']\n"
   ]
  },
  {
   "cell_type": "code",
   "execution_count": 2,
   "metadata": {},
   "outputs": [
    {
     "name": "stdout",
     "output_type": "stream",
     "text": [
      "['', '', '']\n"
     ]
    },
    {
     "data": {
      "text/plain": [
       "'PAHNAPLSIIGYIR'"
      ]
     },
     "execution_count": 2,
     "metadata": {},
     "output_type": "execute_result"
    }
   ],
   "source": [
    "# TODO: incomplete stuff\n",
    "def convert(s, numRows):\n",
    "  if numRows == 1:\n",
    "    return s\n",
    "  row_arr = [\"\"] * numRows\n",
    "  row_idx = 1\n",
    "  going_up = True\n",
    "  print(row_arr)\n",
    "  for ch in s:\n",
    "    row_arr[row_idx-1] += ch\n",
    "    if row_idx == numRows:\n",
    "      going_up = False\n",
    "    elif row_idx == 1:\n",
    "      going_up = True\n",
    "    \n",
    "    if going_up:\n",
    "      row_idx += 1\n",
    "    else:\n",
    "      row_idx -= 1\n",
    "  return \"\".join(row_arr)\n",
    "    \n",
    "\n",
    "convert(\"PAYPALISHIRING\", 3)"
   ]
  }
 ],
 "metadata": {
  "interpreter": {
   "hash": "916dbcbb3f70747c44a77c7bcd40155683ae19c65e1c03b4aa3499c5328201f1"
  },
  "kernelspec": {
   "display_name": "Python 3.9.7 64-bit",
   "language": "python",
   "name": "python3"
  },
  "language_info": {
   "codemirror_mode": {
    "name": "ipython",
    "version": 3
   },
   "file_extension": ".py",
   "mimetype": "text/x-python",
   "name": "python",
   "nbconvert_exporter": "python",
   "pygments_lexer": "ipython3",
   "version": "3.9.7"
  },
  "orig_nbformat": 4
 },
 "nbformat": 4,
 "nbformat_minor": 2
}
