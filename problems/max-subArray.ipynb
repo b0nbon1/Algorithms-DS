{
 "cells": [
  {
   "cell_type": "markdown",
   "id": "00aad245",
   "metadata": {},
   "source": [
    "## Maximum Subarray\n",
    "\n",
    "Given an integer array `nums`, find the contiguous subarray (containing at least one number) which has the largest sum and return its sum.\n",
    "\n",
    "A `subarray` is a `contiguous` part of an array.\n",
    "\n",
    "#### Example 1:\n",
    "\n",
    "```\n",
    "Input: nums = [-2,1,-3,4,-1,2,1,-5,4]\n",
    "Output: 6\n",
    "Explanation: [4,-1,2,1] has the largest sum = 6.\n",
    "```\n",
    "\n",
    "#### Example 2:\n",
    "\n",
    "```\n",
    "Input: nums = [1]\n",
    "Output: 1\n",
    "```\n",
    "#### Example 3:\n",
    "\n",
    "```\n",
    "Input: nums = [5,4,-1,7,8]\n",
    "Output: 23\n",
    "```\n",
    "\n",
    "**Constraints**\n",
    "- 1 <= nums.length <= 10<sup>5</sup>\n",
    "- -10<sup>4</sup> <= nums[i] <= 10<sup>4</sup>\n"
   ]
  },
  {
   "cell_type": "code",
   "execution_count": 4,
   "id": "8e6387e1",
   "metadata": {},
   "outputs": [
    {
     "data": {
      "text/plain": [
       "6"
      ]
     },
     "execution_count": 4,
     "metadata": {},
     "output_type": "execute_result"
    }
   ],
   "source": [
    "# bruteForce\n",
    "def sol(arr):\n",
    "    max= 0\n",
    "    for i in range(0,len(arr)):\n",
    "        sum = 0\n",
    "        for k in range(i, len(arr)):\n",
    "            sum += arr[k]\n",
    "            if sum > max:\n",
    "                max = sum\n",
    "    return max\n",
    "\n",
    "sol([-2,1,-3,4,-1,2,1,-5,4])\n",
    "\n",
    "## O(n^2)"
   ]
  },
  {
   "cell_type": "code",
   "execution_count": 7,
   "id": "8a238579",
   "metadata": {},
   "outputs": [
    {
     "data": {
      "text/plain": [
       "6"
      ]
     },
     "execution_count": 7,
     "metadata": {},
     "output_type": "execute_result"
    }
   ],
   "source": [
    "# kadane algorithms\n",
    "def sol(arr):\n",
    "    n = len(arr)\n",
    "    maxi = sum = arr[0]\n",
    "    for i in range(1, len(arr)):\n",
    "        sum += arr[i]\n",
    "        maxi = max(sum, maxi)\n",
    "        if sum < 0:\n",
    "            sum = 0\n",
    "    return maxi\n",
    "\n",
    "sol([-2,1,-3,4,-1,2,1,-5,4])\n",
    "    "
   ]
  },
  {
   "cell_type": "code",
   "execution_count": null,
   "id": "1e5a9d96",
   "metadata": {},
   "outputs": [],
   "source": []
  }
 ],
 "metadata": {
  "kernelspec": {
   "display_name": "Python 3.9.7 ('venv': venv)",
   "language": "python",
   "name": "python3"
  },
  "language_info": {
   "codemirror_mode": {
    "name": "ipython",
    "version": 3
   },
   "file_extension": ".py",
   "mimetype": "text/x-python",
   "name": "python",
   "nbconvert_exporter": "python",
   "pygments_lexer": "ipython3",
   "version": "3.9.7"
  },
  "vscode": {
   "interpreter": {
    "hash": "ba90a275493ed7b287c7fce56d5bfaa19e13116c7080f627fc2d8d0c5a936fe0"
   }
  }
 },
 "nbformat": 4,
 "nbformat_minor": 5
}
