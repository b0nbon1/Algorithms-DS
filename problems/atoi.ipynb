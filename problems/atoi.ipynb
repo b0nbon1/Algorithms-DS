{
 "cells": [
  {
   "cell_type": "markdown",
   "metadata": {},
   "source": [
    "## 8. String to Integer (atoi)\n",
    "Implement the myAtoi(string s) function, which converts a string to a 32-bit signed integer (similar to C/C++'s atoi function).\n",
    "\n",
    "The algorithm for myAtoi(string s) is as follows:\n",
    "\n",
    "1. Read in and ignore any leading whitespace.\n",
    "2. Check if the next character (if not already at the end of the string) is '-' or '+'. Read this character in if it is either. This determines if the final result is negative or positive respectively. Assume the result is positive if neither is present.\n",
    "3. Read in next the characters until the next non-digit character or the end of the input is reached. The rest of the string is ignored.\n",
    "4. Convert these digits into an integer (i.e. \"123\" -> 123, \"0032\" -> 32). If no digits were read, then the integer is 0. Change the sign as necessary (from step 2).\n",
    "5. If the integer is out of the 32-bit signed integer range [-231, 231 - 1], then clamp the integer so that it remains in the range. Specifically, integers less than -231 should be clamped to -231, and integers greater than 231 - 1 should be clamped to 231 - 1.\n",
    "6. Return the integer as the final result.\n",
    "\n",
    "**Note:**\n",
    "\n",
    "- Only the space character ' ' is considered a whitespace character.\n",
    "- Do not ignore any characters other than the leading whitespace or the rest of the string after the digits.\n",
    "\n"
   ]
  },
  {
   "cell_type": "code",
   "execution_count": null,
   "metadata": {},
   "outputs": [],
   "source": [
    "class Solution:\n",
    "    def myAtoi(self, s: str) -> int:\n",
    "        MAX_NUM = 2 ** 31 - 1\n",
    "        MIN_NUM = -2 ** 31\n",
    "        \n",
    "        # trim the leading white space first\n",
    "        s = s.strip()\n",
    "        sign = 1\n",
    "        index = 0\n",
    "        num = 0\n",
    "        if not s:\n",
    "            return num\n",
    "        \n",
    "        if s[0] == '-':\n",
    "            sign = -1\n",
    "            index += 1\n",
    "        elif s[0] == '+':\n",
    "            index += 1\n",
    "        \n",
    "        while index < len(s) and s[index].isdigit():\n",
    "            curr_digit = ord(s[index]) - ord('0')\n",
    "            if num > MAX_NUM // 10 or (num == MAX_NUM // 10 and curr_digit > 7): # here we do the check before adding current digit\n",
    "                return MAX_NUM if sign == 1 else MIN_NUM\n",
    "            num = num * 10 + curr_digit\n",
    "            index += 1\n",
    "        \n",
    "        num = sign * num\n",
    "        return num "
   ]
  }
 ],
 "metadata": {
  "language_info": {
   "name": "python"
  },
  "orig_nbformat": 4
 },
 "nbformat": 4,
 "nbformat_minor": 2
}
