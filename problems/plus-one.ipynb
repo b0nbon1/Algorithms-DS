{
 "cells": [
  {
   "cell_type": "markdown",
   "metadata": {},
   "source": [
    "## 66. Plus One\n",
    "\n",
    "You are given a large integer represented as an integer array digits, where each digits[i] is the ith digit of the integer. The digits are ordered from most significant to least significant in left-to-right order. The large integer does not contain any leading 0's.\n",
    "\n",
    "Increment the large integer by one and return the resulting array of digits.\n",
    "\n",
    "## Example 1\n",
    "Input: digits = [1,2,3]\n",
    "Output: [1,2,4]\n",
    "Explanation: The array represents the integer 123.\n",
    "Incrementing by one gives 123 + 1 = 124.\n",
    "Thus, the result should be [1,2,4].\n",
    "\n",
    "## Example 2\n",
    "Input: digits = [9]\n",
    "Output: [1,0]\n",
    "Explanation: The array represents the integer 9.\n",
    "Incrementing by one gives 9 + 1 = 10.\n",
    "Thus, the result should be [1,0]."
   ]
  },
  {
   "cell_type": "code",
   "execution_count": null,
   "metadata": {},
   "outputs": [],
   "source": [
    "class Solution:\n",
    "    def plusOne(self, digits: List[int]) -> List[int]:\n",
    "        length = len(digits) - 1\n",
    "        while digits[length] == 9:\n",
    "          digits[length] = 0\n",
    "          length -= 1\n",
    "        if(length < 0):\n",
    "          digits.insert(0,1)\n",
    "        else:\n",
    "          digits[length] += 1\n",
    "        return digits"
   ]
  }
 ],
 "metadata": {
  "language_info": {
   "name": "python"
  },
  "orig_nbformat": 4
 },
 "nbformat": 4,
 "nbformat_minor": 2
}
