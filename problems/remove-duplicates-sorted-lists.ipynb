{
 "cells": [
  {
   "cell_type": "markdown",
   "metadata": {},
   "source": [
    "### 82. Remove Duplicates from Sorted List II\n",
    "\n",
    "Given the head of a sorted linked list, delete all nodes that have duplicate numbers, leaving only distinct numbers from the original list. Return the linked list sorted as well.\n",
    "\n",
    "#### Example 1:\n",
    "\n",
    "![linked-lists](https://assets.leetcode.com/uploads/2021/01/04/linkedlist1.jpg)\n",
    "```\n",
    "Input: head = [1,2,3,3,4,4,5]\n",
    "Output: [1,2,5]\n",
    "```"
   ]
  },
  {
   "cell_type": "code",
   "execution_count": null,
   "metadata": {},
   "outputs": [],
   "source": [
    "# Definition for singly-linked list.\n",
    "# class ListNode:\n",
    "#     def __init__(self, val=0, next=None):\n",
    "#         self.val = val\n",
    "#         self.next = next\n",
    "class Solution:\n",
    "    def deleteDuplicates(self, head):\n",
    "        dummy = ListNode(-1)\n",
    "        dummy.next = head\n",
    "        fast, slow = head, dummy\n",
    "        while fast:\n",
    "            while fast.next and fast.val == fast.next.val:\n",
    "                fast = fast.next\n",
    "            if slow.next == fast:\n",
    "                slow, fast = slow.next, fast.next\n",
    "            else:\n",
    "                slow.next = fast.next\n",
    "                fast = slow.next\n",
    "                \n",
    "        return dummy.next"
   ]
  }
 ],
 "metadata": {
  "language_info": {
   "name": "python"
  },
  "orig_nbformat": 4
 },
 "nbformat": 4,
 "nbformat_minor": 2
}
