{
 "cells": [
  {
   "cell_type": "markdown",
   "id": "07a76a49",
   "metadata": {},
   "source": [
    "## 290. Word Pattern\n",
    "Given a pattern and a string `s`, find if `s` follows the same pattern.\n",
    "\n",
    "Here follow means a **full match**, such that there is a bijection between a letter in pattern and a **non-empty word** in `s`.\n",
    "\n",
    "##### Example 1:\n",
    "```\n",
    "Input: pattern = \"abba\", s = \"dog cat cat dog\"\n",
    "Output: true\n",
    "```\n",
    "\n",
    "##### Example 2:\n",
    "```\n",
    "Input: pattern = \"abba\", s = \"dog cat cat fish\"\n",
    "Output: false\n",
    "```\n",
    "\n",
    "##### Example 2:\n",
    "```\n",
    "Input: pattern = \"aaaa\", s = \"dog cat cat dog\"\n",
    "Output: false\n",
    "```\n",
    "\n",
    "##### Constraints:\n",
    "- 1 <= pattern.length <= 300\n",
    "- pattern contains only lower-case English letters.\n",
    "- 1 <= s.length <= 3000\n",
    "- s contains only lowercase English letters and spaces ' '.\n",
    "- s does not contain any leading or trailing spaces.\n",
    "- All the words in s are separated by a single space."
   ]
  },
  {
   "cell_type": "code",
   "execution_count": null,
   "id": "a241f2c3",
   "metadata": {},
   "outputs": [],
   "source": [
    "class Solution:\n",
    "    def wordPattern(self, pattern, s):\n",
    "        obj = {}\n",
    "        spl = s.split(\" \")\n",
    "        se = set()\n",
    "        if len(pattern) != len(spl):\n",
    "            return False\n",
    "        \n",
    "        for i, x in zip(pattern, spl):\n",
    "            print(obj.get(i), i, x)\n",
    "            if i in obj :\n",
    "                if obj[i] != x:\n",
    "                    return False\n",
    "            elif x in se:\n",
    "                return False\n",
    "            else:\n",
    "                obj[i] = x\n",
    "                se.add(x)\n",
    "        \n",
    "        return True\n",
    "                "
   ]
  }
 ],
 "metadata": {
  "kernelspec": {
   "display_name": "Python 3 (ipykernel)",
   "language": "python",
   "name": "python3"
  },
  "language_info": {
   "codemirror_mode": {
    "name": "ipython",
    "version": 3
   },
   "file_extension": ".py",
   "mimetype": "text/x-python",
   "name": "python",
   "nbconvert_exporter": "python",
   "pygments_lexer": "ipython3",
   "version": "3.9.7"
  }
 },
 "nbformat": 4,
 "nbformat_minor": 5
}
