{
 "cells": [
  {
   "cell_type": "markdown",
   "metadata": {},
   "source": [
    "## 78. Subsets\n",
    "\n",
    "Given an integer array nums of unique elements, return all possible subsets (the power set).\n",
    "\n",
    "The solution set must not contain duplicate subsets. Return the solution in any order.\n",
    "\n",
    "#### Example:\n",
    "\n",
    "```\n",
    "Input: nums = [1,2,3]\n",
    "Output: [[],[1],[2],[1,2],[3],[1,3],[2,3],[1,2,3]]\n",
    "```\n"
   ]
  },
  {
   "cell_type": "code",
   "execution_count": null,
   "metadata": {},
   "outputs": [],
   "source": [
    "class Solution:\n",
    "    def subsets(self, nums: List[int]) -> List[List[int]]:\n",
    "        res = []\n",
    "        self.dfs(nums, [], res)\n",
    "        return res\n",
    "    def dfs(self, nums, path, res):\n",
    "      res.append(path)\n",
    "      for i in range(len(nums)):\n",
    "        self.dfs(nums[i+1:], path+[nums[i]], res)"
   ]
  }
 ],
 "metadata": {
  "language_info": {
   "name": "python"
  },
  "orig_nbformat": 4
 },
 "nbformat": 4,
 "nbformat_minor": 2
}
