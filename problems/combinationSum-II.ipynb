{
 "cells": [
  {
   "cell_type": "markdown",
   "metadata": {},
   "source": [
    "## 40. Combination Sum II\n",
    "\n",
    "Given a collection of candidate numbers (candidates) and a target number (target), find all unique combinations in candidates where the candidate numbers sum to target.\n",
    "\n",
    "Each number in candidates may only be used once in the combination.\n",
    "\n",
    "Note: The solution set must not contain duplicate combinations\n",
    "\n",
    "#### Example 1:\n",
    "```\n",
    "Input: candidates = [10,1,2,7,6,1,5], target = 8\n",
    "Output: \n",
    "[\n",
    "[1,1,6],\n",
    "[1,2,5],\n",
    "[1,7],\n",
    "[2,6]\n",
    "]\n",
    "```"
   ]
  },
  {
   "cell_type": "code",
   "execution_count": 3,
   "metadata": {},
   "outputs": [
    {
     "data": {
      "text/plain": [
       "[[1, 1, 6], [1, 2, 5], [1, 7], [2, 6]]"
      ]
     },
     "execution_count": 3,
     "metadata": {},
     "output_type": "execute_result"
    }
   ],
   "source": [
    "\n",
    "def combinationSum2(candidates, target):\n",
    "    res = []\n",
    "    candidates.sort()\n",
    "    dfs(candidates, target, [], res)\n",
    "    return res\n",
    "def dfs(nums, target, path, res):\n",
    "  if target < 0:\n",
    "    return\n",
    "  if target == 0:\n",
    "    res.append(path)\n",
    "    return\n",
    "  for i in range(len(nums)):\n",
    "    if i > 0 and nums[i] == nums[i-1]:\n",
    "      continue   \n",
    "    if nums[i]> target:\n",
    "        break\n",
    "    dfs(nums[i+1:], target-nums[i], path+[nums[i]], res)\n",
    "\n",
    "combinationSum2([10,1,2,7,6,1,5], 8)"
   ]
  }
 ],
 "metadata": {
  "interpreter": {
   "hash": "916dbcbb3f70747c44a77c7bcd40155683ae19c65e1c03b4aa3499c5328201f1"
  },
  "kernelspec": {
   "display_name": "Python 3.9.7 64-bit",
   "language": "python",
   "name": "python3"
  },
  "language_info": {
   "codemirror_mode": {
    "name": "ipython",
    "version": 3
   },
   "file_extension": ".py",
   "mimetype": "text/x-python",
   "name": "python",
   "nbconvert_exporter": "python",
   "pygments_lexer": "ipython3",
   "version": "3.9.7"
  },
  "orig_nbformat": 4
 },
 "nbformat": 4,
 "nbformat_minor": 2
}
