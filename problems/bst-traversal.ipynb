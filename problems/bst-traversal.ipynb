{
 "cells": [
  {
   "cell_type": "code",
   "execution_count": 3,
   "metadata": {},
   "outputs": [
    {
     "name": "stdout",
     "output_type": "stream",
     "text": [
      "[1, 2, 3, 4, 5, 6, 7]\n",
      "[1, 2, 3, 4, 6, 7]\n"
     ]
    }
   ],
   "source": [
    "def inOrderTraverse(tree, array):\n",
    "  if tree:\n",
    "    inOrderTraverse(tree.left, array)\n",
    "    array.append(tree.value)\n",
    "    inOrderTraverse(tree.right, array)\n",
    "  return array\n",
    "\t\t\n",
    "\n",
    "\n",
    "def preOrderTraverse(tree, array):\n",
    "  if tree:\n",
    "    array.append(tree.value)\n",
    "    preOrderTraverse(tree.left, array)\n",
    "    preOrderTraverse(tree.right, array)\n",
    "  return array\n",
    "\n",
    "\n",
    "def postOrderTraverse(tree, array):\n",
    "  if tree:\n",
    "    postOrderTraverse(tree.left, array)\n",
    "    postOrderTraverse(tree.right, array)\n",
    "    array.append(tree.value)\n",
    "  return array\n",
    "\n",
    "x = [1,2,3,4,5,6,7]\n",
    "print(x)\n",
    "del x[4]\n",
    "print(x)"
   ]
  }
 ],
 "metadata": {
  "interpreter": {
   "hash": "916dbcbb3f70747c44a77c7bcd40155683ae19c65e1c03b4aa3499c5328201f1"
  },
  "kernelspec": {
   "display_name": "Python 3.9.7 64-bit",
   "language": "python",
   "name": "python3"
  },
  "language_info": {
   "codemirror_mode": {
    "name": "ipython",
    "version": 3
   },
   "file_extension": ".py",
   "mimetype": "text/x-python",
   "name": "python",
   "nbconvert_exporter": "python",
   "pygments_lexer": "ipython3",
   "version": "3.9.7"
  },
  "orig_nbformat": 4
 },
 "nbformat": 4,
 "nbformat_minor": 2
}
