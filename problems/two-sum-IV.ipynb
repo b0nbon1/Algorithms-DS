{
 "cells": [
  {
   "cell_type": "code",
   "execution_count": null,
   "metadata": {},
   "outputs": [],
   "source": [
    "class Solution:\n",
    "    def findTarget(self, root, k: int) -> bool:\n",
    "        seen = set()\n",
    "        def dfs(node):\n",
    "            if not node:\n",
    "                return False\n",
    "            if k - node.val in seen:\n",
    "                return True\n",
    "            seen.add(node.val)\n",
    "            return dfs(node.right) or dfs(node.left)\n",
    "        return dfs(root)\n"
   ]
  }
 ],
 "metadata": {
  "language_info": {
   "name": "python"
  },
  "orig_nbformat": 4
 },
 "nbformat": 4,
 "nbformat_minor": 2
}
