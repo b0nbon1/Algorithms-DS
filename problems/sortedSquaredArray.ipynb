{
 "cells": [
  {
   "cell_type": "markdown",
   "metadata": {},
   "source": [
    "## Sorted Square\n",
    "given a sorted array, output a sorted array of the squares of numbers"
   ]
  },
  {
   "cell_type": "code",
   "execution_count": 2,
   "metadata": {},
   "outputs": [
    {
     "data": {
      "text/plain": [
       "[1, 9, 49, 81, 484, 900]"
      ]
     },
     "execution_count": 2,
     "metadata": {},
     "output_type": "execute_result"
    }
   ],
   "source": [
    "def sortedSquaredArray(array):\n",
    "  squared = []\n",
    "  for el in array:\n",
    "    sq = el * el\n",
    "    squared.append(sq)\n",
    "\t\n",
    "  return sorted(squared)\n",
    "\n",
    "sortedSquaredArray([-7, -3, 1, 9, 22, 30])"
   ]
  },
  {
   "cell_type": "code",
   "execution_count": 3,
   "metadata": {},
   "outputs": [
    {
     "data": {
      "text/plain": [
       "[1, 9, 49, 81, 484, 900]"
      ]
     },
     "execution_count": 3,
     "metadata": {},
     "output_type": "execute_result"
    }
   ],
   "source": [
    "def sortedSquaredArray(array):\n",
    "  squared = [0 for _ in array]\n",
    "  smallIdx = 0\n",
    "  largIdx = len(array) - 1\n",
    "\t\n",
    "  for idx in reversed(range(len(array))):\n",
    "    smallerValue = array[smallIdx]\n",
    "    largerValue = array[largIdx]\n",
    "\n",
    "    if abs(smallerValue) > abs(largerValue):\n",
    "      squared[idx] = smallerValue * smallerValue\n",
    "      smallIdx += 1\n",
    "    else:\n",
    "      squared[idx] = largerValue * largerValue\n",
    "      largIdx -= 1\n",
    "  return squared\n",
    "\n",
    "sortedSquaredArray([-7, -3, 1, 9, 22, 30])\n"
   ]
  }
 ],
 "metadata": {
  "interpreter": {
   "hash": "31f2aee4e71d21fbe5cf8b01ff0e069b9275f58929596ceb00d14d90e3e16cd6"
  },
  "kernelspec": {
   "display_name": "Python 3.9.7 64-bit",
   "language": "python",
   "name": "python3"
  },
  "language_info": {
   "codemirror_mode": {
    "name": "ipython",
    "version": 3
   },
   "file_extension": ".py",
   "mimetype": "text/x-python",
   "name": "python",
   "nbconvert_exporter": "python",
   "pygments_lexer": "ipython3",
   "version": "3.10.4"
  },
  "orig_nbformat": 4
 },
 "nbformat": 4,
 "nbformat_minor": 2
}
