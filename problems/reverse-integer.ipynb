{
 "cells": [
  {
   "cell_type": "markdown",
   "id": "0f5287e0",
   "metadata": {},
   "source": [
    "## 7. Reverse Integer\n",
    "Given a signed 32-bit integer `x`, return `x` with its digits reversed. If reversing `x` causes the value to go outside the signed 32-bit integer range `[-231, 231 - 1]`, then return `0`.\n",
    "\n",
    "**Assume the environment does not allow you to store 64-bit integers (signed or unsigned).**\n",
    "\n",
    "###### Example 1:\n",
    "```\n",
    "Input: x = 123\n",
    "Output: 321\n",
    "```\n",
    "\n",
    "###### Example 2:\n",
    "```\n",
    "Input: x = -123\n",
    "Output: -321\n",
    "```\n",
    "\n",
    "###### Example 3:\n",
    "```\n",
    "Input: x = 120\n",
    "Output: 21\n",
    "```\n",
    "\n",
    "##### constraints:\n",
    "- -2<sup>31</sup> <= x <= 2<sup>31</sup> - 1"
   ]
  },
  {
   "cell_type": "code",
   "execution_count": 2,
   "id": "4f9e29eb",
   "metadata": {},
   "outputs": [],
   "source": [
    "# bruteforce solution 0(n)\n",
    "\n",
    "class Solution:\n",
    "    def reverse(self, x):\n",
    "        neg = 1\n",
    "        if x > 2147483647:\n",
    "            return 0\n",
    "        if x < 0:\n",
    "            neg = -1\n",
    "            x = x * -1\n",
    "        xStr = str(x)\n",
    "        result = int(xStr[::-1])\n",
    "        if result > 2147483647:\n",
    "            return 0\n",
    "        \n",
    "        return result * neg\n"
   ]
  },
  {
   "cell_type": "code",
   "execution_count": 3,
   "id": "845ad091",
   "metadata": {},
   "outputs": [],
   "source": [
    "# better solution O(log(n))\n",
    "\n",
    "class Solution:\n",
    "    def reverse(self, x):\n",
    "        res = 0\n",
    "        neg = 1\n",
    "        if x < 0:\n",
    "            neg = -1\n",
    "            x = x * -1\n",
    "        while(x):\n",
    "            if res > (2147483647/10):\n",
    "                return 0\n",
    "            res = res*10 + x%10;\n",
    "            x //= 10\n",
    "        return res * neg"
   ]
  },
  {
   "cell_type": "code",
   "execution_count": null,
   "id": "79824138",
   "metadata": {},
   "outputs": [],
   "source": []
  }
 ],
 "metadata": {
  "kernelspec": {
   "display_name": "Python 3 (ipykernel)",
   "language": "python",
   "name": "python3"
  },
  "language_info": {
   "codemirror_mode": {
    "name": "ipython",
    "version": 3
   },
   "file_extension": ".py",
   "mimetype": "text/x-python",
   "name": "python",
   "nbconvert_exporter": "python",
   "pygments_lexer": "ipython3",
   "version": "3.9.7"
  }
 },
 "nbformat": 4,
 "nbformat_minor": 5
}
