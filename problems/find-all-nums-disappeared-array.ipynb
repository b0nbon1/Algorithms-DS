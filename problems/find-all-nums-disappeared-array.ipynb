{
 "cells": [
  {
   "cell_type": "markdown",
   "metadata": {},
   "source": [
    "## 448. Find All Numbers Disappeared in an Array\n",
    "\n",
    "Given an array nums of n integers where nums[i] is in the range [1, n], return an array of all the integers in the range [1, n] that do not appear in nums.\n",
    "\n",
    "#### Example 1:\n",
    "```\n",
    "Input: nums = [4,3,2,7,8,2,3,1]\n",
    "Output: [5,6]\n",
    "```"
   ]
  },
  {
   "cell_type": "code",
   "execution_count": 2,
   "metadata": {},
   "outputs": [
    {
     "name": "stdout",
     "output_type": "stream",
     "text": [
      "[-4, -3, -2, -7, 8, 2, -3, -1]\n"
     ]
    },
    {
     "data": {
      "text/plain": [
       "[5, 6]"
      ]
     },
     "execution_count": 2,
     "metadata": {},
     "output_type": "execute_result"
    }
   ],
   "source": [
    "def findDisappearedNumbers(nums):\n",
    "    out = []\n",
    "    for i in nums:\n",
    "        index = abs(i)-1\n",
    "        nums[index] = abs(nums[index]) * -1\n",
    "    for i,num in enumerate(nums):\n",
    "        if num > 0:\n",
    "            out.append(i+1)\n",
    "    return out\n",
    "\n",
    "findDisappearedNumbers([4,3,2,7,8,2,3,1])"
   ]
  }
 ],
 "metadata": {
  "interpreter": {
   "hash": "bbad1a4849b19327cd10565594258e70edd24369e9a798fab8aa72541e46a1e8"
  },
  "kernelspec": {
   "display_name": "Python 3.9.7 ('base')",
   "language": "python",
   "name": "python3"
  },
  "language_info": {
   "codemirror_mode": {
    "name": "ipython",
    "version": 3
   },
   "file_extension": ".py",
   "mimetype": "text/x-python",
   "name": "python",
   "nbconvert_exporter": "python",
   "pygments_lexer": "ipython3",
   "version": "3.9.7"
  },
  "orig_nbformat": 4
 },
 "nbformat": 4,
 "nbformat_minor": 2
}
