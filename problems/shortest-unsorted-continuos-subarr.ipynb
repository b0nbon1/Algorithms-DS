{
 "cells": [
  {
   "cell_type": "markdown",
   "metadata": {},
   "source": [
    "## 581. Shortest Unsorted Continuous Subarray\n",
    "\n",
    "Given an integer array nums, you need to find one continuous subarray that if you only sort this subarray in ascending order, then the whole array will be sorted in ascending order.\n",
    "\n",
    "Return the shortest such subarray and output its length.\n",
    "\n",
    "#### Example 1:\n",
    "```\n",
    "Input: nums = [2,6,4,8,10,9,15]\n",
    "Output: 5\n",
    "Explanation: You need to sort [6, 4, 8, 10, 9] in ascending order to make the whole array sorted in ascending order.\n",
    "```\n",
    "#### Example 2:\n",
    "```\n",
    "Input: nums = [1,2,3,4]\n",
    "Output: 0\n",
    "```\n"
   ]
  },
  {
   "cell_type": "code",
   "execution_count": 3,
   "metadata": {},
   "outputs": [
    {
     "data": {
      "text/plain": [
       "5"
      ]
     },
     "execution_count": 3,
     "metadata": {},
     "output_type": "execute_result"
    }
   ],
   "source": [
    "def findUnsortedSubarray(nums):\n",
    "    def find_min_max(l, r):\n",
    "        local_minimum = float('inf')\n",
    "        local_maximum = float('-inf')\n",
    "        for i in range(l, r+1):\n",
    "            if i == len(nums):\n",
    "                break\n",
    "            local_minimum = min(local_minimum, nums[i])\n",
    "            local_maximum = max(local_maximum, nums[i])\n",
    "            \n",
    "        return local_minimum, local_maximum\n",
    "    l, r = 0, len(nums)-1\n",
    "    if  len(nums) < 2:\n",
    "        return 0\n",
    "    while l < len(nums)-1 and nums[l] <= nums[l+1]:\n",
    "        l+=1\n",
    "    while r > 0 and nums[r] >= nums[r-1]:\n",
    "        r-=1\n",
    "    if l > r:\n",
    "        return 0\n",
    "    tempMin, tempMax = find_min_max(l, r+1)\n",
    "    while l > 0 and tempMin < nums[l-1]:\n",
    "      l-=1\n",
    "    while r < len(nums)-1 and tempMax > nums[r+1]:\n",
    "      r+=1\n",
    "    return r-l+1\n",
    "\n",
    "findUnsortedSubarray([2,6,4,8,10,9,15])"
   ]
  }
 ],
 "metadata": {
  "interpreter": {
   "hash": "31f2aee4e71d21fbe5cf8b01ff0e069b9275f58929596ceb00d14d90e3e16cd6"
  },
  "kernelspec": {
   "display_name": "Python 3.9.7 64-bit",
   "language": "python",
   "name": "python3"
  },
  "language_info": {
   "codemirror_mode": {
    "name": "ipython",
    "version": 3
   },
   "file_extension": ".py",
   "mimetype": "text/x-python",
   "name": "python",
   "nbconvert_exporter": "python",
   "pygments_lexer": "ipython3",
   "version": "3.10.4"
  },
  "orig_nbformat": 4
 },
 "nbformat": 4,
 "nbformat_minor": 2
}
