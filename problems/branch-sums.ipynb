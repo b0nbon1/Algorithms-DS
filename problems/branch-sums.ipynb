{
 "cells": [
  {
   "cell_type": "markdown",
   "metadata": {},
   "source": [
    "## Branch Sums\n",
    "\n",
    "Write a function that takes in a Binary Tree and returns a list of its branch sums ordered from leftmost branch sum to rightmost branch sum.\n",
    "\n",
    "A branch sum is the sum of all values in a Binary Tree branch. A Binary Tree branch is a path of nodes in a tree that starts at the root node and ends at any leaf node.\n",
    "\n",
    "Each `BinaryTree` node has an integer `value`, a `left` child node, and a `right` child node. Children nodes can either be `BinaryTree` nodes themselves or `None / null`.\n",
    "\n",
    "```\n",
    "input:\n",
    "tree =     1\n",
    "        /     \\\n",
    "       2       3\n",
    "     /   \\    /  \\\n",
    "    4     5  6    7\n",
    "  /   \\  /\n",
    " 8    9 10\n",
    "\n",
    " output\n",
    "\n",
    " [15, 16, 18, 10, 11]\n",
    "// 15 == 1 + 2 + 4 + 8\n",
    "// 16 == 1 + 2 + 4 + 9\n",
    "// 18 == 1 + 2 + 5 + 10\n",
    "// 10 == 1 + 3 + 6\n",
    "// 11 == 1 + 3 + 7\n",
    "```"
   ]
  },
  {
   "cell_type": "code",
   "execution_count": null,
   "metadata": {},
   "outputs": [],
   "source": [
    "# This is the class of the input root. Do not edit it.\n",
    "class BinaryTree:\n",
    "    def __init__(self, value):\n",
    "        self.value = value\n",
    "        self.left = None\n",
    "        self.right = None\n",
    "\n",
    "def sumPreOrder(root, arr, sum):\n",
    "\tif root is None:\n",
    "\t\treturn\n",
    "\tnewRunningSum = sum + root.value\n",
    "\tif root.left is None and root.right is None:\n",
    "\t\tarr.append(newRunningSum)\n",
    "\t\treturn\n",
    "\tsumPreOrder(root.left, arr, newRunningSum)\n",
    "\tsumPreOrder(root.right, arr, newRunningSum)\n",
    "def branchSums(root):\n",
    "\tarr = []\n",
    "\tsumPreOrder(root, arr, 0)\n",
    "\treturn arr"
   ]
  }
 ],
 "metadata": {
  "kernelspec": {
   "display_name": "Python 3.9.7 ('venv': venv)",
   "language": "python",
   "name": "python3"
  },
  "language_info": {
   "name": "python",
   "version": "3.9.7"
  },
  "orig_nbformat": 4,
  "vscode": {
   "interpreter": {
    "hash": "ba90a275493ed7b287c7fce56d5bfaa19e13116c7080f627fc2d8d0c5a936fe0"
   }
  }
 },
 "nbformat": 4,
 "nbformat_minor": 2
}
