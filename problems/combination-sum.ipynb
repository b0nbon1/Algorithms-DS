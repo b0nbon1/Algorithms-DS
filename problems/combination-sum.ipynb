{
 "cells": [
  {
   "cell_type": "markdown",
   "metadata": {},
   "source": [
    "## 39. Combination Sum\n",
    "\n",
    "Given an array of distinct integers candidates and a target integer target, return a list of all unique combinations of candidates where the chosen numbers sum to target. You may return the combinations in any order.\n",
    "\n",
    "The same number may be chosen from candidates an unlimited number of times. Two combinations are unique if the frequency of at least one of the chosen numbers is different.\n",
    "\n",
    "It is guaranteed that the number of unique combinations that sum up to target is less than 150 combinations for the given input.\n",
    "\n",
    "#### example 1:\n",
    "```\n",
    "Input: candidates = [2,3,6,7], target = 7\n",
    "Output: [[2,2,3],[7]]\n",
    "Explanation:\n",
    "2 and 3 are candidates, and 2 + 2 + 3 = 7. Note that 2 can be used multiple times.\n",
    "7 is a candidate, and 7 = 7.\n",
    "These are the only two combination\n",
    "```\n",
    "\n",
    "#### Example 2:\n",
    "```\n",
    "Input: candidates = [2,3,5], target = 8\n",
    "Output: [[2,2,2,2],[2,3,3],[3,5]]\n",
    "```\n"
   ]
  },
  {
   "cell_type": "code",
   "execution_count": 1,
   "metadata": {},
   "outputs": [
    {
     "data": {
      "text/plain": [
       "[[2, 2, 3]]"
      ]
     },
     "execution_count": 1,
     "metadata": {},
     "output_type": "execute_result"
    }
   ],
   "source": [
    "\n",
    "def combinationSum(candidates, target):\n",
    "        if not candidates: return []\n",
    "\n",
    "        dp = {}\n",
    "        dp[0] = [[]]\n",
    "        for candidate in sorted(candidates):\n",
    "            for n in range(candidate, target + 1):\n",
    "                combinations = dp.get(n - candidate, [])\n",
    "                dp.setdefault(n, [])\n",
    "                for combo in combinations:\n",
    "                    dp[n].append(combo + [candidate])\n",
    "        return dp.get(target, [])\n",
    "\n",
    "combinationSum([2,3,6], 7)\n"
   ]
  },
  {
   "cell_type": "code",
   "execution_count": 3,
   "metadata": {},
   "outputs": [
    {
     "data": {
      "text/plain": [
       "[[1, 1, 1, 1, 1, 1, 1],\n",
       " [1, 1, 1, 1, 1, 2],\n",
       " [1, 1, 1, 1, 3],\n",
       " [1, 1, 1, 2, 2],\n",
       " [1, 1, 2, 3],\n",
       " [1, 2, 2, 2],\n",
       " [1, 3, 3],\n",
       " [1, 6],\n",
       " [2, 2, 3]]"
      ]
     },
     "execution_count": 3,
     "metadata": {},
     "output_type": "execute_result"
    }
   ],
   "source": [
    "def combinationSum(candidates, target):\n",
    "  res = []\n",
    "  candidates.sort()\n",
    "  dfs(candidates, target, [], res)\n",
    "  return res\n",
    "def dfs(candidates, target, path, res):\n",
    "  if target < 0:\n",
    "    return\n",
    "  if target == 0:\n",
    "    res.append(path)\n",
    "    return\n",
    "  for i in range(len(candidates)):\n",
    "    dfs(candidates[i:], target-candidates[i], path+[candidates[i]], res)\n",
    "\n",
    "combinationSum([2,3,6, 1], 7)"
   ]
  }
 ],
 "metadata": {
  "interpreter": {
   "hash": "916dbcbb3f70747c44a77c7bcd40155683ae19c65e1c03b4aa3499c5328201f1"
  },
  "kernelspec": {
   "display_name": "Python 3.9.7 64-bit",
   "language": "python",
   "name": "python3"
  },
  "language_info": {
   "codemirror_mode": {
    "name": "ipython",
    "version": 3
   },
   "file_extension": ".py",
   "mimetype": "text/x-python",
   "name": "python",
   "nbconvert_exporter": "python",
   "pygments_lexer": "ipython3",
   "version": "3.9.7"
  },
  "orig_nbformat": 4
 },
 "nbformat": 4,
 "nbformat_minor": 2
}
