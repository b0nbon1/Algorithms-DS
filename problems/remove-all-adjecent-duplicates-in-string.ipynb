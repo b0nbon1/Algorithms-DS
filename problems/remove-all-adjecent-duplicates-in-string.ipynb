{
 "cells": [
  {
   "cell_type": "markdown",
   "metadata": {},
   "source": [
    "## 1209. Remove All Adjacent Duplicates in String II\n",
    "\n",
    "You are given a string s and an integer k, a k duplicate removal consists of choosing k adjacent and equal letters from s and removing them, causing the left and the right side of the deleted substring to concatenate together.\n",
    "\n",
    "We repeatedly make k duplicate removals on s until we no longer can.\n",
    "\n",
    "Return the final string after all such duplicate removals have been made. It is guaranteed that the answer is unique.\n",
    "\n",
    "#### Example 1\n",
    "```\n",
    "Input: s = \"abcd\", k = 2\n",
    "Output: \"abcd\"\n",
    "Explanation: There's nothing to delete.\n",
    "```\n",
    "\n",
    "#### Example 2\n",
    "```\n",
    "Input: s = \"deeedbbcccbdaa\", k = 3\n",
    "Output: \"aa\"\n",
    "Explanation: \n",
    "First delete \"eee\" and \"ccc\", get \"ddbbbdaa\"\n",
    "Then delete \"bbb\", get \"dddaa\"\n",
    "Finally delete \"ddd\", get \"aa\"\n",
    "```\n",
    "\n",
    "### Example 3:\n",
    "```\n",
    "Input: s = \"pbbcggttciiippooaais\", k = 2\n",
    "Output: \"ps\"\n",
    "```"
   ]
  },
  {
   "cell_type": "code",
   "execution_count": null,
   "metadata": {},
   "outputs": [],
   "source": [
    "# using stacks\n",
    "class Solution:\n",
    "    def removeDuplicates(self, s: str, k: int) -> str:\n",
    "        st = []  # pair of (character, frequence)\n",
    "        for c in s:\n",
    "            if st and st[-1][0] == c:\n",
    "                st[-1][1] += 1  # Increase the frequency\n",
    "            else:\n",
    "                st.append([c, 1])\n",
    "            if st[-1][1] == k:  # If reach enough k duplicate letters -> then remove\n",
    "                st.pop()\n",
    "        print(st)\n",
    "        return \"\".join(c * f for c, f in st)\n",
    "        "
   ]
  }
 ],
 "metadata": {
  "language_info": {
   "name": "python"
  },
  "orig_nbformat": 4
 },
 "nbformat": 4,
 "nbformat_minor": 2
}
