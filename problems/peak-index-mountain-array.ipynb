{
 "cells": [
  {
   "cell_type": "markdown",
   "metadata": {},
   "source": [
    "## 852. Peak Index in a Mountain Array\n",
    "\n",
    "Let's call an array arr a mountain if the following properties hold:\n",
    "\n",
    "- arr.length >= 3\n",
    "- There exists some i with 0 < i < arr.length - 1 such that:\n",
    "  - arr[0] < arr[1] < ... arr[i-1] < arr[i]\n",
    "  - arr[i] > arr[i+1] > ... > arr[arr.length - 1]\n",
    "\n",
    "Given an integer array arr that is guaranteed to be a mountain, return any i such that arr[0] < arr[1] < ... arr[i - 1] < arr[i] > arr[i + 1] > ... > arr[arr.length - 1].\n"
   ]
  },
  {
   "cell_type": "code",
   "execution_count": 2,
   "metadata": {},
   "outputs": [
    {
     "data": {
      "text/plain": [
       "1"
      ]
     },
     "execution_count": 2,
     "metadata": {},
     "output_type": "execute_result"
    }
   ],
   "source": [
    "def peakIndex(arr):\n",
    "  l, r = 0, len(arr) - 1\n",
    "  while l < r:\n",
    "      m = (l + r) // 2\n",
    "      if arr[m] < arr[m + 1]:\n",
    "          l = m + 1\n",
    "      else:\n",
    "          r = m\n",
    "  return l\n",
    "\n",
    "peakIndex([0,2,1,0])"
   ]
  },
  {
   "cell_type": "code",
   "execution_count": 4,
   "metadata": {},
   "outputs": [
    {
     "data": {
      "text/plain": [
       "1"
      ]
     },
     "execution_count": 4,
     "metadata": {},
     "output_type": "execute_result"
    }
   ],
   "source": [
    "def peakIndexInMountainArray(arr):\n",
    "      res = 0\n",
    "      maxValue = float(\"-inf\")\n",
    "      for i in range(len(arr)):\n",
    "        if arr[i] > maxValue:\n",
    "          maxValue = arr[i]\n",
    "          res = i\n",
    "      return res\n",
    "\n",
    "peakIndexInMountainArray([0,2,1,0])"
   ]
  }
 ],
 "metadata": {
  "interpreter": {
   "hash": "bbad1a4849b19327cd10565594258e70edd24369e9a798fab8aa72541e46a1e8"
  },
  "kernelspec": {
   "display_name": "Python 3.9.7 ('base')",
   "language": "python",
   "name": "python3"
  },
  "language_info": {
   "codemirror_mode": {
    "name": "ipython",
    "version": 3
   },
   "file_extension": ".py",
   "mimetype": "text/x-python",
   "name": "python",
   "nbconvert_exporter": "python",
   "pygments_lexer": "ipython3",
   "version": "3.9.7"
  },
  "orig_nbformat": 4
 },
 "nbformat": 4,
 "nbformat_minor": 2
}
