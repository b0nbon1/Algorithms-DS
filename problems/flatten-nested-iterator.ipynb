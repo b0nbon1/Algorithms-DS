{
 "cells": [
  {
   "cell_type": "markdown",
   "metadata": {},
   "source": [
    "## 341. Flatten Nested List Iterator\n",
    "\n",
    "You are given a nested list of integers nestedList. Each element is either an integer or a list whose elements may also be integers or other lists. Implement an iterator to flatten it.\n",
    "\n",
    "Implement the NestedIterator class:\n",
    "\n",
    "  - NestedIterator(List<NestedInteger> nestedList) Initializes the iterator with the nested list nestedList.\n",
    "  - int next() Returns the next integer in the nested list.\n",
    "  - boolean hasNext() Returns true if there are still some integers in the nested list and false otherwise.\n",
    "\n",
    "Your code will be tested with the following pseudocode:\n",
    "\n",
    "```\n",
    "initialize iterator with nestedList\n",
    "res = []\n",
    "while iterator.hasNext()\n",
    "    append iterator.next() to the end of res\n",
    "return res\n",
    "```\n",
    "If res matches the expected flattened list, then your code will be judged as correct.\n",
    "\n",
    "#### example 1\n",
    "\n",
    "```\n",
    "Input: nestedList = [[1,1],2,[1,1]]\n",
    "Output: [1,1,2,1,1]\n",
    "Explanation: By calling next repeatedly until hasNext returns false, the order of elements returned by next should be: [1,1,2,1,1].\n",
    "```\n"
   ]
  },
  {
   "cell_type": "code",
   "execution_count": 2,
   "metadata": {},
   "outputs": [],
   "source": [
    "# \"\"\"\n",
    "# This is the interface that allows for creating nested lists.\n",
    "# You should not implement it, or speculate about its implementation\n",
    "# \"\"\"\n",
    "#class NestedInteger:\n",
    "#    def isInteger(self) -> bool:\n",
    "#        \"\"\"\n",
    "#        @return True if this NestedInteger holds a single integer, rather than a nested list.\n",
    "#        \"\"\"\n",
    "#\n",
    "#    def getInteger(self) -> int:\n",
    "#        \"\"\"\n",
    "#        @return the single integer that this NestedInteger holds, if it holds a single integer\n",
    "#        Return None if this NestedInteger holds a nested list\n",
    "#        \"\"\"\n",
    "#\n",
    "#    def getList(self) -> [NestedInteger]:\n",
    "#        \"\"\"\n",
    "#        @return the nested list that this NestedInteger holds, if it holds a nested list\n",
    "#        Return None if this NestedInteger holds a single integer\n",
    "#        \"\"\"\n",
    "\n",
    "class NestedIterator:\n",
    "    def __init__(self, nestedList):\n",
    "        self.stack = nestedList[::-1]\n",
    "    \n",
    "    def next(self) -> int:\n",
    "      return self.stack.pop().getInteger()\n",
    "    \n",
    "    def hasNext(self) -> bool:\n",
    "      while self.stack:\n",
    "        top = self.stack[-1]\n",
    "        if top.isInteger():\n",
    "          return True\n",
    "        self.stack = self.stack[:-1] + top.getList()[::-1]\n",
    "      return False\n",
    "      \n",
    "         \n",
    "\n",
    "# Your NestedIterator object will be instantiated and called as such:\n",
    "# i, v = NestedIterator(nestedList), []\n",
    "# while i.hasNext(): v.append(i.next())"
   ]
  }
 ],
 "metadata": {
  "interpreter": {
   "hash": "916dbcbb3f70747c44a77c7bcd40155683ae19c65e1c03b4aa3499c5328201f1"
  },
  "kernelspec": {
   "display_name": "Python 3.9.7 64-bit",
   "language": "python",
   "name": "python3"
  },
  "language_info": {
   "codemirror_mode": {
    "name": "ipython",
    "version": 3
   },
   "file_extension": ".py",
   "mimetype": "text/x-python",
   "name": "python",
   "nbconvert_exporter": "python",
   "pygments_lexer": "ipython3",
   "version": "3.10.4"
  },
  "orig_nbformat": 4
 },
 "nbformat": 4,
 "nbformat_minor": 2
}
