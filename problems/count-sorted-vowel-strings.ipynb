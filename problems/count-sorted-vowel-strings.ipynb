{
 "cells": [
  {
   "cell_type": "code",
   "execution_count": 2,
   "metadata": {},
   "outputs": [
    {
     "data": {
      "text/plain": [
       "66045"
      ]
     },
     "execution_count": 2,
     "metadata": {},
     "output_type": "execute_result"
    }
   ],
   "source": [
    "## Backtracking\n",
    "def countVowelStrings(n: int) -> int:\n",
    "    res = { \"count\": 0 }\n",
    "    dfs(n,0, res)\n",
    "    return res[\"count\"]\n",
    "\n",
    "def dfs(n, path, res):\n",
    "  if n == 0:\n",
    "    res[\"count\"]+=1\n",
    "    return\n",
    "  for i in range(5):\n",
    "    if i >= path:\n",
    "      dfs(n-1, i, res)\n",
    "\n",
    "countVowelStrings(33)"
   ]
  },
  {
   "cell_type": "code",
   "execution_count": 3,
   "metadata": {},
   "outputs": [
    {
     "data": {
      "text/plain": [
       "66045"
      ]
     },
     "execution_count": 3,
     "metadata": {},
     "output_type": "execute_result"
    }
   ],
   "source": [
    "# DP\n",
    "def countVowelStrings(n):\n",
    "  dp1 = [i for i in range(5,0,-1)]   # intialize dp matrix\n",
    "\n",
    "  ##for i in range(1,n):\n",
    "  i = 1\n",
    "  while i < n:\n",
    "      dp2 = dp1\n",
    "      for j in range(3,-1,-1):\n",
    "          dp1[j] = dp2[j] + dp1[j + 1]   # dp expression\n",
    "      i+=1\n",
    "  return dp1[0]\n",
    "\n",
    "countVowelStrings(33)"
   ]
  }
 ],
 "metadata": {
  "interpreter": {
   "hash": "916dbcbb3f70747c44a77c7bcd40155683ae19c65e1c03b4aa3499c5328201f1"
  },
  "kernelspec": {
   "display_name": "Python 3.9.7 64-bit",
   "language": "python",
   "name": "python3"
  },
  "language_info": {
   "codemirror_mode": {
    "name": "ipython",
    "version": 3
   },
   "file_extension": ".py",
   "mimetype": "text/x-python",
   "name": "python",
   "nbconvert_exporter": "python",
   "pygments_lexer": "ipython3",
   "version": "3.9.7"
  },
  "orig_nbformat": 4
 },
 "nbformat": 4,
 "nbformat_minor": 2
}
