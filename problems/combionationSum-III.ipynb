{
 "cells": [
  {
   "cell_type": "code",
   "execution_count": 1,
   "metadata": {},
   "outputs": [
    {
     "data": {
      "text/plain": [
       "[[1, 2, 4]]"
      ]
     },
     "execution_count": 1,
     "metadata": {},
     "output_type": "execute_result"
    }
   ],
   "source": [
    "\n",
    "def combinationSum3(k, n):\n",
    "    res = []\n",
    "    dfs(range(1,10), k, n, [], res)\n",
    "    return res\n",
    "def dfs(nums, k, n, path, res):\n",
    "  if k < 0 or n < 0:\n",
    "    return\n",
    "  if k == 0 and n == 0:\n",
    "    res.append(path)\n",
    "    return\n",
    "  for i in range(len(nums)):\n",
    "    dfs(nums[i+1:], k-1, n-nums[i], path+[nums[i]], res)\n",
    "\n",
    "combinationSum3(3,7)"
   ]
  }
 ],
 "metadata": {
  "interpreter": {
   "hash": "31f2aee4e71d21fbe5cf8b01ff0e069b9275f58929596ceb00d14d90e3e16cd6"
  },
  "kernelspec": {
   "display_name": "Python 3.9.7 64-bit",
   "language": "python",
   "name": "python3"
  },
  "language_info": {
   "codemirror_mode": {
    "name": "ipython",
    "version": 3
   },
   "file_extension": ".py",
   "mimetype": "text/x-python",
   "name": "python",
   "nbconvert_exporter": "python",
   "pygments_lexer": "ipython3",
   "version": "3.10.4"
  },
  "orig_nbformat": 4
 },
 "nbformat": 4,
 "nbformat_minor": 2
}
