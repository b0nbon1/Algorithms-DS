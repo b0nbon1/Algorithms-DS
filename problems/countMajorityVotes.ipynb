{
 "cells": [
  {
   "cell_type": "markdown",
   "metadata": {},
   "source": [
    "## Majority element in a list\n",
    "Given a list of n elements. Find the majority element, which appears more than\n",
    "n/2 times. Return 0 in case there is no majority element.\n",
    "\n",
    "## Moore’s Voting Algorithm\n",
    "if all\n",
    "the elements stand against the majority and each element is cancelled with oneelement of majority if there is majority then majority prevails.\n",
    "- Set the first element of the list as majority candidate and initialize the count to\n",
    "be 1.\n",
    "-  Start scanning the list.\n",
    "- If we get some element whose value same as a majority candidate, then\n",
    "we increase the count.\n",
    "- If we get an element whose value is different from the majority candidate,\n",
    "then we decrement the count.\n",
    "- If count become 0, that means we have a new majority candidate. Make\n",
    "the current candidate as majority candidate and reset count to 1.\n",
    "- At the end, we will have the only probable majority candidate.\n",
    "- Now scan through the list once again to see if that candidate we found above\n",
    "have appeared more than n/2 times.\n",
    "\n",
    "Counting approach just scans throw list two times. The Time Complexity of the\n",
    "algorithm is O(n) time. Space Complexity for creating count list is also O(1)"
   ]
  },
  {
   "cell_type": "code",
   "execution_count": 3,
   "metadata": {},
   "outputs": [
    {
     "data": {
      "text/plain": [
       "0"
      ]
     },
     "execution_count": 3,
     "metadata": {},
     "output_type": "execute_result"
    }
   ],
   "source": [
    "def getMajority(arr):\n",
    "  size = len(arr)\n",
    "  majIndex = 0\n",
    "  count = 1\n",
    "  i=1\n",
    "  while i < size:\n",
    "    if arr[majIndex] == arr[i]:\n",
    "      count += 1\n",
    "    else:\n",
    "      count -= 1\n",
    "    if count == 0:\n",
    "      majIndex = i\n",
    "      count = 1\n",
    "    i += 1\n",
    "  candidate = arr[majIndex]\n",
    "  count = 0\n",
    "  i=0\n",
    "  while i < size:\n",
    "    if arr[i] == candidate:\n",
    "      count += 1\n",
    "    i += 1\n",
    "  if count > size / 2:\n",
    "    return arr[majIndex]\n",
    "  else:\n",
    "    return 0 # can also raised exception.\n",
    "\n",
    "getMajority([1,1,1,1,2,2,2,2,2,3,3,5,5,5,5,5,6,7,7,7,7,8,8,8])"
   ]
  }
 ],
 "metadata": {
  "interpreter": {
   "hash": "31f2aee4e71d21fbe5cf8b01ff0e069b9275f58929596ceb00d14d90e3e16cd6"
  },
  "kernelspec": {
   "display_name": "Python 3.9.7 64-bit",
   "language": "python",
   "name": "python3"
  },
  "language_info": {
   "codemirror_mode": {
    "name": "ipython",
    "version": 3
   },
   "file_extension": ".py",
   "mimetype": "text/x-python",
   "name": "python",
   "nbconvert_exporter": "python",
   "pygments_lexer": "ipython3",
   "version": "3.9.7"
  },
  "orig_nbformat": 4
 },
 "nbformat": 4,
 "nbformat_minor": 2
}
