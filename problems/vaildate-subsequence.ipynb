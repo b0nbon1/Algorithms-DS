{
 "cells": [
  {
   "cell_type": "markdown",
   "metadata": {},
   "source": [
    "## aLGOEXPERT: Validate Subsequence\n",
    "\n",
    "Given two non-empty arrays of integers, write a function that determines whether the second array is a subsequence of the first one.\n",
    "\n",
    "#### Example\n",
    "\n",
    "```\n",
    "array = [5,1,22,25,6,-1,8,10]\n",
    "subsequence = [1,6,-1,10]\n",
    "\n",
    "Output: True\n",
    "```"
   ]
  },
  {
   "cell_type": "code",
   "execution_count": 2,
   "metadata": {},
   "outputs": [
    {
     "data": {
      "text/plain": [
       "True"
      ]
     },
     "execution_count": 2,
     "metadata": {},
     "output_type": "execute_result"
    }
   ],
   "source": [
    "def isValidSubsequence(array, sequence):\n",
    "  seqIdx = 0\n",
    "  for x in array:\n",
    "    if seqIdx == len(sequence):\n",
    "      break\n",
    "    if sequence[seqIdx] == x:\n",
    "      seqIdx += 1\n",
    "  return seqIdx == len(sequence)\n",
    "\n",
    "\n",
    "isValidSubsequence([5, 1, 22, 25, 6, -1, 8, 10], [5, -1, 8, 10])\n"
   ]
  }
 ],
 "metadata": {
  "interpreter": {
   "hash": "916dbcbb3f70747c44a77c7bcd40155683ae19c65e1c03b4aa3499c5328201f1"
  },
  "kernelspec": {
   "display_name": "Python 3.9.7 64-bit",
   "language": "python",
   "name": "python3"
  },
  "language_info": {
   "codemirror_mode": {
    "name": "ipython",
    "version": 3
   },
   "file_extension": ".py",
   "mimetype": "text/x-python",
   "name": "python",
   "nbconvert_exporter": "python",
   "pygments_lexer": "ipython3",
   "version": "3.9.7"
  },
  "orig_nbformat": 4
 },
 "nbformat": 4,
 "nbformat_minor": 2
}
