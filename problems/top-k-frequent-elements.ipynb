{
 "cells": [
  {
   "cell_type": "markdown",
   "metadata": {},
   "source": [
    "## 347. Top K Frequent Elements\n",
    "\n",
    "Given an integer array nums and an integer k, return the k most frequent elements. You may return the answer in any order."
   ]
  },
  {
   "cell_type": "code",
   "execution_count": 1,
   "metadata": {},
   "outputs": [],
   "source": [
    "import collections\n",
    "\n",
    "def topKFrequent(nums, k):\n",
    "        buckets = [[] for _ in range(len(nums) + 1)]\n",
    "        number_count = collections.defaultdict(int)\n",
    "        for num in nums:\n",
    "          number_count[num] += 1\n",
    "        for key, values in number_count.items():\n",
    "          buckets[values].append(key)\n",
    "        flatList = []\n",
    "        for i in range(len(buckets)-1, -1,-1):\n",
    "          bucket = buckets[i]\n",
    "          if bucket:\n",
    "            for n in bucket:\n",
    "              flatList.append(n)\n",
    "              if len(flatList) == k:\n",
    "                return flatList"
   ]
  }
 ],
 "metadata": {
  "kernelspec": {
   "display_name": "Python 3.9.7 ('venv': venv)",
   "language": "python",
   "name": "python3"
  },
  "language_info": {
   "codemirror_mode": {
    "name": "ipython",
    "version": 3
   },
   "file_extension": ".py",
   "mimetype": "text/x-python",
   "name": "python",
   "nbconvert_exporter": "python",
   "pygments_lexer": "ipython3",
   "version": "3.9.7"
  },
  "orig_nbformat": 4,
  "vscode": {
   "interpreter": {
    "hash": "ba90a275493ed7b287c7fce56d5bfaa19e13116c7080f627fc2d8d0c5a936fe0"
   }
  }
 },
 "nbformat": 4,
 "nbformat_minor": 2
}
