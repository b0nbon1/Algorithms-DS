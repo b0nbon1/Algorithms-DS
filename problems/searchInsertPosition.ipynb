{
 "cells": [
  {
   "cell_type": "markdown",
   "metadata": {},
   "source": [
    "## 35. Search Insert Position\n",
    "\n",
    "Given a sorted array of distinct integers and a target value, return the index if the target is found. If not, return the index where it would be if it were inserted in order.\n",
    "\n",
    "You must write an algorithm with `O(log n)` runtime complexity.\n",
    "\n",
    "#### Example 1:\n",
    "```\n",
    "Input: nums = [1,3,5,6], target = 5\n",
    "Output: 2\n",
    "```\n",
    "\n",
    "#### Example 2:\n",
    "```\n",
    "Input: nums = [1,3,5,6], target = 2\n",
    "Output: 1\n",
    "```"
   ]
  },
  {
   "cell_type": "code",
   "execution_count": 1,
   "metadata": {},
   "outputs": [],
   "source": [
    "\n",
    "def searchInsert(nums, target):\n",
    "    low = 0\n",
    "    high = len(nums) - 1\n",
    "    mid = 0\n",
    "    while low <= high:\n",
    "        mid = low + (high - low)//2 # avoid overflow\n",
    "        if nums[mid] == target:\n",
    "            return mid\n",
    "        elif target > nums[mid]:\n",
    "            low = mid + 1\n",
    "        else:\n",
    "            high = mid - 1\n",
    "    if mid == high:\n",
    "        return mid+1\n",
    "    else:\n",
    "        return mid\n"
   ]
  }
 ],
 "metadata": {
  "interpreter": {
   "hash": "31f2aee4e71d21fbe5cf8b01ff0e069b9275f58929596ceb00d14d90e3e16cd6"
  },
  "kernelspec": {
   "display_name": "Python 3.9.7 64-bit",
   "language": "python",
   "name": "python3"
  },
  "language_info": {
   "codemirror_mode": {
    "name": "ipython",
    "version": 3
   },
   "file_extension": ".py",
   "mimetype": "text/x-python",
   "name": "python",
   "nbconvert_exporter": "python",
   "pygments_lexer": "ipython3",
   "version": "3.10.4"
  },
  "orig_nbformat": 4
 },
 "nbformat": 4,
 "nbformat_minor": 2
}
