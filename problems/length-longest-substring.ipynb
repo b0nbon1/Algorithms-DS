{
 "cells": [
  {
   "cell_type": "markdown",
   "metadata": {},
   "source": [
    "## 3. Longest Substring Without Repeating Characters\n",
    "Given a string s, find the length of the longest substring without repeating characters.\n",
    "\n",
    "#### Example 1\n",
    "\n",
    "```\n",
    "Input: s = \"abcabcbb\"\n",
    "Output: 3\n",
    "Explanation: The answer is \"abc\", with the length of 3.\n",
    "```"
   ]
  },
  {
   "cell_type": "code",
   "execution_count": null,
   "metadata": {},
   "outputs": [],
   "source": [
    "class Solution:\n",
    "    def lengthOfLongestSubstring(self, s: str) -> int:\n",
    "        unique = {}\n",
    "        l = 0\n",
    "        res = 0\n",
    "        for r in range(len(s)):\n",
    "          if s[r] in unique:\n",
    "            if unique[s[r]] < l:\n",
    "              res = max(res, r-l+1)\n",
    "            else:\n",
    "              l = unique[s[r]] + 1\n",
    "          else:\n",
    "            res = max(res, r-l+1)\n",
    "          unique[s[r]] = r\n",
    "        return res"
   ]
  }
 ],
 "metadata": {
  "language_info": {
   "name": "python"
  },
  "orig_nbformat": 4
 },
 "nbformat": 4,
 "nbformat_minor": 2
}
